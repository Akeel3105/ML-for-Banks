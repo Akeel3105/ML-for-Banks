{
 "cells": [
  {
   "cell_type": "code",
   "execution_count": 1,
   "metadata": {},
   "outputs": [],
   "source": [
    "# Project name"
   ]
  },
  {
   "cell_type": "code",
   "execution_count": 2,
   "metadata": {},
   "outputs": [
    {
     "name": "stdout",
     "output_type": "stream",
     "text": [
      "Name of project: Machine Learning for Banks\n"
     ]
    }
   ],
   "source": [
    "print(\"Name of project: Machine Learning for Banks\")"
   ]
  },
  {
   "cell_type": "code",
   "execution_count": 3,
   "metadata": {},
   "outputs": [],
   "source": [
    "# A brief about problem statement"
   ]
  },
  {
   "cell_type": "code",
   "execution_count": 4,
   "metadata": {},
   "outputs": [
    {
     "data": {
      "text/plain": [
       "'\\nHave you ever wondered how lenders use various factors such as credit score, annual income, the loan amount approved, tenure, \\ndebt-to-income ratio etc. and select your interest rates? \\n\\nThe process, defined as ‘risk-based pricing’, uses a sophisticated algorithm that leverages different determining factors of a \\nloan applicant. Selection of significant factors will help develop a prediction algorithm which can estimate loan interest rates\\nbased on clients’ information. On one hand, knowing the factors will help consumers and borrowers to increase their credit \\nworthiness and place themselves in a better position to negotiate for getting a lower interest rate. On the other hand, this \\nwill help lending companies to get an immediate fixed interest rate estimation based on clients information. Here, your goal is\\nto use a training dataset to predict the loan rate category (1 / 2 / 3) that will be assigned to each loan in our test set.\\n\\nYou can use any combination of the features in the dataset to make your loan rate category predictions. Some features will be\\neasier to use than others.\\n\\nThe evaluation metric for this competition is Weighted F1 Score.\\n'"
      ]
     },
     "execution_count": 4,
     "metadata": {},
     "output_type": "execute_result"
    }
   ],
   "source": [
    "'''\n",
    "Have you ever wondered how lenders use various factors such as credit score, annual income, the loan amount approved, tenure, \n",
    "debt-to-income ratio etc. and select your interest rates? \n",
    "\n",
    "The process, defined as ‘risk-based pricing’, uses a sophisticated algorithm that leverages different determining factors of a \n",
    "loan applicant. Selection of significant factors will help develop a prediction algorithm which can estimate loan interest rates\n",
    "based on clients’ information. On one hand, knowing the factors will help consumers and borrowers to increase their credit \n",
    "worthiness and place themselves in a better position to negotiate for getting a lower interest rate. On the other hand, this \n",
    "will help lending companies to get an immediate fixed interest rate estimation based on clients information. Here, your goal is\n",
    "to use a training dataset to predict the loan rate category (1 / 2 / 3) that will be assigned to each loan in our test set.\n",
    "\n",
    "You can use any combination of the features in the dataset to make your loan rate category predictions. Some features will be\n",
    "easier to use than others.\n",
    "\n",
    "The evaluation metric for this competition is Weighted F1 Score.\n",
    "'''"
   ]
  },
  {
   "cell_type": "code",
   "execution_count": 5,
   "metadata": {},
   "outputs": [],
   "source": [
    "# Importing required libraries"
   ]
  },
  {
   "cell_type": "code",
   "execution_count": 277,
   "metadata": {},
   "outputs": [],
   "source": [
    "import pandas as pd\n",
    "import numpy as np\n",
    "import matplotlib.pyplot as plt\n",
    "%matplotlib inline\n",
    "import seaborn as sns\n",
    "sns.set_style('darkgrid')\n",
    "from sklearn.preprocessing import LabelEncoder,StandardScaler,MinMaxScaler\n",
    "from sklearn.model_selection import train_test_split\n",
    "from sklearn.tree import DecisionTreeClassifier\n",
    "from sklearn.ensemble import RandomForestClassifier,BaggingClassifier,ExtraTreesClassifier\n",
    "from sklearn.metrics import f1_score,roc_curve, auc ,accuracy_score,cohen_kappa_score,confusion_matrix,classification_report,recall_score,precision_score\n",
    "from sklearn.decomposition import PCA\n",
    "from sklearn.neighbors import KNeighborsClassifier\n",
    "from sklearn.linear_model import SGDClassifier\n",
    "from xgboost import XGBClassifier\n",
    "from sklearn.metrics import log_loss\n",
    "from sklearn.naive_bayes import GaussianNB\n",
    "from sklearn.linear_model import LogisticRegression\n",
    "from sklearn.svm import SVC\n",
    "from sklearn.naive_bayes import MultinomialNB,ComplementNB,BernoulliNB\n",
    "import catboost as cb\n",
    "from xgboost import XGBRegressor"
   ]
  },
  {
   "cell_type": "code",
   "execution_count": 7,
   "metadata": {},
   "outputs": [],
   "source": [
    "# Loading dataset"
   ]
  },
  {
   "cell_type": "code",
   "execution_count": 282,
   "metadata": {},
   "outputs": [],
   "source": [
    "train=pd.read_csv(\"train.csv\")\n",
    "test=pd.read_csv(\"test.csv\")"
   ]
  },
  {
   "cell_type": "code",
   "execution_count": 9,
   "metadata": {},
   "outputs": [],
   "source": [
    "# shape of dataset"
   ]
  },
  {
   "cell_type": "code",
   "execution_count": 10,
   "metadata": {},
   "outputs": [
    {
     "name": "stdout",
     "output_type": "stream",
     "text": [
      "shape of training dataset: (164309, 14)\n",
      "shape of test dataset: (109541, 13)\n"
     ]
    }
   ],
   "source": [
    "print(\"shape of training dataset:\",train.shape)\n",
    "print(\"shape of test dataset:\",test.shape)"
   ]
  },
  {
   "cell_type": "code",
   "execution_count": 11,
   "metadata": {},
   "outputs": [],
   "source": [
    "# Basic stats value"
   ]
  },
  {
   "cell_type": "code",
   "execution_count": 12,
   "metadata": {},
   "outputs": [
    {
     "data": {
      "text/html": [
       "<div>\n",
       "<style scoped>\n",
       "    .dataframe tbody tr th:only-of-type {\n",
       "        vertical-align: middle;\n",
       "    }\n",
       "\n",
       "    .dataframe tbody tr th {\n",
       "        vertical-align: top;\n",
       "    }\n",
       "\n",
       "    .dataframe thead th {\n",
       "        text-align: right;\n",
       "    }\n",
       "</style>\n",
       "<table border=\"1\" class=\"dataframe\">\n",
       "  <thead>\n",
       "    <tr style=\"text-align: right;\">\n",
       "      <th></th>\n",
       "      <th>Loan_ID</th>\n",
       "      <th>Annual_Income</th>\n",
       "      <th>Debt_To_Income</th>\n",
       "      <th>Inquiries_Last_6Mo</th>\n",
       "      <th>Months_Since_Deliquency</th>\n",
       "      <th>Number_Open_Accounts</th>\n",
       "      <th>Total_Accounts</th>\n",
       "      <th>Interest_Rate</th>\n",
       "    </tr>\n",
       "  </thead>\n",
       "  <tbody>\n",
       "    <tr>\n",
       "      <th>count</th>\n",
       "      <td>1.643090e+05</td>\n",
       "      <td>1.392070e+05</td>\n",
       "      <td>164309.000000</td>\n",
       "      <td>164309.000000</td>\n",
       "      <td>75930.000000</td>\n",
       "      <td>164309.000000</td>\n",
       "      <td>164309.000000</td>\n",
       "      <td>164309.000000</td>\n",
       "    </tr>\n",
       "    <tr>\n",
       "      <th>mean</th>\n",
       "      <td>1.008216e+07</td>\n",
       "      <td>7.333116e+04</td>\n",
       "      <td>17.207189</td>\n",
       "      <td>0.781698</td>\n",
       "      <td>34.229356</td>\n",
       "      <td>11.193818</td>\n",
       "      <td>25.067665</td>\n",
       "      <td>2.158951</td>\n",
       "    </tr>\n",
       "    <tr>\n",
       "      <th>std</th>\n",
       "      <td>4.743207e+04</td>\n",
       "      <td>6.037750e+04</td>\n",
       "      <td>7.845083</td>\n",
       "      <td>1.034747</td>\n",
       "      <td>21.761180</td>\n",
       "      <td>4.991813</td>\n",
       "      <td>11.583067</td>\n",
       "      <td>0.738364</td>\n",
       "    </tr>\n",
       "    <tr>\n",
       "      <th>min</th>\n",
       "      <td>1.000000e+07</td>\n",
       "      <td>4.000000e+03</td>\n",
       "      <td>0.000000</td>\n",
       "      <td>0.000000</td>\n",
       "      <td>0.000000</td>\n",
       "      <td>0.000000</td>\n",
       "      <td>2.000000</td>\n",
       "      <td>1.000000</td>\n",
       "    </tr>\n",
       "    <tr>\n",
       "      <th>25%</th>\n",
       "      <td>1.004108e+07</td>\n",
       "      <td>4.500000e+04</td>\n",
       "      <td>11.370000</td>\n",
       "      <td>0.000000</td>\n",
       "      <td>16.000000</td>\n",
       "      <td>8.000000</td>\n",
       "      <td>17.000000</td>\n",
       "      <td>2.000000</td>\n",
       "    </tr>\n",
       "    <tr>\n",
       "      <th>50%</th>\n",
       "      <td>1.008216e+07</td>\n",
       "      <td>6.300000e+04</td>\n",
       "      <td>16.840000</td>\n",
       "      <td>0.000000</td>\n",
       "      <td>31.000000</td>\n",
       "      <td>10.000000</td>\n",
       "      <td>23.000000</td>\n",
       "      <td>2.000000</td>\n",
       "    </tr>\n",
       "    <tr>\n",
       "      <th>75%</th>\n",
       "      <td>1.012323e+07</td>\n",
       "      <td>8.869750e+04</td>\n",
       "      <td>22.780000</td>\n",
       "      <td>1.000000</td>\n",
       "      <td>50.000000</td>\n",
       "      <td>14.000000</td>\n",
       "      <td>32.000000</td>\n",
       "      <td>3.000000</td>\n",
       "    </tr>\n",
       "    <tr>\n",
       "      <th>max</th>\n",
       "      <td>1.016431e+07</td>\n",
       "      <td>7.500000e+06</td>\n",
       "      <td>39.990000</td>\n",
       "      <td>8.000000</td>\n",
       "      <td>180.000000</td>\n",
       "      <td>76.000000</td>\n",
       "      <td>156.000000</td>\n",
       "      <td>3.000000</td>\n",
       "    </tr>\n",
       "  </tbody>\n",
       "</table>\n",
       "</div>"
      ],
      "text/plain": [
       "            Loan_ID  Annual_Income  Debt_To_Income  Inquiries_Last_6Mo  \\\n",
       "count  1.643090e+05   1.392070e+05   164309.000000       164309.000000   \n",
       "mean   1.008216e+07   7.333116e+04       17.207189            0.781698   \n",
       "std    4.743207e+04   6.037750e+04        7.845083            1.034747   \n",
       "min    1.000000e+07   4.000000e+03        0.000000            0.000000   \n",
       "25%    1.004108e+07   4.500000e+04       11.370000            0.000000   \n",
       "50%    1.008216e+07   6.300000e+04       16.840000            0.000000   \n",
       "75%    1.012323e+07   8.869750e+04       22.780000            1.000000   \n",
       "max    1.016431e+07   7.500000e+06       39.990000            8.000000   \n",
       "\n",
       "       Months_Since_Deliquency  Number_Open_Accounts  Total_Accounts  \\\n",
       "count             75930.000000         164309.000000   164309.000000   \n",
       "mean                 34.229356             11.193818       25.067665   \n",
       "std                  21.761180              4.991813       11.583067   \n",
       "min                   0.000000              0.000000        2.000000   \n",
       "25%                  16.000000              8.000000       17.000000   \n",
       "50%                  31.000000             10.000000       23.000000   \n",
       "75%                  50.000000             14.000000       32.000000   \n",
       "max                 180.000000             76.000000      156.000000   \n",
       "\n",
       "       Interest_Rate  \n",
       "count  164309.000000  \n",
       "mean        2.158951  \n",
       "std         0.738364  \n",
       "min         1.000000  \n",
       "25%         2.000000  \n",
       "50%         2.000000  \n",
       "75%         3.000000  \n",
       "max         3.000000  "
      ]
     },
     "execution_count": 12,
     "metadata": {},
     "output_type": "execute_result"
    }
   ],
   "source": [
    "train.describe()"
   ]
  },
  {
   "cell_type": "code",
   "execution_count": 13,
   "metadata": {},
   "outputs": [],
   "source": [
    "# Lets see a few rows from top of training dataset"
   ]
  },
  {
   "cell_type": "code",
   "execution_count": 14,
   "metadata": {},
   "outputs": [
    {
     "data": {
      "text/html": [
       "<div>\n",
       "<style scoped>\n",
       "    .dataframe tbody tr th:only-of-type {\n",
       "        vertical-align: middle;\n",
       "    }\n",
       "\n",
       "    .dataframe tbody tr th {\n",
       "        vertical-align: top;\n",
       "    }\n",
       "\n",
       "    .dataframe thead th {\n",
       "        text-align: right;\n",
       "    }\n",
       "</style>\n",
       "<table border=\"1\" class=\"dataframe\">\n",
       "  <thead>\n",
       "    <tr style=\"text-align: right;\">\n",
       "      <th></th>\n",
       "      <th>Loan_ID</th>\n",
       "      <th>Loan_Amount_Requested</th>\n",
       "      <th>Length_Employed</th>\n",
       "      <th>Home_Owner</th>\n",
       "      <th>Annual_Income</th>\n",
       "      <th>Income_Verified</th>\n",
       "      <th>Purpose_Of_Loan</th>\n",
       "      <th>Debt_To_Income</th>\n",
       "      <th>Inquiries_Last_6Mo</th>\n",
       "      <th>Months_Since_Deliquency</th>\n",
       "      <th>Number_Open_Accounts</th>\n",
       "      <th>Total_Accounts</th>\n",
       "      <th>Gender</th>\n",
       "      <th>Interest_Rate</th>\n",
       "    </tr>\n",
       "  </thead>\n",
       "  <tbody>\n",
       "    <tr>\n",
       "      <th>0</th>\n",
       "      <td>10000001</td>\n",
       "      <td>7,000</td>\n",
       "      <td>&lt; 1 year</td>\n",
       "      <td>Rent</td>\n",
       "      <td>68000.0</td>\n",
       "      <td>not verified</td>\n",
       "      <td>car</td>\n",
       "      <td>18.37</td>\n",
       "      <td>0</td>\n",
       "      <td>NaN</td>\n",
       "      <td>9</td>\n",
       "      <td>14</td>\n",
       "      <td>Female</td>\n",
       "      <td>1</td>\n",
       "    </tr>\n",
       "    <tr>\n",
       "      <th>1</th>\n",
       "      <td>10000002</td>\n",
       "      <td>30,000</td>\n",
       "      <td>4 years</td>\n",
       "      <td>Mortgage</td>\n",
       "      <td>NaN</td>\n",
       "      <td>VERIFIED - income</td>\n",
       "      <td>debt_consolidation</td>\n",
       "      <td>14.93</td>\n",
       "      <td>0</td>\n",
       "      <td>17.0</td>\n",
       "      <td>12</td>\n",
       "      <td>24</td>\n",
       "      <td>Female</td>\n",
       "      <td>3</td>\n",
       "    </tr>\n",
       "    <tr>\n",
       "      <th>2</th>\n",
       "      <td>10000003</td>\n",
       "      <td>24,725</td>\n",
       "      <td>7 years</td>\n",
       "      <td>Mortgage</td>\n",
       "      <td>75566.4</td>\n",
       "      <td>VERIFIED - income source</td>\n",
       "      <td>debt_consolidation</td>\n",
       "      <td>15.88</td>\n",
       "      <td>0</td>\n",
       "      <td>NaN</td>\n",
       "      <td>12</td>\n",
       "      <td>16</td>\n",
       "      <td>Male</td>\n",
       "      <td>3</td>\n",
       "    </tr>\n",
       "    <tr>\n",
       "      <th>3</th>\n",
       "      <td>10000004</td>\n",
       "      <td>16,000</td>\n",
       "      <td>&lt; 1 year</td>\n",
       "      <td>NaN</td>\n",
       "      <td>56160.0</td>\n",
       "      <td>VERIFIED - income source</td>\n",
       "      <td>debt_consolidation</td>\n",
       "      <td>14.34</td>\n",
       "      <td>3</td>\n",
       "      <td>NaN</td>\n",
       "      <td>16</td>\n",
       "      <td>22</td>\n",
       "      <td>Male</td>\n",
       "      <td>3</td>\n",
       "    </tr>\n",
       "  </tbody>\n",
       "</table>\n",
       "</div>"
      ],
      "text/plain": [
       "    Loan_ID Loan_Amount_Requested Length_Employed Home_Owner  Annual_Income  \\\n",
       "0  10000001                 7,000        < 1 year       Rent        68000.0   \n",
       "1  10000002                30,000         4 years   Mortgage            NaN   \n",
       "2  10000003                24,725         7 years   Mortgage        75566.4   \n",
       "3  10000004                16,000        < 1 year        NaN        56160.0   \n",
       "\n",
       "            Income_Verified     Purpose_Of_Loan  Debt_To_Income  \\\n",
       "0              not verified                 car           18.37   \n",
       "1         VERIFIED - income  debt_consolidation           14.93   \n",
       "2  VERIFIED - income source  debt_consolidation           15.88   \n",
       "3  VERIFIED - income source  debt_consolidation           14.34   \n",
       "\n",
       "   Inquiries_Last_6Mo  Months_Since_Deliquency  Number_Open_Accounts  \\\n",
       "0                   0                      NaN                     9   \n",
       "1                   0                     17.0                    12   \n",
       "2                   0                      NaN                    12   \n",
       "3                   3                      NaN                    16   \n",
       "\n",
       "   Total_Accounts  Gender  Interest_Rate  \n",
       "0              14  Female              1  \n",
       "1              24  Female              3  \n",
       "2              16    Male              3  \n",
       "3              22    Male              3  "
      ]
     },
     "execution_count": 14,
     "metadata": {},
     "output_type": "execute_result"
    }
   ],
   "source": [
    "train.head(4)"
   ]
  },
  {
   "cell_type": "code",
   "execution_count": 15,
   "metadata": {},
   "outputs": [],
   "source": [
    "# A few rows from bottom"
   ]
  },
  {
   "cell_type": "code",
   "execution_count": 16,
   "metadata": {},
   "outputs": [
    {
     "data": {
      "text/html": [
       "<div>\n",
       "<style scoped>\n",
       "    .dataframe tbody tr th:only-of-type {\n",
       "        vertical-align: middle;\n",
       "    }\n",
       "\n",
       "    .dataframe tbody tr th {\n",
       "        vertical-align: top;\n",
       "    }\n",
       "\n",
       "    .dataframe thead th {\n",
       "        text-align: right;\n",
       "    }\n",
       "</style>\n",
       "<table border=\"1\" class=\"dataframe\">\n",
       "  <thead>\n",
       "    <tr style=\"text-align: right;\">\n",
       "      <th></th>\n",
       "      <th>Loan_ID</th>\n",
       "      <th>Loan_Amount_Requested</th>\n",
       "      <th>Length_Employed</th>\n",
       "      <th>Home_Owner</th>\n",
       "      <th>Annual_Income</th>\n",
       "      <th>Income_Verified</th>\n",
       "      <th>Purpose_Of_Loan</th>\n",
       "      <th>Debt_To_Income</th>\n",
       "      <th>Inquiries_Last_6Mo</th>\n",
       "      <th>Months_Since_Deliquency</th>\n",
       "      <th>Number_Open_Accounts</th>\n",
       "      <th>Total_Accounts</th>\n",
       "      <th>Gender</th>\n",
       "      <th>Interest_Rate</th>\n",
       "    </tr>\n",
       "  </thead>\n",
       "  <tbody>\n",
       "    <tr>\n",
       "      <th>164305</th>\n",
       "      <td>10164306</td>\n",
       "      <td>6,000</td>\n",
       "      <td>8 years</td>\n",
       "      <td>Own</td>\n",
       "      <td>NaN</td>\n",
       "      <td>VERIFIED - income source</td>\n",
       "      <td>small_business</td>\n",
       "      <td>9.12</td>\n",
       "      <td>0</td>\n",
       "      <td>36.0</td>\n",
       "      <td>13</td>\n",
       "      <td>30</td>\n",
       "      <td>Male</td>\n",
       "      <td>2</td>\n",
       "    </tr>\n",
       "    <tr>\n",
       "      <th>164306</th>\n",
       "      <td>10164307</td>\n",
       "      <td>20,250</td>\n",
       "      <td>10+ years</td>\n",
       "      <td>Mortgage</td>\n",
       "      <td>NaN</td>\n",
       "      <td>VERIFIED - income</td>\n",
       "      <td>credit_card</td>\n",
       "      <td>18.17</td>\n",
       "      <td>1</td>\n",
       "      <td>NaN</td>\n",
       "      <td>17</td>\n",
       "      <td>30</td>\n",
       "      <td>Male</td>\n",
       "      <td>1</td>\n",
       "    </tr>\n",
       "    <tr>\n",
       "      <th>164307</th>\n",
       "      <td>10164308</td>\n",
       "      <td>10,000</td>\n",
       "      <td>4 years</td>\n",
       "      <td>Rent</td>\n",
       "      <td>NaN</td>\n",
       "      <td>not verified</td>\n",
       "      <td>major_purchase</td>\n",
       "      <td>18.75</td>\n",
       "      <td>1</td>\n",
       "      <td>48.0</td>\n",
       "      <td>16</td>\n",
       "      <td>62</td>\n",
       "      <td>Female</td>\n",
       "      <td>3</td>\n",
       "    </tr>\n",
       "    <tr>\n",
       "      <th>164308</th>\n",
       "      <td>10164309</td>\n",
       "      <td>9,250</td>\n",
       "      <td>10+ years</td>\n",
       "      <td>Rent</td>\n",
       "      <td>NaN</td>\n",
       "      <td>VERIFIED - income</td>\n",
       "      <td>credit_card</td>\n",
       "      <td>19.44</td>\n",
       "      <td>1</td>\n",
       "      <td>NaN</td>\n",
       "      <td>5</td>\n",
       "      <td>9</td>\n",
       "      <td>Female</td>\n",
       "      <td>2</td>\n",
       "    </tr>\n",
       "  </tbody>\n",
       "</table>\n",
       "</div>"
      ],
      "text/plain": [
       "         Loan_ID Loan_Amount_Requested Length_Employed Home_Owner  \\\n",
       "164305  10164306                 6,000         8 years        Own   \n",
       "164306  10164307                20,250       10+ years   Mortgage   \n",
       "164307  10164308                10,000         4 years       Rent   \n",
       "164308  10164309                 9,250       10+ years       Rent   \n",
       "\n",
       "        Annual_Income           Income_Verified Purpose_Of_Loan  \\\n",
       "164305            NaN  VERIFIED - income source  small_business   \n",
       "164306            NaN         VERIFIED - income     credit_card   \n",
       "164307            NaN              not verified  major_purchase   \n",
       "164308            NaN         VERIFIED - income     credit_card   \n",
       "\n",
       "        Debt_To_Income  Inquiries_Last_6Mo  Months_Since_Deliquency  \\\n",
       "164305            9.12                   0                     36.0   \n",
       "164306           18.17                   1                      NaN   \n",
       "164307           18.75                   1                     48.0   \n",
       "164308           19.44                   1                      NaN   \n",
       "\n",
       "        Number_Open_Accounts  Total_Accounts  Gender  Interest_Rate  \n",
       "164305                    13              30    Male              2  \n",
       "164306                    17              30    Male              1  \n",
       "164307                    16              62  Female              3  \n",
       "164308                     5               9  Female              2  "
      ]
     },
     "execution_count": 16,
     "metadata": {},
     "output_type": "execute_result"
    }
   ],
   "source": [
    "train.tail(4)"
   ]
  },
  {
   "cell_type": "code",
   "execution_count": 17,
   "metadata": {},
   "outputs": [],
   "source": [
    "# a few random rows"
   ]
  },
  {
   "cell_type": "code",
   "execution_count": 18,
   "metadata": {},
   "outputs": [
    {
     "data": {
      "text/html": [
       "<div>\n",
       "<style scoped>\n",
       "    .dataframe tbody tr th:only-of-type {\n",
       "        vertical-align: middle;\n",
       "    }\n",
       "\n",
       "    .dataframe tbody tr th {\n",
       "        vertical-align: top;\n",
       "    }\n",
       "\n",
       "    .dataframe thead th {\n",
       "        text-align: right;\n",
       "    }\n",
       "</style>\n",
       "<table border=\"1\" class=\"dataframe\">\n",
       "  <thead>\n",
       "    <tr style=\"text-align: right;\">\n",
       "      <th></th>\n",
       "      <th>Loan_ID</th>\n",
       "      <th>Loan_Amount_Requested</th>\n",
       "      <th>Length_Employed</th>\n",
       "      <th>Home_Owner</th>\n",
       "      <th>Annual_Income</th>\n",
       "      <th>Income_Verified</th>\n",
       "      <th>Purpose_Of_Loan</th>\n",
       "      <th>Debt_To_Income</th>\n",
       "      <th>Inquiries_Last_6Mo</th>\n",
       "      <th>Months_Since_Deliquency</th>\n",
       "      <th>Number_Open_Accounts</th>\n",
       "      <th>Total_Accounts</th>\n",
       "      <th>Gender</th>\n",
       "      <th>Interest_Rate</th>\n",
       "    </tr>\n",
       "  </thead>\n",
       "  <tbody>\n",
       "    <tr>\n",
       "      <th>53097</th>\n",
       "      <td>10053098</td>\n",
       "      <td>18,250</td>\n",
       "      <td>10+ years</td>\n",
       "      <td>Rent</td>\n",
       "      <td>68000.0</td>\n",
       "      <td>VERIFIED - income</td>\n",
       "      <td>debt_consolidation</td>\n",
       "      <td>13.31</td>\n",
       "      <td>3</td>\n",
       "      <td>18.0</td>\n",
       "      <td>19</td>\n",
       "      <td>33</td>\n",
       "      <td>Male</td>\n",
       "      <td>3</td>\n",
       "    </tr>\n",
       "    <tr>\n",
       "      <th>9739</th>\n",
       "      <td>10009740</td>\n",
       "      <td>18,000</td>\n",
       "      <td>5 years</td>\n",
       "      <td>Mortgage</td>\n",
       "      <td>120000.0</td>\n",
       "      <td>not verified</td>\n",
       "      <td>debt_consolidation</td>\n",
       "      <td>6.43</td>\n",
       "      <td>1</td>\n",
       "      <td>8.0</td>\n",
       "      <td>11</td>\n",
       "      <td>29</td>\n",
       "      <td>Male</td>\n",
       "      <td>1</td>\n",
       "    </tr>\n",
       "    <tr>\n",
       "      <th>82965</th>\n",
       "      <td>10082966</td>\n",
       "      <td>13,500</td>\n",
       "      <td>10+ years</td>\n",
       "      <td>NaN</td>\n",
       "      <td>80000.0</td>\n",
       "      <td>VERIFIED - income</td>\n",
       "      <td>debt_consolidation</td>\n",
       "      <td>10.17</td>\n",
       "      <td>0</td>\n",
       "      <td>36.0</td>\n",
       "      <td>16</td>\n",
       "      <td>36</td>\n",
       "      <td>Male</td>\n",
       "      <td>2</td>\n",
       "    </tr>\n",
       "    <tr>\n",
       "      <th>159140</th>\n",
       "      <td>10159141</td>\n",
       "      <td>14,300</td>\n",
       "      <td>10+ years</td>\n",
       "      <td>Rent</td>\n",
       "      <td>60000.0</td>\n",
       "      <td>not verified</td>\n",
       "      <td>credit_card</td>\n",
       "      <td>20.00</td>\n",
       "      <td>3</td>\n",
       "      <td>NaN</td>\n",
       "      <td>6</td>\n",
       "      <td>14</td>\n",
       "      <td>Male</td>\n",
       "      <td>1</td>\n",
       "    </tr>\n",
       "    <tr>\n",
       "      <th>4603</th>\n",
       "      <td>10004604</td>\n",
       "      <td>25,000</td>\n",
       "      <td>6 years</td>\n",
       "      <td>NaN</td>\n",
       "      <td>NaN</td>\n",
       "      <td>VERIFIED - income source</td>\n",
       "      <td>credit_card</td>\n",
       "      <td>21.62</td>\n",
       "      <td>0</td>\n",
       "      <td>NaN</td>\n",
       "      <td>19</td>\n",
       "      <td>51</td>\n",
       "      <td>Female</td>\n",
       "      <td>1</td>\n",
       "    </tr>\n",
       "  </tbody>\n",
       "</table>\n",
       "</div>"
      ],
      "text/plain": [
       "         Loan_ID Loan_Amount_Requested Length_Employed Home_Owner  \\\n",
       "53097   10053098                18,250       10+ years       Rent   \n",
       "9739    10009740                18,000         5 years   Mortgage   \n",
       "82965   10082966                13,500       10+ years        NaN   \n",
       "159140  10159141                14,300       10+ years       Rent   \n",
       "4603    10004604                25,000         6 years        NaN   \n",
       "\n",
       "        Annual_Income           Income_Verified     Purpose_Of_Loan  \\\n",
       "53097         68000.0         VERIFIED - income  debt_consolidation   \n",
       "9739         120000.0              not verified  debt_consolidation   \n",
       "82965         80000.0         VERIFIED - income  debt_consolidation   \n",
       "159140        60000.0              not verified         credit_card   \n",
       "4603              NaN  VERIFIED - income source         credit_card   \n",
       "\n",
       "        Debt_To_Income  Inquiries_Last_6Mo  Months_Since_Deliquency  \\\n",
       "53097            13.31                   3                     18.0   \n",
       "9739              6.43                   1                      8.0   \n",
       "82965            10.17                   0                     36.0   \n",
       "159140           20.00                   3                      NaN   \n",
       "4603             21.62                   0                      NaN   \n",
       "\n",
       "        Number_Open_Accounts  Total_Accounts  Gender  Interest_Rate  \n",
       "53097                     19              33    Male              3  \n",
       "9739                      11              29    Male              1  \n",
       "82965                     16              36    Male              2  \n",
       "159140                     6              14    Male              1  \n",
       "4603                      19              51  Female              1  "
      ]
     },
     "execution_count": 18,
     "metadata": {},
     "output_type": "execute_result"
    }
   ],
   "source": [
    "train.sample(5)"
   ]
  },
  {
   "cell_type": "code",
   "execution_count": 19,
   "metadata": {},
   "outputs": [],
   "source": [
    "# Lets see the test dataset"
   ]
  },
  {
   "cell_type": "code",
   "execution_count": 20,
   "metadata": {},
   "outputs": [
    {
     "data": {
      "text/html": [
       "<div>\n",
       "<style scoped>\n",
       "    .dataframe tbody tr th:only-of-type {\n",
       "        vertical-align: middle;\n",
       "    }\n",
       "\n",
       "    .dataframe tbody tr th {\n",
       "        vertical-align: top;\n",
       "    }\n",
       "\n",
       "    .dataframe thead th {\n",
       "        text-align: right;\n",
       "    }\n",
       "</style>\n",
       "<table border=\"1\" class=\"dataframe\">\n",
       "  <thead>\n",
       "    <tr style=\"text-align: right;\">\n",
       "      <th></th>\n",
       "      <th>Loan_ID</th>\n",
       "      <th>Loan_Amount_Requested</th>\n",
       "      <th>Length_Employed</th>\n",
       "      <th>Home_Owner</th>\n",
       "      <th>Annual_Income</th>\n",
       "      <th>Income_Verified</th>\n",
       "      <th>Purpose_Of_Loan</th>\n",
       "      <th>Debt_To_Income</th>\n",
       "      <th>Inquiries_Last_6Mo</th>\n",
       "      <th>Months_Since_Deliquency</th>\n",
       "      <th>Number_Open_Accounts</th>\n",
       "      <th>Total_Accounts</th>\n",
       "      <th>Gender</th>\n",
       "    </tr>\n",
       "  </thead>\n",
       "  <tbody>\n",
       "    <tr>\n",
       "      <th>61314</th>\n",
       "      <td>10225624</td>\n",
       "      <td>10,000</td>\n",
       "      <td>4 years</td>\n",
       "      <td>Rent</td>\n",
       "      <td>48996.0</td>\n",
       "      <td>not verified</td>\n",
       "      <td>other</td>\n",
       "      <td>21.97</td>\n",
       "      <td>0</td>\n",
       "      <td>NaN</td>\n",
       "      <td>11</td>\n",
       "      <td>17</td>\n",
       "      <td>Male</td>\n",
       "    </tr>\n",
       "    <tr>\n",
       "      <th>49645</th>\n",
       "      <td>10213955</td>\n",
       "      <td>14,000</td>\n",
       "      <td>&lt; 1 year</td>\n",
       "      <td>Own</td>\n",
       "      <td>99500.0</td>\n",
       "      <td>VERIFIED - income source</td>\n",
       "      <td>debt_consolidation</td>\n",
       "      <td>28.82</td>\n",
       "      <td>0</td>\n",
       "      <td>NaN</td>\n",
       "      <td>29</td>\n",
       "      <td>46</td>\n",
       "      <td>Male</td>\n",
       "    </tr>\n",
       "    <tr>\n",
       "      <th>61827</th>\n",
       "      <td>10226137</td>\n",
       "      <td>9,000</td>\n",
       "      <td>3 years</td>\n",
       "      <td>Mortgage</td>\n",
       "      <td>40000.0</td>\n",
       "      <td>VERIFIED - income</td>\n",
       "      <td>debt_consolidation</td>\n",
       "      <td>3.42</td>\n",
       "      <td>0</td>\n",
       "      <td>NaN</td>\n",
       "      <td>3</td>\n",
       "      <td>4</td>\n",
       "      <td>Female</td>\n",
       "    </tr>\n",
       "    <tr>\n",
       "      <th>17460</th>\n",
       "      <td>10181770</td>\n",
       "      <td>6,000</td>\n",
       "      <td>6 years</td>\n",
       "      <td>Rent</td>\n",
       "      <td>40000.0</td>\n",
       "      <td>VERIFIED - income source</td>\n",
       "      <td>other</td>\n",
       "      <td>31.23</td>\n",
       "      <td>1</td>\n",
       "      <td>NaN</td>\n",
       "      <td>13</td>\n",
       "      <td>34</td>\n",
       "      <td>Female</td>\n",
       "    </tr>\n",
       "    <tr>\n",
       "      <th>104096</th>\n",
       "      <td>10268406</td>\n",
       "      <td>20,000</td>\n",
       "      <td>3 years</td>\n",
       "      <td>Own</td>\n",
       "      <td>45000.0</td>\n",
       "      <td>VERIFIED - income</td>\n",
       "      <td>debt_consolidation</td>\n",
       "      <td>17.47</td>\n",
       "      <td>0</td>\n",
       "      <td>NaN</td>\n",
       "      <td>11</td>\n",
       "      <td>24</td>\n",
       "      <td>Male</td>\n",
       "    </tr>\n",
       "  </tbody>\n",
       "</table>\n",
       "</div>"
      ],
      "text/plain": [
       "         Loan_ID Loan_Amount_Requested Length_Employed Home_Owner  \\\n",
       "61314   10225624                10,000         4 years       Rent   \n",
       "49645   10213955                14,000        < 1 year        Own   \n",
       "61827   10226137                 9,000         3 years   Mortgage   \n",
       "17460   10181770                 6,000         6 years       Rent   \n",
       "104096  10268406                20,000         3 years        Own   \n",
       "\n",
       "        Annual_Income           Income_Verified     Purpose_Of_Loan  \\\n",
       "61314         48996.0              not verified               other   \n",
       "49645         99500.0  VERIFIED - income source  debt_consolidation   \n",
       "61827         40000.0         VERIFIED - income  debt_consolidation   \n",
       "17460         40000.0  VERIFIED - income source               other   \n",
       "104096        45000.0         VERIFIED - income  debt_consolidation   \n",
       "\n",
       "        Debt_To_Income  Inquiries_Last_6Mo  Months_Since_Deliquency  \\\n",
       "61314            21.97                   0                      NaN   \n",
       "49645            28.82                   0                      NaN   \n",
       "61827             3.42                   0                      NaN   \n",
       "17460            31.23                   1                      NaN   \n",
       "104096           17.47                   0                      NaN   \n",
       "\n",
       "        Number_Open_Accounts  Total_Accounts  Gender  \n",
       "61314                     11              17    Male  \n",
       "49645                     29              46    Male  \n",
       "61827                      3               4  Female  \n",
       "17460                     13              34  Female  \n",
       "104096                    11              24    Male  "
      ]
     },
     "execution_count": 20,
     "metadata": {},
     "output_type": "execute_result"
    }
   ],
   "source": [
    "test.sample(5)"
   ]
  },
  {
   "cell_type": "code",
   "execution_count": 21,
   "metadata": {},
   "outputs": [],
   "source": [
    "# Detailed summary of train dataset"
   ]
  },
  {
   "cell_type": "code",
   "execution_count": 22,
   "metadata": {},
   "outputs": [
    {
     "data": {
      "text/html": [
       "<div>\n",
       "<style scoped>\n",
       "    .dataframe tbody tr th:only-of-type {\n",
       "        vertical-align: middle;\n",
       "    }\n",
       "\n",
       "    .dataframe tbody tr th {\n",
       "        vertical-align: top;\n",
       "    }\n",
       "\n",
       "    .dataframe thead th {\n",
       "        text-align: right;\n",
       "    }\n",
       "</style>\n",
       "<table border=\"1\" class=\"dataframe\">\n",
       "  <thead>\n",
       "    <tr style=\"text-align: right;\">\n",
       "      <th></th>\n",
       "      <th>TotalMissing</th>\n",
       "      <th>%Missing</th>\n",
       "      <th>DataType</th>\n",
       "      <th>Unique</th>\n",
       "    </tr>\n",
       "  </thead>\n",
       "  <tbody>\n",
       "    <tr>\n",
       "      <th>Loan_ID</th>\n",
       "      <td>0</td>\n",
       "      <td>0.000000</td>\n",
       "      <td>int64</td>\n",
       "      <td>164309</td>\n",
       "    </tr>\n",
       "    <tr>\n",
       "      <th>Loan_Amount_Requested</th>\n",
       "      <td>0</td>\n",
       "      <td>0.000000</td>\n",
       "      <td>object</td>\n",
       "      <td>1290</td>\n",
       "    </tr>\n",
       "    <tr>\n",
       "      <th>Length_Employed</th>\n",
       "      <td>7371</td>\n",
       "      <td>0.044861</td>\n",
       "      <td>object</td>\n",
       "      <td>11</td>\n",
       "    </tr>\n",
       "    <tr>\n",
       "      <th>Home_Owner</th>\n",
       "      <td>25349</td>\n",
       "      <td>0.154276</td>\n",
       "      <td>object</td>\n",
       "      <td>5</td>\n",
       "    </tr>\n",
       "    <tr>\n",
       "      <th>Annual_Income</th>\n",
       "      <td>25102</td>\n",
       "      <td>0.152773</td>\n",
       "      <td>float64</td>\n",
       "      <td>12305</td>\n",
       "    </tr>\n",
       "    <tr>\n",
       "      <th>Income_Verified</th>\n",
       "      <td>0</td>\n",
       "      <td>0.000000</td>\n",
       "      <td>object</td>\n",
       "      <td>3</td>\n",
       "    </tr>\n",
       "    <tr>\n",
       "      <th>Purpose_Of_Loan</th>\n",
       "      <td>0</td>\n",
       "      <td>0.000000</td>\n",
       "      <td>object</td>\n",
       "      <td>14</td>\n",
       "    </tr>\n",
       "    <tr>\n",
       "      <th>Debt_To_Income</th>\n",
       "      <td>0</td>\n",
       "      <td>0.000000</td>\n",
       "      <td>float64</td>\n",
       "      <td>3953</td>\n",
       "    </tr>\n",
       "    <tr>\n",
       "      <th>Inquiries_Last_6Mo</th>\n",
       "      <td>0</td>\n",
       "      <td>0.000000</td>\n",
       "      <td>int64</td>\n",
       "      <td>9</td>\n",
       "    </tr>\n",
       "    <tr>\n",
       "      <th>Months_Since_Deliquency</th>\n",
       "      <td>88379</td>\n",
       "      <td>0.537883</td>\n",
       "      <td>float64</td>\n",
       "      <td>122</td>\n",
       "    </tr>\n",
       "    <tr>\n",
       "      <th>Number_Open_Accounts</th>\n",
       "      <td>0</td>\n",
       "      <td>0.000000</td>\n",
       "      <td>int64</td>\n",
       "      <td>58</td>\n",
       "    </tr>\n",
       "    <tr>\n",
       "      <th>Total_Accounts</th>\n",
       "      <td>0</td>\n",
       "      <td>0.000000</td>\n",
       "      <td>int64</td>\n",
       "      <td>100</td>\n",
       "    </tr>\n",
       "    <tr>\n",
       "      <th>Gender</th>\n",
       "      <td>0</td>\n",
       "      <td>0.000000</td>\n",
       "      <td>object</td>\n",
       "      <td>2</td>\n",
       "    </tr>\n",
       "    <tr>\n",
       "      <th>Interest_Rate</th>\n",
       "      <td>0</td>\n",
       "      <td>0.000000</td>\n",
       "      <td>int64</td>\n",
       "      <td>3</td>\n",
       "    </tr>\n",
       "  </tbody>\n",
       "</table>\n",
       "</div>"
      ],
      "text/plain": [
       "                         TotalMissing  %Missing DataType  Unique\n",
       "Loan_ID                             0  0.000000    int64  164309\n",
       "Loan_Amount_Requested               0  0.000000   object    1290\n",
       "Length_Employed                  7371  0.044861   object      11\n",
       "Home_Owner                      25349  0.154276   object       5\n",
       "Annual_Income                   25102  0.152773  float64   12305\n",
       "Income_Verified                     0  0.000000   object       3\n",
       "Purpose_Of_Loan                     0  0.000000   object      14\n",
       "Debt_To_Income                      0  0.000000  float64    3953\n",
       "Inquiries_Last_6Mo                  0  0.000000    int64       9\n",
       "Months_Since_Deliquency         88379  0.537883  float64     122\n",
       "Number_Open_Accounts                0  0.000000    int64      58\n",
       "Total_Accounts                      0  0.000000    int64     100\n",
       "Gender                              0  0.000000   object       2\n",
       "Interest_Rate                       0  0.000000    int64       3"
      ]
     },
     "execution_count": 22,
     "metadata": {},
     "output_type": "execute_result"
    }
   ],
   "source": [
    "pd.DataFrame({\"TotalMissing\":train.isna().sum(),\"%Missing\":train.isna().mean(),\"DataType\":train.dtypes,\"Unique\":train.nunique()})"
   ]
  },
  {
   "cell_type": "code",
   "execution_count": 23,
   "metadata": {},
   "outputs": [],
   "source": [
    "# Detailed summary of test dataset"
   ]
  },
  {
   "cell_type": "code",
   "execution_count": 24,
   "metadata": {},
   "outputs": [
    {
     "data": {
      "text/html": [
       "<div>\n",
       "<style scoped>\n",
       "    .dataframe tbody tr th:only-of-type {\n",
       "        vertical-align: middle;\n",
       "    }\n",
       "\n",
       "    .dataframe tbody tr th {\n",
       "        vertical-align: top;\n",
       "    }\n",
       "\n",
       "    .dataframe thead th {\n",
       "        text-align: right;\n",
       "    }\n",
       "</style>\n",
       "<table border=\"1\" class=\"dataframe\">\n",
       "  <thead>\n",
       "    <tr style=\"text-align: right;\">\n",
       "      <th></th>\n",
       "      <th>TotalMissing</th>\n",
       "      <th>%Missing</th>\n",
       "      <th>DataType</th>\n",
       "      <th>Unique</th>\n",
       "    </tr>\n",
       "  </thead>\n",
       "  <tbody>\n",
       "    <tr>\n",
       "      <th>Loan_ID</th>\n",
       "      <td>0</td>\n",
       "      <td>0.000000</td>\n",
       "      <td>int64</td>\n",
       "      <td>109541</td>\n",
       "    </tr>\n",
       "    <tr>\n",
       "      <th>Loan_Amount_Requested</th>\n",
       "      <td>0</td>\n",
       "      <td>0.000000</td>\n",
       "      <td>object</td>\n",
       "      <td>1246</td>\n",
       "    </tr>\n",
       "    <tr>\n",
       "      <th>Length_Employed</th>\n",
       "      <td>4936</td>\n",
       "      <td>0.045061</td>\n",
       "      <td>object</td>\n",
       "      <td>11</td>\n",
       "    </tr>\n",
       "    <tr>\n",
       "      <th>Home_Owner</th>\n",
       "      <td>16711</td>\n",
       "      <td>0.152555</td>\n",
       "      <td>object</td>\n",
       "      <td>5</td>\n",
       "    </tr>\n",
       "    <tr>\n",
       "      <th>Annual_Income</th>\n",
       "      <td>16898</td>\n",
       "      <td>0.154262</td>\n",
       "      <td>float64</td>\n",
       "      <td>9028</td>\n",
       "    </tr>\n",
       "    <tr>\n",
       "      <th>Income_Verified</th>\n",
       "      <td>0</td>\n",
       "      <td>0.000000</td>\n",
       "      <td>object</td>\n",
       "      <td>3</td>\n",
       "    </tr>\n",
       "    <tr>\n",
       "      <th>Purpose_Of_Loan</th>\n",
       "      <td>0</td>\n",
       "      <td>0.000000</td>\n",
       "      <td>object</td>\n",
       "      <td>14</td>\n",
       "    </tr>\n",
       "    <tr>\n",
       "      <th>Debt_To_Income</th>\n",
       "      <td>0</td>\n",
       "      <td>0.000000</td>\n",
       "      <td>float64</td>\n",
       "      <td>3895</td>\n",
       "    </tr>\n",
       "    <tr>\n",
       "      <th>Inquiries_Last_6Mo</th>\n",
       "      <td>0</td>\n",
       "      <td>0.000000</td>\n",
       "      <td>int64</td>\n",
       "      <td>9</td>\n",
       "    </tr>\n",
       "    <tr>\n",
       "      <th>Months_Since_Deliquency</th>\n",
       "      <td>58859</td>\n",
       "      <td>0.537324</td>\n",
       "      <td>float64</td>\n",
       "      <td>115</td>\n",
       "    </tr>\n",
       "    <tr>\n",
       "      <th>Number_Open_Accounts</th>\n",
       "      <td>0</td>\n",
       "      <td>0.000000</td>\n",
       "      <td>int64</td>\n",
       "      <td>54</td>\n",
       "    </tr>\n",
       "    <tr>\n",
       "      <th>Total_Accounts</th>\n",
       "      <td>0</td>\n",
       "      <td>0.000000</td>\n",
       "      <td>int64</td>\n",
       "      <td>96</td>\n",
       "    </tr>\n",
       "    <tr>\n",
       "      <th>Gender</th>\n",
       "      <td>0</td>\n",
       "      <td>0.000000</td>\n",
       "      <td>object</td>\n",
       "      <td>2</td>\n",
       "    </tr>\n",
       "  </tbody>\n",
       "</table>\n",
       "</div>"
      ],
      "text/plain": [
       "                         TotalMissing  %Missing DataType  Unique\n",
       "Loan_ID                             0  0.000000    int64  109541\n",
       "Loan_Amount_Requested               0  0.000000   object    1246\n",
       "Length_Employed                  4936  0.045061   object      11\n",
       "Home_Owner                      16711  0.152555   object       5\n",
       "Annual_Income                   16898  0.154262  float64    9028\n",
       "Income_Verified                     0  0.000000   object       3\n",
       "Purpose_Of_Loan                     0  0.000000   object      14\n",
       "Debt_To_Income                      0  0.000000  float64    3895\n",
       "Inquiries_Last_6Mo                  0  0.000000    int64       9\n",
       "Months_Since_Deliquency         58859  0.537324  float64     115\n",
       "Number_Open_Accounts                0  0.000000    int64      54\n",
       "Total_Accounts                      0  0.000000    int64      96\n",
       "Gender                              0  0.000000   object       2"
      ]
     },
     "execution_count": 24,
     "metadata": {},
     "output_type": "execute_result"
    }
   ],
   "source": [
    "pd.DataFrame({\"TotalMissing\":test.isna().sum(),\"%Missing\":test.isna().mean(),\"DataType\":test.dtypes,\"Unique\":test.nunique()})"
   ]
  },
  {
   "cell_type": "code",
   "execution_count": 283,
   "metadata": {},
   "outputs": [
    {
     "name": "stderr",
     "output_type": "stream",
     "text": [
      "c:\\users\\acer\\appdata\\local\\programs\\python\\python36\\lib\\site-packages\\ipykernel_launcher.py:1: FutureWarning: Sorting because non-concatenation axis is not aligned. A future version\n",
      "of pandas will change to not sort by default.\n",
      "\n",
      "To accept the future behavior, pass 'sort=False'.\n",
      "\n",
      "To retain the current behavior and silence the warning, pass 'sort=True'.\n",
      "\n",
      "  \"\"\"Entry point for launching an IPython kernel.\n"
     ]
    }
   ],
   "source": [
    "train=pd.concat([train,test],axis=0)"
   ]
  },
  {
   "cell_type": "code",
   "execution_count": null,
   "metadata": {},
   "outputs": [],
   "source": []
  },
  {
   "cell_type": "code",
   "execution_count": 26,
   "metadata": {},
   "outputs": [],
   "source": [
    "# EDA"
   ]
  },
  {
   "cell_type": "code",
   "execution_count": 27,
   "metadata": {},
   "outputs": [],
   "source": [
    "# Loan id represents just as the serial no so not useful for prediction "
   ]
  },
  {
   "cell_type": "code",
   "execution_count": 28,
   "metadata": {},
   "outputs": [],
   "source": [
    "# Loan_Amount_Requested: Lets find out why it is in object cat"
   ]
  },
  {
   "cell_type": "code",
   "execution_count": 29,
   "metadata": {},
   "outputs": [
    {
     "data": {
      "text/plain": [
       "0     7,000\n",
       "1    30,000\n",
       "2    24,725\n",
       "Name: Loan_Amount_Requested, dtype: object"
      ]
     },
     "execution_count": 29,
     "metadata": {},
     "output_type": "execute_result"
    }
   ],
   "source": [
    "train.Loan_Amount_Requested.head(3)"
   ]
  },
  {
   "cell_type": "code",
   "execution_count": 30,
   "metadata": {},
   "outputs": [],
   "source": [
    "# This might be because of , in between the numbers,lets remove it"
   ]
  },
  {
   "cell_type": "code",
   "execution_count": 284,
   "metadata": {},
   "outputs": [],
   "source": [
    "train[\"Loan_Amount_Requested\"]=train.Loan_Amount_Requested.str.replace(\",\",\"\")"
   ]
  },
  {
   "cell_type": "code",
   "execution_count": 32,
   "metadata": {},
   "outputs": [],
   "source": [
    "# Lets try to change dtype to int"
   ]
  },
  {
   "cell_type": "code",
   "execution_count": 285,
   "metadata": {},
   "outputs": [],
   "source": [
    "train[\"Loan_Amount_Requested\"]=train.Loan_Amount_Requested.astype(int)"
   ]
  },
  {
   "cell_type": "code",
   "execution_count": 34,
   "metadata": {},
   "outputs": [
    {
     "data": {
      "text/plain": [
       "(500, 35000)"
      ]
     },
     "execution_count": 34,
     "metadata": {},
     "output_type": "execute_result"
    }
   ],
   "source": [
    "train.Loan_Amount_Requested.min(),train.Loan_Amount_Requested.max()"
   ]
  },
  {
   "cell_type": "code",
   "execution_count": 35,
   "metadata": {},
   "outputs": [],
   "source": [
    "# Lets try to make this col simple so that our model learns pattern quickly"
   ]
  },
  {
   "cell_type": "code",
   "execution_count": 180,
   "metadata": {},
   "outputs": [],
   "source": [
    "train['Loan_amt'] = 'na'\n",
    "train.loc[(train.Loan_Amount_Requested >= 0) & (train.Loan_Amount_Requested <= 5000), 'Loan_amt'] = 'Under5k' \n",
    "train.loc[(train.Loan_Amount_Requested >= 5001) & (train.Loan_Amount_Requested <= 10000), 'Loan_amt'] = 'Under10k'\n",
    "train.loc[(train.Loan_Amount_Requested >= 10001) & (train.Loan_Amount_Requested <= 15000), 'Loan_amt'] = 'Under15k'\n",
    "train.loc[(train.Loan_Amount_Requested >= 15001) & (train.Loan_Amount_Requested <= 20000), 'Loan_amt'] = 'Under20k'\n",
    "train.loc[(train.Loan_Amount_Requested >= 20001) & (train.Loan_Amount_Requested <= 25000), 'Loan_amt'] = 'Under25k'\n",
    "train.loc[(train.Loan_Amount_Requested >= 25001) & (train.Loan_Amount_Requested <= 30000), 'Loan_amt'] = 'Under30k'\n",
    "train.loc[(train.Loan_Amount_Requested >= 30001) & (train.Loan_Amount_Requested <= 35000), 'Loan_amt'] = 'Under35k'"
   ]
  },
  {
   "cell_type": "code",
   "execution_count": 37,
   "metadata": {},
   "outputs": [],
   "source": [
    "# Length_Employed"
   ]
  },
  {
   "cell_type": "code",
   "execution_count": 38,
   "metadata": {},
   "outputs": [
    {
     "data": {
      "text/plain": [
       "0    < 1 year\n",
       "1     4 years\n",
       "2     7 years\n",
       "Name: Length_Employed, dtype: object"
      ]
     },
     "execution_count": 38,
     "metadata": {},
     "output_type": "execute_result"
    }
   ],
   "source": [
    "train.Length_Employed.head(3)"
   ]
  },
  {
   "cell_type": "code",
   "execution_count": 39,
   "metadata": {},
   "outputs": [
    {
     "data": {
      "text/plain": [
       "array(['< 1 year', '4 years', '7 years', '8 years', '2 years',\n",
       "       '10+ years', '1 year', nan, '6 years', '9 years', '3 years',\n",
       "       '5 years'], dtype=object)"
      ]
     },
     "execution_count": 39,
     "metadata": {},
     "output_type": "execute_result"
    }
   ],
   "source": [
    "train.Length_Employed.unique()"
   ]
  },
  {
   "cell_type": "code",
   "execution_count": 40,
   "metadata": {},
   "outputs": [],
   "source": [
    "# Lets impute missing with mode"
   ]
  },
  {
   "cell_type": "code",
   "execution_count": 286,
   "metadata": {},
   "outputs": [],
   "source": [
    "train.Length_Employed.fillna(train.Length_Employed.mode()[0],inplace=True)"
   ]
  },
  {
   "cell_type": "code",
   "execution_count": 42,
   "metadata": {},
   "outputs": [
    {
     "data": {
      "text/plain": [
       "<matplotlib.axes._subplots.AxesSubplot at 0x2a6d7d69710>"
      ]
     },
     "execution_count": 42,
     "metadata": {},
     "output_type": "execute_result"
    },
    {
     "data": {
      "image/png": "[encoded data removed]",
      "text/plain": [
       "<Figure size 1080x360 with 1 Axes>"
      ]
     },
     "metadata": {
      "needs_background": "light"
     },
     "output_type": "display_data"
    }
   ],
   "source": [
    "plt.figure(figsize=(15,5))\n",
    "sns.countplot(train[\"Length_Employed\"])"
   ]
  },
  {
   "cell_type": "code",
   "execution_count": 43,
   "metadata": {},
   "outputs": [],
   "source": [
    "# Home_Owner"
   ]
  },
  {
   "cell_type": "code",
   "execution_count": 287,
   "metadata": {},
   "outputs": [],
   "source": [
    "train.Home_Owner.fillna(train.Home_Owner.mode()[0],inplace=True)"
   ]
  },
  {
   "cell_type": "code",
   "execution_count": 45,
   "metadata": {},
   "outputs": [
    {
     "data": {
      "text/plain": [
       "<matplotlib.axes._subplots.AxesSubplot at 0x2a6d2a63b00>"
      ]
     },
     "execution_count": 45,
     "metadata": {},
     "output_type": "execute_result"
    },
    {
     "data": {
      "image/png": "[encoded data removed]",
      "text/plain": [
       "<Figure size 720x360 with 1 Axes>"
      ]
     },
     "metadata": {
      "needs_background": "light"
     },
     "output_type": "display_data"
    }
   ],
   "source": [
    "plt.figure(figsize=(10,5))\n",
    "sns.countplot(train[\"Home_Owner\"])"
   ]
  },
  {
   "cell_type": "code",
   "execution_count": 46,
   "metadata": {},
   "outputs": [],
   "source": [
    "# Annual_Income"
   ]
  },
  {
   "cell_type": "code",
   "execution_count": 47,
   "metadata": {},
   "outputs": [
    {
     "data": {
      "text/plain": [
       "(3000.0, 7500000.0)"
      ]
     },
     "execution_count": 47,
     "metadata": {},
     "output_type": "execute_result"
    }
   ],
   "source": [
    "train[\"Annual_Income\"].min(),train[\"Annual_Income\"].max()"
   ]
  },
  {
   "cell_type": "code",
   "execution_count": 288,
   "metadata": {},
   "outputs": [],
   "source": [
    "train.Annual_Income.fillna(train.Annual_Income.mean(),inplace=True)"
   ]
  },
  {
   "cell_type": "code",
   "execution_count": 49,
   "metadata": {},
   "outputs": [],
   "source": [
    "# Lets create some bins for easy understanding"
   ]
  },
  {
   "cell_type": "code",
   "execution_count": 184,
   "metadata": {},
   "outputs": [],
   "source": [
    "train['Total_Income'] = 'na'\n",
    "train.loc[(train.Annual_Income >= 0) & (train.Annual_Income <= 100000), 'Total_Income'] = 'Under1L' \n",
    "train.loc[(train.Annual_Income >= 100000.00001) & (train.Annual_Income <= 200000), 'Total_Income'] = 'Under2L'\n",
    "train.loc[(train.Annual_Income >= 200000.00001) & (train.Annual_Income <= 300000), 'Total_Income'] = 'Under3L'\n",
    "train.loc[(train.Annual_Income >= 300000.00001) & (train.Annual_Income <= 400000), 'Total_Income'] = 'Under4L'\n",
    "train.loc[(train.Annual_Income >= 400000.00001) & (train.Annual_Income <= 500000), 'Total_Income'] = 'Under5L'\n",
    "train.loc[(train.Annual_Income >= 500000.00001) & (train.Annual_Income <= 600000), 'Total_Income'] = 'Under6L'\n",
    "train.loc[(train.Annual_Income >= 600000.00001) & (train.Annual_Income <= 700000), 'Total_Income'] = 'Under7L'\n",
    "train.loc[(train.Annual_Income >= 700000.00001) & (train.Annual_Income <= 800000), 'Total_Income'] = 'Under8L'\n",
    "train.loc[(train.Annual_Income >= 800000.00001) & (train.Annual_Income <= 900000), 'Total_Income'] = 'Under9L'\n",
    "train.loc[(train.Annual_Income >= 900000.00001) & (train.Annual_Income <= 1000000), 'Total_Income'] = 'Under10L'\n",
    "train.loc[(train.Annual_Income >= 1000000.00001) & (train.Annual_Income <= 5000000), 'Total_Income'] = 'Under50L'\n",
    "train.loc[(train.Annual_Income >= 5000000.00001) & (train.Annual_Income <= 10000000), 'Total_Income'] = 'Under1Cr'"
   ]
  },
  {
   "cell_type": "code",
   "execution_count": null,
   "metadata": {},
   "outputs": [],
   "source": []
  },
  {
   "cell_type": "code",
   "execution_count": 51,
   "metadata": {},
   "outputs": [
    {
     "data": {
      "text/plain": [
       "<matplotlib.axes._subplots.AxesSubplot at 0x2a6d3705128>"
      ]
     },
     "execution_count": 51,
     "metadata": {},
     "output_type": "execute_result"
    },
    {
     "data": {
      "image/png": "[encoded data removed]",
      "text/plain": [
       "<Figure size 1080x360 with 1 Axes>"
      ]
     },
     "metadata": {
      "needs_background": "light"
     },
     "output_type": "display_data"
    }
   ],
   "source": [
    "plt.figure(figsize=(15,5))\n",
    "sns.countplot(train[\"Total_Income\"])"
   ]
  },
  {
   "cell_type": "code",
   "execution_count": 52,
   "metadata": {},
   "outputs": [],
   "source": [
    "# Income_Verified"
   ]
  },
  {
   "cell_type": "code",
   "execution_count": 53,
   "metadata": {},
   "outputs": [
    {
     "data": {
      "text/plain": [
       "<matplotlib.axes._subplots.AxesSubplot at 0x2a6d3d8a748>"
      ]
     },
     "execution_count": 53,
     "metadata": {},
     "output_type": "execute_result"
    },
    {
     "data": {
      "image/png": "[encoded data removed]",
      "text/plain": [
       "<Figure size 432x288 with 1 Axes>"
      ]
     },
     "metadata": {
      "needs_background": "light"
     },
     "output_type": "display_data"
    }
   ],
   "source": [
    "sns.countplot(train[\"Income_Verified\"])"
   ]
  },
  {
   "cell_type": "code",
   "execution_count": 54,
   "metadata": {},
   "outputs": [],
   "source": [
    "# Purpose_Of_Loan"
   ]
  },
  {
   "cell_type": "code",
   "execution_count": 55,
   "metadata": {},
   "outputs": [
    {
     "data": {
      "text/plain": [
       "(array([ 0,  1,  2,  3,  4,  5,  6,  7,  8,  9, 10, 11, 12, 13]),\n",
       " <a list of 14 Text xticklabel objects>)"
      ]
     },
     "execution_count": 55,
     "metadata": {},
     "output_type": "execute_result"
    },
    {
     "data": {
      "image/png": "[encoded data removed]",
      "text/plain": [
       "<Figure size 1080x360 with 1 Axes>"
      ]
     },
     "metadata": {
      "needs_background": "light"
     },
     "output_type": "display_data"
    }
   ],
   "source": [
    "plt.figure(figsize=(15,5))\n",
    "sns.countplot(train[\"Purpose_Of_Loan\"])\n",
    "plt.xticks(rotation=45)"
   ]
  },
  {
   "cell_type": "code",
   "execution_count": 56,
   "metadata": {},
   "outputs": [],
   "source": [
    "# Debt_To_Income"
   ]
  },
  {
   "cell_type": "code",
   "execution_count": 57,
   "metadata": {},
   "outputs": [
    {
     "data": {
      "text/plain": [
       "(0.0, 39.99)"
      ]
     },
     "execution_count": 57,
     "metadata": {},
     "output_type": "execute_result"
    }
   ],
   "source": [
    "train[\"Debt_To_Income\"].min(),train[\"Debt_To_Income\"].max()"
   ]
  },
  {
   "cell_type": "code",
   "execution_count": null,
   "metadata": {},
   "outputs": [],
   "source": []
  },
  {
   "cell_type": "code",
   "execution_count": 185,
   "metadata": {},
   "outputs": [],
   "source": [
    "train['Debt2Income'] = 'na'\n",
    "train.loc[(train.Debt_To_Income >= 0) & (train.Debt_To_Income <= 5.0), 'Debt2Income'] = 'Under5' \n",
    "train.loc[(train.Debt_To_Income >= 5.00001) & (train.Debt_To_Income <= 10.0), 'Debt2Income'] = 'Under10'\n",
    "train.loc[(train.Debt_To_Income >= 10.00001) & (train.Debt_To_Income <= 15.0), 'Debt2Income'] = 'Under15'\n",
    "train.loc[(train.Debt_To_Income >= 15.00001) & (train.Debt_To_Income <= 20.0), 'Debt2Income'] = 'Under20'\n",
    "train.loc[(train.Debt_To_Income >= 20.00001) & (train.Debt_To_Income <= 25.0), 'Debt2Income'] = 'Under25'\n",
    "train.loc[(train.Debt_To_Income >= 25.00001) & (train.Debt_To_Income <= 30.0), 'Debt2Income'] = 'Under30'\n",
    "train.loc[(train.Debt_To_Income >= 30.00001) & (train.Debt_To_Income <= 35.0), 'Debt2Income'] = 'Under35'\n",
    "train.loc[(train.Debt_To_Income >= 35.00001) & (train.Debt_To_Income <= 40.0), 'Debt2Income'] = 'Under40'"
   ]
  },
  {
   "cell_type": "code",
   "execution_count": 59,
   "metadata": {},
   "outputs": [
    {
     "data": {
      "text/plain": [
       "<matplotlib.axes._subplots.AxesSubplot at 0x2a6d37894e0>"
      ]
     },
     "execution_count": 59,
     "metadata": {},
     "output_type": "execute_result"
    },
    {
     "data": {
      "image/png": "[encoded data removed]",
      "text/plain": [
       "<Figure size 1080x360 with 1 Axes>"
      ]
     },
     "metadata": {
      "needs_background": "light"
     },
     "output_type": "display_data"
    }
   ],
   "source": [
    "plt.figure(figsize=(15,5))\n",
    "sns.countplot(train[\"Debt2Income\"])"
   ]
  },
  {
   "cell_type": "code",
   "execution_count": 60,
   "metadata": {},
   "outputs": [],
   "source": [
    "# Inquiries_Last_6Mo"
   ]
  },
  {
   "cell_type": "code",
   "execution_count": 61,
   "metadata": {},
   "outputs": [
    {
     "data": {
      "text/plain": [
       "<matplotlib.axes._subplots.AxesSubplot at 0x2a6d38b2630>"
      ]
     },
     "execution_count": 61,
     "metadata": {},
     "output_type": "execute_result"
    },
    {
     "data": {
      "image/png": "[encoded data removed]",
      "text/plain": [
       "<Figure size 720x360 with 1 Axes>"
      ]
     },
     "metadata": {
      "needs_background": "light"
     },
     "output_type": "display_data"
    }
   ],
   "source": [
    "plt.figure(figsize=(10,5))\n",
    "sns.countplot(train[\"Inquiries_Last_6Mo\"])"
   ]
  },
  {
   "cell_type": "code",
   "execution_count": 62,
   "metadata": {},
   "outputs": [],
   "source": [
    "# Months_Since_Deliquency"
   ]
  },
  {
   "cell_type": "code",
   "execution_count": 63,
   "metadata": {},
   "outputs": [
    {
     "data": {
      "text/plain": [
       "array([ nan,  17.,  16.,  68.,  13.,   6.,  64.,  10.,  63.,  33.,  22.,\n",
       "        28.,   8.,  26.,  41.,  46.,  62.,  21.,  12.,  52.,   3.,  65.,\n",
       "        43.,  53.,  44.,   1.,  11.,  71.,  23.,  15.,  48.,  39.,  30.,\n",
       "        32.,  18.,  24.,  47.,  66.,  19.,  76.,   4.,  29.,  45.,  38.,\n",
       "        56.,  37.,  20.,  35.,   2.,   9.,  34.,  14.,  59.,  36.,  50.,\n",
       "        81.,  72.,  69.,  57.,  25.,   7.,  49.,  31.,  78.,  70.,  27.,\n",
       "         5.,  51.,  58.,  75.,  42.,  74.,  40.,  67.,  61.,  55.,  77.,\n",
       "        54.,   0.,  60.,  73.,  79.,  82.,  80.,  83.,  88., 127., 106.,\n",
       "        99.,  97., 139.,  96., 119., 116.,  94., 141.,  86.,  91.,  84.,\n",
       "        85.,  95.,  90.,  87., 103., 101., 121., 148.,  93., 122.,  92.,\n",
       "       180., 105., 110., 129., 130., 135., 114., 102., 111.,  98., 131.,\n",
       "       107., 170., 143., 109., 118., 115., 126., 149., 124., 133.,  89.,\n",
       "       140.])"
      ]
     },
     "execution_count": 63,
     "metadata": {},
     "output_type": "execute_result"
    }
   ],
   "source": [
    "train[\"Months_Since_Deliquency\"].unique()"
   ]
  },
  {
   "cell_type": "code",
   "execution_count": 64,
   "metadata": {},
   "outputs": [
    {
     "data": {
      "text/plain": [
       "(0.0, 180.0, 34.0)"
      ]
     },
     "execution_count": 64,
     "metadata": {},
     "output_type": "execute_result"
    }
   ],
   "source": [
    "train[\"Months_Since_Deliquency\"].min(),train[\"Months_Since_Deliquency\"].max(),np.round(train[\"Months_Since_Deliquency\"].mean())"
   ]
  },
  {
   "cell_type": "code",
   "execution_count": null,
   "metadata": {},
   "outputs": [],
   "source": []
  },
  {
   "cell_type": "code",
   "execution_count": 65,
   "metadata": {},
   "outputs": [],
   "source": [
    "# Filling na with mean"
   ]
  },
  {
   "cell_type": "code",
   "execution_count": 289,
   "metadata": {},
   "outputs": [],
   "source": [
    "train.Months_Since_Deliquency.fillna(np.round(train[\"Months_Since_Deliquency\"].mean()),inplace=True)"
   ]
  },
  {
   "cell_type": "code",
   "execution_count": 67,
   "metadata": {},
   "outputs": [],
   "source": [
    "# Simplifying this col"
   ]
  },
  {
   "cell_type": "code",
   "execution_count": 187,
   "metadata": {},
   "outputs": [],
   "source": [
    "train['Years_Deliquency'] = 'na'\n",
    "train.loc[(train.Months_Since_Deliquency >= 0.0) & (train.Months_Since_Deliquency <= 12.0), 'Years_Deliquency'] = 'Under1year' \n",
    "train.loc[(train.Months_Since_Deliquency >= 13.0) & (train.Months_Since_Deliquency <= 24.0), 'Years_Deliquency'] = 'Under2year'\n",
    "train.loc[(train.Months_Since_Deliquency >= 25.0) & (train.Months_Since_Deliquency <= 36.0), 'Years_Deliquency'] = 'Under3year'\n",
    "train.loc[(train.Months_Since_Deliquency >= 36.0) & (train.Months_Since_Deliquency <= 48.0), 'Years_Deliquency'] = 'Under4year'\n",
    "train.loc[(train.Months_Since_Deliquency >= 49.0) & (train.Months_Since_Deliquency <= 60.0), 'Years_Deliquency'] = 'Under5year'\n",
    "train.loc[(train.Months_Since_Deliquency >= 61.0) & (train.Months_Since_Deliquency <= 72.0), 'Years_Deliquency'] = 'Under6year'\n",
    "train.loc[(train.Months_Since_Deliquency >= 73.0) & (train.Months_Since_Deliquency <= 84.0), 'Years_Deliquency'] = 'Under7year'\n",
    "train.loc[(train.Months_Since_Deliquency >= 85.0) & (train.Months_Since_Deliquency <= 96.0), 'Years_Deliquency'] = 'Under8year'\n",
    "train.loc[(train.Months_Since_Deliquency >= 97.0) & (train.Months_Since_Deliquency <= 108.0), 'Years_Deliquency'] = 'Under9year'\n",
    "train.loc[(train.Months_Since_Deliquency >= 109.0) & (train.Months_Since_Deliquency <= 120.0), 'Years_Deliquency'] = 'Under10year'\n",
    "train.loc[(train.Months_Since_Deliquency >= 121.0) & (train.Months_Since_Deliquency <= 132.0), 'Years_Deliquency'] = 'Under11year'\n",
    "train.loc[(train.Months_Since_Deliquency >= 133.0) & (train.Months_Since_Deliquency <= 144.0), 'Years_Deliquency'] = 'Under12year'\n",
    "train.loc[(train.Months_Since_Deliquency >= 145.0) & (train.Months_Since_Deliquency <= 156.0), 'Years_Deliquency'] = 'Under13year'\n",
    "train.loc[(train.Months_Since_Deliquency >= 157.0) & (train.Months_Since_Deliquency <= 168.0), 'Years_Deliquency'] = 'Under14year'\n",
    "train.loc[(train.Months_Since_Deliquency >= 169.0) & (train.Months_Since_Deliquency <= 180.0), 'Years_Deliquency'] = 'Under15year'"
   ]
  },
  {
   "cell_type": "code",
   "execution_count": 69,
   "metadata": {},
   "outputs": [
    {
     "data": {
      "text/plain": [
       "<matplotlib.axes._subplots.AxesSubplot at 0x2a6d7d6cd30>"
      ]
     },
     "execution_count": 69,
     "metadata": {},
     "output_type": "execute_result"
    },
    {
     "data": {
      "image/png": "[encoded data removed]",
      "text/plain": [
       "<Figure size 2160x360 with 1 Axes>"
      ]
     },
     "metadata": {
      "needs_background": "light"
     },
     "output_type": "display_data"
    }
   ],
   "source": [
    "plt.figure(figsize=(30,5))\n",
    "sns.countplot(train[\"Years_Deliquency\"])"
   ]
  },
  {
   "cell_type": "code",
   "execution_count": 70,
   "metadata": {},
   "outputs": [],
   "source": [
    "# Number_Open_Accounts"
   ]
  },
  {
   "cell_type": "code",
   "execution_count": 71,
   "metadata": {},
   "outputs": [
    {
     "data": {
      "text/plain": [
       "(0, 84)"
      ]
     },
     "execution_count": 71,
     "metadata": {},
     "output_type": "execute_result"
    }
   ],
   "source": [
    "train[\"Number_Open_Accounts\"].min(),train[\"Number_Open_Accounts\"].max()"
   ]
  },
  {
   "cell_type": "code",
   "execution_count": null,
   "metadata": {},
   "outputs": [],
   "source": []
  },
  {
   "cell_type": "code",
   "execution_count": 188,
   "metadata": {},
   "outputs": [],
   "source": [
    "train['Total_Accounts'] = 'na'\n",
    "train.loc[(train.Number_Open_Accounts >= 0) & (train.Number_Open_Accounts <= 10), 'Total_Accounts'] = 'Under10'\n",
    "train.loc[(train.Number_Open_Accounts >= 11) & (train.Number_Open_Accounts <= 20), 'Total_Accounts'] = 'Under20'\n",
    "train.loc[(train.Number_Open_Accounts >= 21) & (train.Number_Open_Accounts <= 30), 'Total_Accounts'] = 'Under30'\n",
    "train.loc[(train.Number_Open_Accounts >= 31) & (train.Number_Open_Accounts <= 40), 'Total_Accounts'] = 'Under40'\n",
    "train.loc[(train.Number_Open_Accounts >= 41) & (train.Number_Open_Accounts <= 50), 'Total_Accounts'] = 'Under50'\n",
    "train.loc[(train.Number_Open_Accounts >= 51) & (train.Number_Open_Accounts <= 60), 'Total_Accounts'] = 'Under60'\n",
    "train.loc[(train.Number_Open_Accounts >= 61) & (train.Number_Open_Accounts <= 70), 'Total_Accounts'] = 'Under70'\n",
    "train.loc[(train.Number_Open_Accounts >= 71) & (train.Number_Open_Accounts <= 80), 'Total_Accounts'] = 'Under80'\n",
    "train.loc[(train.Number_Open_Accounts >= 81) & (train.Number_Open_Accounts <= 90), 'Total_Accounts'] = 'Under90'"
   ]
  },
  {
   "cell_type": "code",
   "execution_count": 73,
   "metadata": {},
   "outputs": [
    {
     "data": {
      "text/plain": [
       "<matplotlib.axes._subplots.AxesSubplot at 0x2a6d3f84940>"
      ]
     },
     "execution_count": 73,
     "metadata": {},
     "output_type": "execute_result"
    },
    {
     "data": {
      "image/png": "[encoded data removed]",
      "text/plain": [
       "<Figure size 1080x360 with 1 Axes>"
      ]
     },
     "metadata": {
      "needs_background": "light"
     },
     "output_type": "display_data"
    }
   ],
   "source": [
    "plt.figure(figsize=(15,5))\n",
    "sns.countplot(train[\"Total_Accounts\"])"
   ]
  },
  {
   "cell_type": "code",
   "execution_count": 74,
   "metadata": {},
   "outputs": [],
   "source": [
    "# Gender"
   ]
  },
  {
   "cell_type": "code",
   "execution_count": 75,
   "metadata": {},
   "outputs": [
    {
     "data": {
      "text/plain": [
       "<matplotlib.axes._subplots.AxesSubplot at 0x2a6d41d1dd8>"
      ]
     },
     "execution_count": 75,
     "metadata": {},
     "output_type": "execute_result"
    },
    {
     "data": {
      "image/png": "[encoded data removed]",
      "text/plain": [
       "<Figure size 432x288 with 1 Axes>"
      ]
     },
     "metadata": {
      "needs_background": "light"
     },
     "output_type": "display_data"
    }
   ],
   "source": [
    "sns.countplot(train[\"Gender\"])"
   ]
  },
  {
   "cell_type": "code",
   "execution_count": 76,
   "metadata": {},
   "outputs": [],
   "source": [
    "# Target col: Interest_Rate"
   ]
  },
  {
   "cell_type": "code",
   "execution_count": 77,
   "metadata": {},
   "outputs": [
    {
     "data": {
      "text/plain": [
       "<matplotlib.axes._subplots.AxesSubplot at 0x2a6d4925470>"
      ]
     },
     "execution_count": 77,
     "metadata": {},
     "output_type": "execute_result"
    },
    {
     "data": {
      "image/png": "[encoded data removed]",
      "text/plain": [
       "<Figure size 432x288 with 1 Axes>"
      ]
     },
     "metadata": {
      "needs_background": "light"
     },
     "output_type": "display_data"
    }
   ],
   "source": [
    "sns.countplot(train[\"Interest_Rate\"])"
   ]
  },
  {
   "cell_type": "code",
   "execution_count": 78,
   "metadata": {},
   "outputs": [],
   "source": [
    "# Lets look at the dataset"
   ]
  },
  {
   "cell_type": "code",
   "execution_count": 79,
   "metadata": {},
   "outputs": [
    {
     "data": {
      "text/html": [
       "<div>\n",
       "<style scoped>\n",
       "    .dataframe tbody tr th:only-of-type {\n",
       "        vertical-align: middle;\n",
       "    }\n",
       "\n",
       "    .dataframe tbody tr th {\n",
       "        vertical-align: top;\n",
       "    }\n",
       "\n",
       "    .dataframe thead th {\n",
       "        text-align: right;\n",
       "    }\n",
       "</style>\n",
       "<table border=\"1\" class=\"dataframe\">\n",
       "  <thead>\n",
       "    <tr style=\"text-align: right;\">\n",
       "      <th></th>\n",
       "      <th>Annual_Income</th>\n",
       "      <th>Debt_To_Income</th>\n",
       "      <th>Gender</th>\n",
       "      <th>Home_Owner</th>\n",
       "      <th>Income_Verified</th>\n",
       "      <th>Inquiries_Last_6Mo</th>\n",
       "      <th>Interest_Rate</th>\n",
       "      <th>Length_Employed</th>\n",
       "      <th>Loan_Amount_Requested</th>\n",
       "      <th>Loan_ID</th>\n",
       "      <th>Months_Since_Deliquency</th>\n",
       "      <th>Number_Open_Accounts</th>\n",
       "      <th>Purpose_Of_Loan</th>\n",
       "      <th>Total_Accounts</th>\n",
       "      <th>Loan_amt</th>\n",
       "      <th>Total_Income</th>\n",
       "      <th>Debt2Income</th>\n",
       "      <th>Years_Deliquency</th>\n",
       "    </tr>\n",
       "  </thead>\n",
       "  <tbody>\n",
       "    <tr>\n",
       "      <th>0</th>\n",
       "      <td>68000.000000</td>\n",
       "      <td>18.37</td>\n",
       "      <td>Female</td>\n",
       "      <td>Rent</td>\n",
       "      <td>not verified</td>\n",
       "      <td>0</td>\n",
       "      <td>1.0</td>\n",
       "      <td>&lt; 1 year</td>\n",
       "      <td>7000</td>\n",
       "      <td>10000001</td>\n",
       "      <td>34.0</td>\n",
       "      <td>9</td>\n",
       "      <td>car</td>\n",
       "      <td>Under10</td>\n",
       "      <td>Under10k</td>\n",
       "      <td>Under1L</td>\n",
       "      <td>Under20</td>\n",
       "      <td>Under3year</td>\n",
       "    </tr>\n",
       "    <tr>\n",
       "      <th>1</th>\n",
       "      <td>73392.793977</td>\n",
       "      <td>14.93</td>\n",
       "      <td>Female</td>\n",
       "      <td>Mortgage</td>\n",
       "      <td>VERIFIED - income</td>\n",
       "      <td>0</td>\n",
       "      <td>3.0</td>\n",
       "      <td>4 years</td>\n",
       "      <td>30000</td>\n",
       "      <td>10000002</td>\n",
       "      <td>17.0</td>\n",
       "      <td>12</td>\n",
       "      <td>debt_consolidation</td>\n",
       "      <td>Under20</td>\n",
       "      <td>Under30k</td>\n",
       "      <td>Under1L</td>\n",
       "      <td>Under15</td>\n",
       "      <td>Under2year</td>\n",
       "    </tr>\n",
       "    <tr>\n",
       "      <th>2</th>\n",
       "      <td>75566.400000</td>\n",
       "      <td>15.88</td>\n",
       "      <td>Male</td>\n",
       "      <td>Mortgage</td>\n",
       "      <td>VERIFIED - income source</td>\n",
       "      <td>0</td>\n",
       "      <td>3.0</td>\n",
       "      <td>7 years</td>\n",
       "      <td>24725</td>\n",
       "      <td>10000003</td>\n",
       "      <td>34.0</td>\n",
       "      <td>12</td>\n",
       "      <td>debt_consolidation</td>\n",
       "      <td>Under20</td>\n",
       "      <td>Under25k</td>\n",
       "      <td>Under1L</td>\n",
       "      <td>Under20</td>\n",
       "      <td>Under3year</td>\n",
       "    </tr>\n",
       "    <tr>\n",
       "      <th>3</th>\n",
       "      <td>56160.000000</td>\n",
       "      <td>14.34</td>\n",
       "      <td>Male</td>\n",
       "      <td>Mortgage</td>\n",
       "      <td>VERIFIED - income source</td>\n",
       "      <td>3</td>\n",
       "      <td>3.0</td>\n",
       "      <td>&lt; 1 year</td>\n",
       "      <td>16000</td>\n",
       "      <td>10000004</td>\n",
       "      <td>34.0</td>\n",
       "      <td>16</td>\n",
       "      <td>debt_consolidation</td>\n",
       "      <td>Under20</td>\n",
       "      <td>Under20k</td>\n",
       "      <td>Under1L</td>\n",
       "      <td>Under15</td>\n",
       "      <td>Under3year</td>\n",
       "    </tr>\n",
       "  </tbody>\n",
       "</table>\n",
       "</div>"
      ],
      "text/plain": [
       "   Annual_Income  Debt_To_Income  Gender Home_Owner           Income_Verified  \\\n",
       "0   68000.000000           18.37  Female       Rent              not verified   \n",
       "1   73392.793977           14.93  Female   Mortgage         VERIFIED - income   \n",
       "2   75566.400000           15.88    Male   Mortgage  VERIFIED - income source   \n",
       "3   56160.000000           14.34    Male   Mortgage  VERIFIED - income source   \n",
       "\n",
       "   Inquiries_Last_6Mo  Interest_Rate Length_Employed  Loan_Amount_Requested  \\\n",
       "0                   0            1.0        < 1 year                   7000   \n",
       "1                   0            3.0         4 years                  30000   \n",
       "2                   0            3.0         7 years                  24725   \n",
       "3                   3            3.0        < 1 year                  16000   \n",
       "\n",
       "    Loan_ID  Months_Since_Deliquency  Number_Open_Accounts  \\\n",
       "0  10000001                     34.0                     9   \n",
       "1  10000002                     17.0                    12   \n",
       "2  10000003                     34.0                    12   \n",
       "3  10000004                     34.0                    16   \n",
       "\n",
       "      Purpose_Of_Loan Total_Accounts  Loan_amt Total_Income Debt2Income  \\\n",
       "0                 car        Under10  Under10k      Under1L     Under20   \n",
       "1  debt_consolidation        Under20  Under30k      Under1L     Under15   \n",
       "2  debt_consolidation        Under20  Under25k      Under1L     Under20   \n",
       "3  debt_consolidation        Under20  Under20k      Under1L     Under15   \n",
       "\n",
       "  Years_Deliquency  \n",
       "0       Under3year  \n",
       "1       Under2year  \n",
       "2       Under3year  \n",
       "3       Under3year  "
      ]
     },
     "execution_count": 79,
     "metadata": {},
     "output_type": "execute_result"
    }
   ],
   "source": [
    "train.head(4)"
   ]
  },
  {
   "cell_type": "code",
   "execution_count": 80,
   "metadata": {},
   "outputs": [],
   "source": [
    "# Encoding all categorical values"
   ]
  },
  {
   "cell_type": "code",
   "execution_count": 81,
   "metadata": {},
   "outputs": [],
   "source": [
    "# Length_Employed"
   ]
  },
  {
   "cell_type": "code",
   "execution_count": 82,
   "metadata": {},
   "outputs": [
    {
     "data": {
      "text/plain": [
       "array(['< 1 year', '4 years', '7 years', '8 years', '2 years',\n",
       "       '10+ years', '1 year', '6 years', '9 years', '3 years', '5 years'],\n",
       "      dtype=object)"
      ]
     },
     "execution_count": 82,
     "metadata": {},
     "output_type": "execute_result"
    }
   ],
   "source": [
    "train[\"Length_Employed\"].unique()"
   ]
  },
  {
   "cell_type": "code",
   "execution_count": 307,
   "metadata": {},
   "outputs": [],
   "source": [
    "lemp = {\"< 1 year\": 0, \"1 year\": 1,\"2 years\":2,\"3 years\":3,\"4 years\":4,\"5 years\":5,\"6 years\":6,\"7 years\":7,\n",
    "       \"8 years\": 8, \"9 years\": 9,\"10+ years\":10}\n",
    "train['Length_Employed'] = train['Length_Employed'].map(lemp)"
   ]
  },
  {
   "cell_type": "code",
   "execution_count": 84,
   "metadata": {},
   "outputs": [],
   "source": [
    "# Home_Owner"
   ]
  },
  {
   "cell_type": "code",
   "execution_count": 85,
   "metadata": {},
   "outputs": [
    {
     "data": {
      "text/plain": [
       "array(['Rent', 'Mortgage', 'Own', 'Other', 'None'], dtype=object)"
      ]
     },
     "execution_count": 85,
     "metadata": {},
     "output_type": "execute_result"
    }
   ],
   "source": [
    "train[\"Home_Owner\"].unique()"
   ]
  },
  {
   "cell_type": "code",
   "execution_count": 86,
   "metadata": {},
   "outputs": [],
   "source": [
    "# Using get dummies to encode"
   ]
  },
  {
   "cell_type": "code",
   "execution_count": 290,
   "metadata": {},
   "outputs": [],
   "source": [
    "home=pd.get_dummies(train[\"Home_Owner\"],drop_first=True,prefix=\"HO_\")"
   ]
  },
  {
   "cell_type": "code",
   "execution_count": 88,
   "metadata": {},
   "outputs": [],
   "source": [
    "# concating with original dataset"
   ]
  },
  {
   "cell_type": "code",
   "execution_count": 291,
   "metadata": {},
   "outputs": [],
   "source": [
    "train=pd.concat([train,home],axis=1)"
   ]
  },
  {
   "cell_type": "code",
   "execution_count": 90,
   "metadata": {},
   "outputs": [],
   "source": [
    "# dropping original col"
   ]
  },
  {
   "cell_type": "code",
   "execution_count": 292,
   "metadata": {},
   "outputs": [],
   "source": [
    "del train[\"Home_Owner\"]"
   ]
  },
  {
   "cell_type": "code",
   "execution_count": 92,
   "metadata": {},
   "outputs": [],
   "source": [
    "# Income_Verified"
   ]
  },
  {
   "cell_type": "code",
   "execution_count": 93,
   "metadata": {},
   "outputs": [
    {
     "data": {
      "text/plain": [
       "array(['not verified', 'VERIFIED - income', 'VERIFIED - income source'],\n",
       "      dtype=object)"
      ]
     },
     "execution_count": 93,
     "metadata": {},
     "output_type": "execute_result"
    }
   ],
   "source": [
    "train[\"Income_Verified\"].unique()"
   ]
  },
  {
   "cell_type": "code",
   "execution_count": 293,
   "metadata": {},
   "outputs": [],
   "source": [
    "inc=pd.get_dummies(train[\"Income_Verified\"],drop_first=True)"
   ]
  },
  {
   "cell_type": "code",
   "execution_count": 294,
   "metadata": {},
   "outputs": [],
   "source": [
    "train=pd.concat([train,inc],axis=1)"
   ]
  },
  {
   "cell_type": "code",
   "execution_count": 295,
   "metadata": {},
   "outputs": [],
   "source": [
    "del train[\"Income_Verified\"]"
   ]
  },
  {
   "cell_type": "code",
   "execution_count": 97,
   "metadata": {},
   "outputs": [],
   "source": [
    "# Purpose_Of_Loan"
   ]
  },
  {
   "cell_type": "code",
   "execution_count": 98,
   "metadata": {},
   "outputs": [
    {
     "data": {
      "text/plain": [
       "array(['car', 'debt_consolidation', 'credit_card', 'home_improvement',\n",
       "       'major_purchase', 'other', 'medical', 'small_business', 'moving',\n",
       "       'wedding', 'vacation', 'house', 'educational', 'renewable_energy'],\n",
       "      dtype=object)"
      ]
     },
     "execution_count": 98,
     "metadata": {},
     "output_type": "execute_result"
    }
   ],
   "source": [
    "train[\"Purpose_Of_Loan\"].unique()"
   ]
  },
  {
   "cell_type": "code",
   "execution_count": 99,
   "metadata": {},
   "outputs": [],
   "source": [
    "le=LabelEncoder()"
   ]
  },
  {
   "cell_type": "code",
   "execution_count": 296,
   "metadata": {},
   "outputs": [],
   "source": [
    "train[\"Purpose_Of_Loan\"]=le.fit_transform(train[\"Purpose_Of_Loan\"])"
   ]
  },
  {
   "cell_type": "code",
   "execution_count": 101,
   "metadata": {},
   "outputs": [],
   "source": [
    "# Total_Accounts"
   ]
  },
  {
   "cell_type": "code",
   "execution_count": 102,
   "metadata": {},
   "outputs": [
    {
     "data": {
      "text/plain": [
       "array(['Under10', 'Under20', 'Under30', 'Under40', 'Under50', 'Under70',\n",
       "       'Under60', 'Under80', 'Under90'], dtype=object)"
      ]
     },
     "execution_count": 102,
     "metadata": {},
     "output_type": "execute_result"
    }
   ],
   "source": [
    "train[\"Total_Accounts\"].unique()"
   ]
  },
  {
   "cell_type": "code",
   "execution_count": 197,
   "metadata": {},
   "outputs": [],
   "source": [
    "tacc = {\"Under10\": 0, \"Under20\": 1,\"Under30\":2,\"Under40\":3,\"Under50\":4,\"Under60\":5,\"Under70\":6,\"Under80\":7,\"Under90\":8}\n",
    "train['Total_Accounts'] = train['Total_Accounts'].map(tacc)"
   ]
  },
  {
   "cell_type": "code",
   "execution_count": 104,
   "metadata": {},
   "outputs": [],
   "source": [
    "# Gender"
   ]
  },
  {
   "cell_type": "code",
   "execution_count": 105,
   "metadata": {},
   "outputs": [
    {
     "data": {
      "text/plain": [
       "array(['Female', 'Male'], dtype=object)"
      ]
     },
     "execution_count": 105,
     "metadata": {},
     "output_type": "execute_result"
    }
   ],
   "source": [
    "train[\"Gender\"].unique()"
   ]
  },
  {
   "cell_type": "code",
   "execution_count": 297,
   "metadata": {},
   "outputs": [],
   "source": [
    "gen = {\"Female\": 0, \"Male\": 1}\n",
    "train[\"Gender\"] = train['Gender'].map(gen)"
   ]
  },
  {
   "cell_type": "code",
   "execution_count": 107,
   "metadata": {},
   "outputs": [],
   "source": [
    "# Loan_amt"
   ]
  },
  {
   "cell_type": "code",
   "execution_count": 108,
   "metadata": {},
   "outputs": [
    {
     "data": {
      "text/plain": [
       "array(['Under10k', 'Under30k', 'Under25k', 'Under20k', 'Under5k',\n",
       "       'Under15k', 'Under35k'], dtype=object)"
      ]
     },
     "execution_count": 108,
     "metadata": {},
     "output_type": "execute_result"
    }
   ],
   "source": [
    "train[\"Loan_amt\"].unique()"
   ]
  },
  {
   "cell_type": "code",
   "execution_count": 199,
   "metadata": {},
   "outputs": [],
   "source": [
    "lamt = {\"Under5k\": 0, \"Under10k\": 1,\"Under15k\":2,\"Under20k\":3,\"Under25k\":4,\"Under30k\":5,\"Under35k\":6}\n",
    "train['Loan_amt'] = train['Loan_amt'].map(lamt)"
   ]
  },
  {
   "cell_type": "code",
   "execution_count": 110,
   "metadata": {},
   "outputs": [],
   "source": [
    "# Total_Income"
   ]
  },
  {
   "cell_type": "code",
   "execution_count": 111,
   "metadata": {},
   "outputs": [
    {
     "data": {
      "text/plain": [
       "array(['Under1L', 'Under2L', 'Under4L', 'Under3L', 'Under6L', 'Under5L',\n",
       "       'Under9L', 'Under10L', 'Under50L', 'Under7L', 'Under8L',\n",
       "       'Under1Cr'], dtype=object)"
      ]
     },
     "execution_count": 111,
     "metadata": {},
     "output_type": "execute_result"
    }
   ],
   "source": [
    "train[\"Total_Income\"].unique()"
   ]
  },
  {
   "cell_type": "code",
   "execution_count": 200,
   "metadata": {},
   "outputs": [],
   "source": [
    "tinc = {\"Under1L\": 0, \"Under2L\": 1,\"Under3L\":2,\"Under4L\":3,\"Under5L\":4,\"Under6L\":5,\"Under7L\":6,\"Under8L\":7,\n",
    "       \"Under9L\": 8, \"Under10L\": 9,\"Under50L\":10,\"Under1Cr\":11}\n",
    "train['Total_Income'] = train['Total_Income'].map(tinc)"
   ]
  },
  {
   "cell_type": "code",
   "execution_count": 113,
   "metadata": {},
   "outputs": [],
   "source": [
    "# Debt2Income"
   ]
  },
  {
   "cell_type": "code",
   "execution_count": 114,
   "metadata": {},
   "outputs": [
    {
     "data": {
      "text/plain": [
       "array(['Under20', 'Under15', 'Under25', 'Under10', 'Under35', 'Under40',\n",
       "       'Under30', 'Under5'], dtype=object)"
      ]
     },
     "execution_count": 114,
     "metadata": {},
     "output_type": "execute_result"
    }
   ],
   "source": [
    "train[\"Debt2Income\"].unique()"
   ]
  },
  {
   "cell_type": "code",
   "execution_count": 201,
   "metadata": {},
   "outputs": [],
   "source": [
    "dinc = {\"Under5\": 0, \"Under10\": 1,\"Under15\":2,\"Under20\":3,\"Under25\":4,\"Under30\":5,\"Under35\":6,\"Under40\":7}\n",
    "train['Debt2Income'] = train['Debt2Income'].map(dinc)"
   ]
  },
  {
   "cell_type": "code",
   "execution_count": 116,
   "metadata": {},
   "outputs": [],
   "source": [
    "# Years_Deliquency"
   ]
  },
  {
   "cell_type": "code",
   "execution_count": 117,
   "metadata": {},
   "outputs": [
    {
     "data": {
      "text/plain": [
       "array(['Under3year', 'Under2year', 'Under6year', 'Under1year',\n",
       "       'Under4year', 'Under5year', 'Under7year', 'Under8year',\n",
       "       'Under11year', 'Under9year', 'Under12year', 'Under10year',\n",
       "       'Under13year', 'Under15year'], dtype=object)"
      ]
     },
     "execution_count": 117,
     "metadata": {},
     "output_type": "execute_result"
    }
   ],
   "source": [
    "train[\"Years_Deliquency\"].unique()"
   ]
  },
  {
   "cell_type": "code",
   "execution_count": 202,
   "metadata": {},
   "outputs": [],
   "source": [
    "ydel = {\"Under1year\": 0, \"Under2year\": 1,\"Under3year\":2,\"Under4year\":3,\"Under5year\":4,\"Under6year\":5,\"Under7year\":6,\"Under8year\":7,\n",
    "       \"Under9year\": 8, \"Under10year\": 9,\"Under11year\":10,\"Under12year\":11,\"Under13year\":12,\"Under14year\":13,\"Under15year\":14}\n",
    "train['Years_Deliquency'] = train['Years_Deliquency'].map(ydel)"
   ]
  },
  {
   "cell_type": "code",
   "execution_count": 119,
   "metadata": {},
   "outputs": [],
   "source": [
    "# Lets round off Annual income"
   ]
  },
  {
   "cell_type": "code",
   "execution_count": 298,
   "metadata": {},
   "outputs": [],
   "source": [
    "train[\"Annual_Income\"]=np.round(train[\"Annual_Income\"])\n",
    "train[\"Annual_Income\"]=train[\"Annual_Income\"].astype(int)"
   ]
  },
  {
   "cell_type": "code",
   "execution_count": 121,
   "metadata": {},
   "outputs": [],
   "source": [
    "# Lets have a look at the train dataset"
   ]
  },
  {
   "cell_type": "code",
   "execution_count": 299,
   "metadata": {},
   "outputs": [
    {
     "data": {
      "text/plain": [
       "Index(['Annual_Income', 'Debt_To_Income', 'Gender', 'Inquiries_Last_6Mo',\n",
       "       'Interest_Rate', 'Length_Employed', 'Loan_Amount_Requested', 'Loan_ID',\n",
       "       'Months_Since_Deliquency', 'Number_Open_Accounts', 'Purpose_Of_Loan',\n",
       "       'Total_Accounts', 'HO__None', 'HO__Other', 'HO__Own', 'HO__Rent',\n",
       "       'VERIFIED - income source', 'not verified'],\n",
       "      dtype='object')"
      ]
     },
     "execution_count": 299,
     "metadata": {},
     "output_type": "execute_result"
    }
   ],
   "source": [
    "train.columns"
   ]
  },
  {
   "cell_type": "code",
   "execution_count": 204,
   "metadata": {},
   "outputs": [
    {
     "data": {
      "text/html": [
       "<div>\n",
       "<style scoped>\n",
       "    .dataframe tbody tr th:only-of-type {\n",
       "        vertical-align: middle;\n",
       "    }\n",
       "\n",
       "    .dataframe tbody tr th {\n",
       "        vertical-align: top;\n",
       "    }\n",
       "\n",
       "    .dataframe thead th {\n",
       "        text-align: right;\n",
       "    }\n",
       "</style>\n",
       "<table border=\"1\" class=\"dataframe\">\n",
       "  <thead>\n",
       "    <tr style=\"text-align: right;\">\n",
       "      <th></th>\n",
       "      <th>Annual_Income</th>\n",
       "      <th>Debt_To_Income</th>\n",
       "      <th>Gender</th>\n",
       "      <th>Inquiries_Last_6Mo</th>\n",
       "      <th>Interest_Rate</th>\n",
       "      <th>Length_Employed</th>\n",
       "      <th>Loan_Amount_Requested</th>\n",
       "      <th>Loan_ID</th>\n",
       "      <th>Months_Since_Deliquency</th>\n",
       "      <th>Number_Open_Accounts</th>\n",
       "      <th>...</th>\n",
       "      <th>Loan_amt</th>\n",
       "      <th>Total_Income</th>\n",
       "      <th>Debt2Income</th>\n",
       "      <th>Years_Deliquency</th>\n",
       "      <th>HO__None</th>\n",
       "      <th>HO__Other</th>\n",
       "      <th>HO__Own</th>\n",
       "      <th>HO__Rent</th>\n",
       "      <th>VERIFIED - income source</th>\n",
       "      <th>not verified</th>\n",
       "    </tr>\n",
       "  </thead>\n",
       "  <tbody>\n",
       "    <tr>\n",
       "      <th>15944</th>\n",
       "      <td>86000</td>\n",
       "      <td>21.87</td>\n",
       "      <td>0</td>\n",
       "      <td>1</td>\n",
       "      <td>3.0</td>\n",
       "      <td>4</td>\n",
       "      <td>26500</td>\n",
       "      <td>10015945</td>\n",
       "      <td>34.0</td>\n",
       "      <td>7</td>\n",
       "      <td>...</td>\n",
       "      <td>5</td>\n",
       "      <td>0</td>\n",
       "      <td>4</td>\n",
       "      <td>2</td>\n",
       "      <td>0</td>\n",
       "      <td>0</td>\n",
       "      <td>0</td>\n",
       "      <td>1</td>\n",
       "      <td>1</td>\n",
       "      <td>0</td>\n",
       "    </tr>\n",
       "    <tr>\n",
       "      <th>118794</th>\n",
       "      <td>45000</td>\n",
       "      <td>12.03</td>\n",
       "      <td>0</td>\n",
       "      <td>0</td>\n",
       "      <td>2.0</td>\n",
       "      <td>10</td>\n",
       "      <td>9000</td>\n",
       "      <td>10118795</td>\n",
       "      <td>18.0</td>\n",
       "      <td>10</td>\n",
       "      <td>...</td>\n",
       "      <td>1</td>\n",
       "      <td>0</td>\n",
       "      <td>2</td>\n",
       "      <td>1</td>\n",
       "      <td>0</td>\n",
       "      <td>0</td>\n",
       "      <td>0</td>\n",
       "      <td>0</td>\n",
       "      <td>1</td>\n",
       "      <td>0</td>\n",
       "    </tr>\n",
       "    <tr>\n",
       "      <th>25975</th>\n",
       "      <td>37300</td>\n",
       "      <td>26.48</td>\n",
       "      <td>1</td>\n",
       "      <td>0</td>\n",
       "      <td>2.0</td>\n",
       "      <td>10</td>\n",
       "      <td>6000</td>\n",
       "      <td>10025976</td>\n",
       "      <td>34.0</td>\n",
       "      <td>10</td>\n",
       "      <td>...</td>\n",
       "      <td>1</td>\n",
       "      <td>0</td>\n",
       "      <td>5</td>\n",
       "      <td>2</td>\n",
       "      <td>0</td>\n",
       "      <td>0</td>\n",
       "      <td>0</td>\n",
       "      <td>0</td>\n",
       "      <td>1</td>\n",
       "      <td>0</td>\n",
       "    </tr>\n",
       "    <tr>\n",
       "      <th>42159</th>\n",
       "      <td>92000</td>\n",
       "      <td>22.58</td>\n",
       "      <td>1</td>\n",
       "      <td>1</td>\n",
       "      <td>NaN</td>\n",
       "      <td>10</td>\n",
       "      <td>25000</td>\n",
       "      <td>10206469</td>\n",
       "      <td>34.0</td>\n",
       "      <td>11</td>\n",
       "      <td>...</td>\n",
       "      <td>4</td>\n",
       "      <td>0</td>\n",
       "      <td>4</td>\n",
       "      <td>2</td>\n",
       "      <td>0</td>\n",
       "      <td>0</td>\n",
       "      <td>0</td>\n",
       "      <td>0</td>\n",
       "      <td>1</td>\n",
       "      <td>0</td>\n",
       "    </tr>\n",
       "  </tbody>\n",
       "</table>\n",
       "<p>4 rows × 22 columns</p>\n",
       "</div>"
      ],
      "text/plain": [
       "        Annual_Income  Debt_To_Income  Gender  Inquiries_Last_6Mo  \\\n",
       "15944           86000           21.87       0                   1   \n",
       "118794          45000           12.03       0                   0   \n",
       "25975           37300           26.48       1                   0   \n",
       "42159           92000           22.58       1                   1   \n",
       "\n",
       "        Interest_Rate  Length_Employed  Loan_Amount_Requested   Loan_ID  \\\n",
       "15944             3.0                4                  26500  10015945   \n",
       "118794            2.0               10                   9000  10118795   \n",
       "25975             2.0               10                   6000  10025976   \n",
       "42159             NaN               10                  25000  10206469   \n",
       "\n",
       "        Months_Since_Deliquency  Number_Open_Accounts  ...  Loan_amt  \\\n",
       "15944                      34.0                     7  ...         5   \n",
       "118794                     18.0                    10  ...         1   \n",
       "25975                      34.0                    10  ...         1   \n",
       "42159                      34.0                    11  ...         4   \n",
       "\n",
       "        Total_Income  Debt2Income  Years_Deliquency  HO__None  HO__Other  \\\n",
       "15944              0            4                 2         0          0   \n",
       "118794             0            2                 1         0          0   \n",
       "25975              0            5                 2         0          0   \n",
       "42159              0            4                 2         0          0   \n",
       "\n",
       "        HO__Own  HO__Rent  VERIFIED - income source  not verified  \n",
       "15944         0         1                         1             0  \n",
       "118794        0         0                         1             0  \n",
       "25975         0         0                         1             0  \n",
       "42159         0         0                         1             0  \n",
       "\n",
       "[4 rows x 22 columns]"
      ]
     },
     "execution_count": 204,
     "metadata": {},
     "output_type": "execute_result"
    }
   ],
   "source": [
    "train.sample(4) "
   ]
  },
  {
   "cell_type": "code",
   "execution_count": 209,
   "metadata": {},
   "outputs": [],
   "source": [
    "new_train=train.drop([\"Annual_Income\",\"Debt_To_Income\",\"Loan_Amount_Requested\",\"Months_Since_Deliquency\",\"Number_Open_Accounts\",\"Loan_ID\"],axis=1)"
   ]
  },
  {
   "cell_type": "code",
   "execution_count": 347,
   "metadata": {},
   "outputs": [],
   "source": [
    "train1=train.iloc[:164309]"
   ]
  },
  {
   "cell_type": "code",
   "execution_count": 348,
   "metadata": {},
   "outputs": [],
   "source": [
    "test=train.iloc[164309:]"
   ]
  },
  {
   "cell_type": "code",
   "execution_count": 346,
   "metadata": {},
   "outputs": [],
   "source": [
    "del train[\"Months_Since_Deliquency\"]"
   ]
  },
  {
   "cell_type": "code",
   "execution_count": 127,
   "metadata": {},
   "outputs": [],
   "source": [
    "# we have processed the dataset now we will apply ml algo, lets split it into dependent and independent variable"
   ]
  },
  {
   "cell_type": "code",
   "execution_count": 349,
   "metadata": {},
   "outputs": [],
   "source": [
    "del test[\"Interest_Rate\"]"
   ]
  },
  {
   "cell_type": "code",
   "execution_count": null,
   "metadata": {},
   "outputs": [],
   "source": []
  },
  {
   "cell_type": "code",
   "execution_count": 350,
   "metadata": {},
   "outputs": [],
   "source": [
    "y=train1[\"Interest_Rate\"]\n",
    "x=train1.drop(\"Interest_Rate\",axis=1)"
   ]
  },
  {
   "cell_type": "code",
   "execution_count": 329,
   "metadata": {},
   "outputs": [],
   "source": [
    "sc=StandardScaler()\n",
    "x1=sc.fit_transform(x)\n",
    "x1=pd.DataFrame(x1)"
   ]
  },
  {
   "cell_type": "code",
   "execution_count": 330,
   "metadata": {},
   "outputs": [],
   "source": [
    "sc=StandardScaler()\n",
    "test1=sc.fit_transform(test)\n",
    "test1=pd.DataFrame(test1)"
   ]
  },
  {
   "cell_type": "code",
   "execution_count": 130,
   "metadata": {},
   "outputs": [],
   "source": [
    "# Lets check the feature importance"
   ]
  },
  {
   "cell_type": "code",
   "execution_count": 261,
   "metadata": {},
   "outputs": [
    {
     "name": "stderr",
     "output_type": "stream",
     "text": [
      "c:\\users\\acer\\appdata\\local\\programs\\python\\python36\\lib\\site-packages\\sklearn\\ensemble\\forest.py:245: FutureWarning: The default value of n_estimators will change from 10 in version 0.20 to 100 in 0.22.\n",
      "  \"10 in version 0.20 to 100 in 0.22.\", FutureWarning)\n"
     ]
    },
    {
     "name": "stdout",
     "output_type": "stream",
     "text": [
      "[1.07425728e-01 1.10076273e-01 2.71210992e-02 4.18790344e-02\n",
      " 7.60470302e-02 9.98517596e-02 1.07484611e-01 6.43376050e-02\n",
      " 9.24837698e-02 5.91622897e-02 2.74402654e-02 3.81679867e-02\n",
      " 1.52489563e-02 4.30290407e-02 3.99012999e-02 6.07580848e-05\n",
      " 1.84276741e-04 1.21590441e-02 1.12084913e-02 9.34898115e-03\n",
      " 1.73816992e-02]\n"
     ]
    },
    {
     "data": {
      "image/png": "[encoded data removed]",
      "text/plain": [
       "<Figure size 864x360 with 1 Axes>"
      ]
     },
     "metadata": {
      "needs_background": "light"
     },
     "output_type": "display_data"
    }
   ],
   "source": [
    "fig=plt.figure(figsize=(12,5))\n",
    "model = ExtraTreesClassifier()\n",
    "model.fit(x,y)\n",
    "print(model.feature_importances_)\n",
    "#plot graph of feature importances for better visualization\n",
    "feat_importances = pd.Series(model.feature_importances_, index=x.columns)\n",
    "feat_importances.nlargest(16).plot(kind='bar')\n",
    "plt.show()"
   ]
  },
  {
   "cell_type": "code",
   "execution_count": 263,
   "metadata": {},
   "outputs": [],
   "source": [
    "train1=train1.drop([\"Total_Accounts\",\"Gender\",\"not verified\",\"Total_Income\"],axis=1)"
   ]
  },
  {
   "cell_type": "code",
   "execution_count": 132,
   "metadata": {},
   "outputs": [],
   "source": [
    "# splitting the dataset using train test split"
   ]
  },
  {
   "cell_type": "code",
   "execution_count": 351,
   "metadata": {},
   "outputs": [],
   "source": [
    "x_train,x_test,y_train,y_test=train_test_split(x,y,test_size=0.3,random_state=0)"
   ]
  },
  {
   "cell_type": "code",
   "execution_count": 134,
   "metadata": {},
   "outputs": [],
   "source": [
    "# Printing the shape of splitted dataset"
   ]
  },
  {
   "cell_type": "code",
   "execution_count": 313,
   "metadata": {},
   "outputs": [
    {
     "name": "stdout",
     "output_type": "stream",
     "text": [
      "shape of x_train: (115016, 17)\n",
      "shape of y_train: (115016,)\n",
      "shape of x_test: (49293, 17)\n",
      "shape of y_test: (49293,)\n"
     ]
    }
   ],
   "source": [
    "print(\"shape of x_train:\",x_train.shape)\n",
    "print(\"shape of y_train:\",y_train.shape)\n",
    "print(\"shape of x_test:\",x_test.shape)\n",
    "print(\"shape of y_test:\",y_test.shape)"
   ]
  },
  {
   "cell_type": "code",
   "execution_count": 136,
   "metadata": {},
   "outputs": [],
   "source": [
    "# Applying machine learning algorithm on train dataset "
   ]
  },
  {
   "cell_type": "code",
   "execution_count": 314,
   "metadata": {},
   "outputs": [
    {
     "name": "stderr",
     "output_type": "stream",
     "text": [
      "c:\\users\\acer\\appdata\\local\\programs\\python\\python36\\lib\\site-packages\\sklearn\\ensemble\\forest.py:245: FutureWarning: The default value of n_estimators will change from 10 in version 0.20 to 100 in 0.22.\n",
      "  \"10 in version 0.20 to 100 in 0.22.\", FutureWarning)\n"
     ]
    },
    {
     "name": "stdout",
     "output_type": "stream",
     "text": [
      "Weighted F1 Score: 0.4674561869511993\n"
     ]
    }
   ],
   "source": [
    "etc=ExtraTreesClassifier()\n",
    "etc.fit(x_train,y_train)\n",
    "prediction=etc.predict(x_test)\n",
    "print(\"Weighted F1 Score:\",f1_score(y_test, prediction,average='weighted'))"
   ]
  },
  {
   "cell_type": "code",
   "execution_count": 315,
   "metadata": {},
   "outputs": [
    {
     "name": "stdout",
     "output_type": "stream",
     "text": [
      "Weighted F1 Score: 0.43024392643952747\n"
     ]
    }
   ],
   "source": [
    "mn=MultinomialNB()\n",
    "mn.fit(x_train,y_train)\n",
    "prediction=mn.predict(x_test)\n",
    "print(\"Weighted F1 Score:\",f1_score(y_test, prediction,average='weighted'))"
   ]
  },
  {
   "cell_type": "code",
   "execution_count": 316,
   "metadata": {},
   "outputs": [
    {
     "name": "stdout",
     "output_type": "stream",
     "text": [
      "Weighted F1 Score: 0.4331998438018961\n"
     ]
    }
   ],
   "source": [
    "cnb=ComplementNB()\n",
    "cnb.fit(x_train,y_train)\n",
    "prediction=cnb.predict(x_test)\n",
    "print(\"Weighted F1 Score:\",f1_score(y_test, prediction,average='weighted'))"
   ]
  },
  {
   "cell_type": "code",
   "execution_count": 317,
   "metadata": {},
   "outputs": [
    {
     "name": "stdout",
     "output_type": "stream",
     "text": [
      "Weighted F1 Score: 0.4188362672756368\n"
     ]
    }
   ],
   "source": [
    "bnb=BernoulliNB()\n",
    "bnb.fit(x_train,y_train)\n",
    "prediction=bnb.predict(x_test)\n",
    "print(\"Weighted F1 Score:\",f1_score(y_test, prediction,average='weighted'))"
   ]
  },
  {
   "cell_type": "code",
   "execution_count": 318,
   "metadata": {},
   "outputs": [
    {
     "name": "stderr",
     "output_type": "stream",
     "text": [
      "c:\\users\\acer\\appdata\\local\\programs\\python\\python36\\lib\\site-packages\\sklearn\\linear_model\\logistic.py:432: FutureWarning: Default solver will be changed to 'lbfgs' in 0.22. Specify a solver to silence this warning.\n",
      "  FutureWarning)\n",
      "c:\\users\\acer\\appdata\\local\\programs\\python\\python36\\lib\\site-packages\\sklearn\\linear_model\\logistic.py:469: FutureWarning: Default multi_class will be changed to 'auto' in 0.22. Specify the multi_class option to silence this warning.\n",
      "  \"this warning.\", FutureWarning)\n"
     ]
    },
    {
     "name": "stdout",
     "output_type": "stream",
     "text": [
      "Weighted F1 Score: 0.4025086192644891\n"
     ]
    }
   ],
   "source": [
    "lr=LogisticRegression()\n",
    "lr.fit(x_train,y_train)\n",
    "prediction=lr.predict(x_test)\n",
    "print(\"Weighted F1 Score:\",f1_score(y_test, prediction,average='weighted'))"
   ]
  },
  {
   "cell_type": "code",
   "execution_count": null,
   "metadata": {},
   "outputs": [],
   "source": []
  },
  {
   "cell_type": "code",
   "execution_count": 319,
   "metadata": {},
   "outputs": [
    {
     "name": "stdout",
     "output_type": "stream",
     "text": [
      "Weighted F1 Score: 0.42826645945006814\n"
     ]
    }
   ],
   "source": [
    "nb=GaussianNB()\n",
    "nb.fit(x_train,y_train)\n",
    "prediction=nb.predict(x_test)\n",
    "print(\"Weighted F1 Score:\",f1_score(y_test, prediction,average='weighted'))"
   ]
  },
  {
   "cell_type": "code",
   "execution_count": 320,
   "metadata": {},
   "outputs": [
    {
     "name": "stdout",
     "output_type": "stream",
     "text": [
      "Weighted F1 Score: 0.472463883160686\n"
     ]
    }
   ],
   "source": [
    "bc=BaggingClassifier()\n",
    "bc.fit(x_train,y_train)\n",
    "prediction=bc.predict(x_test)\n",
    "print(\"Weighted F1 Score:\",f1_score(y_test, prediction,average='weighted'))"
   ]
  },
  {
   "cell_type": "code",
   "execution_count": 273,
   "metadata": {},
   "outputs": [
    {
     "name": "stderr",
     "output_type": "stream",
     "text": [
      "c:\\users\\acer\\appdata\\local\\programs\\python\\python36\\lib\\site-packages\\sklearn\\ensemble\\forest.py:245: FutureWarning: The default value of n_estimators will change from 10 in version 0.20 to 100 in 0.22.\n",
      "  \"10 in version 0.20 to 100 in 0.22.\", FutureWarning)\n"
     ]
    },
    {
     "name": "stdout",
     "output_type": "stream",
     "text": [
      "Weighted F1 Score: 0.46420939325936245\n"
     ]
    }
   ],
   "source": [
    "rf=RandomForestClassifier()\n",
    "rf.fit(x_train,y_train)\n",
    "prediction=rf.predict(x_test)\n",
    "print(\"Weighted F1 Score:\",f1_score(y_test, prediction,average='weighted'))"
   ]
  },
  {
   "cell_type": "code",
   "execution_count": 274,
   "metadata": {},
   "outputs": [
    {
     "name": "stdout",
     "output_type": "stream",
     "text": [
      "Weighted F1 Score: 0.42082259742456185\n"
     ]
    }
   ],
   "source": [
    "dt=DecisionTreeClassifier(criterion=\"entropy\")\n",
    "dt.fit(x_train,y_train)\n",
    "prediction=dt.predict(x_test)\n",
    "print(\"Weighted F1 Score:\",f1_score(y_test, prediction,average='weighted'))"
   ]
  },
  {
   "cell_type": "code",
   "execution_count": 352,
   "metadata": {},
   "outputs": [
    {
     "name": "stdout",
     "output_type": "stream",
     "text": [
      "Weighted F1 Score: 0.5125602330751737\n"
     ]
    }
   ],
   "source": [
    "xgb=XGBClassifier()\n",
    "prediction= xgb.fit(x_train,y_train).predict(x_test)\n",
    "print(\"Weighted F1 Score:\",f1_score(y_test, prediction,average='weighted'))"
   ]
  },
  {
   "cell_type": "code",
   "execution_count": null,
   "metadata": {},
   "outputs": [],
   "source": []
  },
  {
   "cell_type": "code",
   "execution_count": 353,
   "metadata": {},
   "outputs": [
    {
     "name": "stdout",
     "output_type": "stream",
     "text": [
      "Learning rate set to 0.100791\n",
      "0:\tlearn: 1.0797493\ttotal: 57.5ms\tremaining: 57.5s\n",
      "1:\tlearn: 1.0639326\ttotal: 108ms\tremaining: 54.1s\n",
      "2:\tlearn: 1.0509053\ttotal: 164ms\tremaining: 54.5s\n",
      "3:\tlearn: 1.0392999\ttotal: 233ms\tremaining: 58s\n",
      "4:\tlearn: 1.0300489\ttotal: 289ms\tremaining: 57.5s\n",
      "5:\tlearn: 1.0224337\ttotal: 339ms\tremaining: 56.1s\n",
      "6:\tlearn: 1.0153652\ttotal: 399ms\tremaining: 56.6s\n",
      "7:\tlearn: 1.0087603\ttotal: 454ms\tremaining: 56.3s\n",
      "8:\tlearn: 1.0033818\ttotal: 504ms\tremaining: 55.5s\n",
      "9:\tlearn: 0.9987571\ttotal: 567ms\tremaining: 56.1s\n",
      "10:\tlearn: 0.9945463\ttotal: 624ms\tremaining: 56.1s\n",
      "11:\tlearn: 0.9907756\ttotal: 678ms\tremaining: 55.8s\n",
      "12:\tlearn: 0.9873924\ttotal: 726ms\tremaining: 55.1s\n",
      "13:\tlearn: 0.9842238\ttotal: 782ms\tremaining: 55.1s\n",
      "14:\tlearn: 0.9816168\ttotal: 842ms\tremaining: 55.3s\n",
      "15:\tlearn: 0.9790623\ttotal: 907ms\tremaining: 55.8s\n",
      "16:\tlearn: 0.9768675\ttotal: 961ms\tremaining: 55.5s\n",
      "17:\tlearn: 0.9749997\ttotal: 1.01s\tremaining: 55.3s\n",
      "18:\tlearn: 0.9731227\ttotal: 1.07s\tremaining: 55.4s\n",
      "19:\tlearn: 0.9714033\ttotal: 1.14s\tremaining: 55.6s\n",
      "20:\tlearn: 0.9696610\ttotal: 1.2s\tremaining: 56s\n",
      "21:\tlearn: 0.9682661\ttotal: 1.26s\tremaining: 56s\n",
      "22:\tlearn: 0.9667996\ttotal: 1.31s\tremaining: 55.8s\n",
      "23:\tlearn: 0.9657677\ttotal: 1.36s\tremaining: 55.5s\n",
      "24:\tlearn: 0.9645494\ttotal: 1.42s\tremaining: 55.3s\n",
      "25:\tlearn: 0.9632573\ttotal: 1.47s\tremaining: 55.1s\n",
      "26:\tlearn: 0.9623774\ttotal: 1.52s\tremaining: 54.9s\n",
      "27:\tlearn: 0.9614850\ttotal: 1.58s\tremaining: 54.8s\n",
      "28:\tlearn: 0.9606075\ttotal: 1.64s\tremaining: 54.8s\n",
      "29:\tlearn: 0.9597618\ttotal: 1.69s\tremaining: 54.6s\n",
      "30:\tlearn: 0.9589211\ttotal: 1.74s\tremaining: 54.4s\n",
      "31:\tlearn: 0.9581901\ttotal: 1.79s\tremaining: 54.3s\n",
      "32:\tlearn: 0.9575143\ttotal: 1.85s\tremaining: 54.3s\n",
      "33:\tlearn: 0.9569128\ttotal: 1.91s\tremaining: 54.2s\n",
      "34:\tlearn: 0.9563291\ttotal: 1.96s\tremaining: 54s\n",
      "35:\tlearn: 0.9558925\ttotal: 2s\tremaining: 53.7s\n",
      "36:\tlearn: 0.9553481\ttotal: 2.06s\tremaining: 53.5s\n",
      "37:\tlearn: 0.9549046\ttotal: 2.11s\tremaining: 53.5s\n",
      "38:\tlearn: 0.9544356\ttotal: 2.17s\tremaining: 53.5s\n",
      "39:\tlearn: 0.9540546\ttotal: 2.22s\tremaining: 53.3s\n",
      "40:\tlearn: 0.9536126\ttotal: 2.28s\tremaining: 53.4s\n",
      "41:\tlearn: 0.9532597\ttotal: 2.33s\tremaining: 53.1s\n",
      "42:\tlearn: 0.9528342\ttotal: 2.38s\tremaining: 52.9s\n",
      "43:\tlearn: 0.9522771\ttotal: 2.43s\tremaining: 52.9s\n",
      "44:\tlearn: 0.9519342\ttotal: 2.48s\tremaining: 52.7s\n",
      "45:\tlearn: 0.9516065\ttotal: 2.53s\tremaining: 52.6s\n",
      "46:\tlearn: 0.9512922\ttotal: 2.59s\tremaining: 52.6s\n",
      "47:\tlearn: 0.9508668\ttotal: 2.65s\tremaining: 52.6s\n",
      "48:\tlearn: 0.9506161\ttotal: 2.71s\tremaining: 52.6s\n",
      "49:\tlearn: 0.9502217\ttotal: 2.76s\tremaining: 52.4s\n",
      "50:\tlearn: 0.9499532\ttotal: 2.81s\tremaining: 52.3s\n",
      "51:\tlearn: 0.9496768\ttotal: 2.86s\tremaining: 52.2s\n",
      "52:\tlearn: 0.9494261\ttotal: 2.92s\tremaining: 52.1s\n",
      "53:\tlearn: 0.9491584\ttotal: 2.97s\tremaining: 52s\n",
      "54:\tlearn: 0.9488838\ttotal: 3.02s\tremaining: 51.9s\n",
      "55:\tlearn: 0.9486028\ttotal: 3.07s\tremaining: 51.8s\n",
      "56:\tlearn: 0.9483624\ttotal: 3.13s\tremaining: 51.7s\n",
      "57:\tlearn: 0.9481530\ttotal: 3.19s\tremaining: 51.8s\n",
      "58:\tlearn: 0.9480506\ttotal: 3.24s\tremaining: 51.6s\n",
      "59:\tlearn: 0.9477833\ttotal: 3.29s\tremaining: 51.5s\n",
      "60:\tlearn: 0.9475987\ttotal: 3.34s\tremaining: 51.4s\n",
      "61:\tlearn: 0.9473868\ttotal: 3.39s\tremaining: 51.3s\n",
      "62:\tlearn: 0.9471536\ttotal: 3.44s\tremaining: 51.2s\n",
      "63:\tlearn: 0.9469775\ttotal: 3.49s\tremaining: 51s\n",
      "64:\tlearn: 0.9467792\ttotal: 3.54s\tremaining: 50.9s\n",
      "65:\tlearn: 0.9465749\ttotal: 3.59s\tremaining: 50.8s\n",
      "66:\tlearn: 0.9464044\ttotal: 3.64s\tremaining: 50.7s\n",
      "67:\tlearn: 0.9462472\ttotal: 3.69s\tremaining: 50.5s\n",
      "68:\tlearn: 0.9460903\ttotal: 3.74s\tremaining: 50.5s\n",
      "69:\tlearn: 0.9459493\ttotal: 3.79s\tremaining: 50.3s\n",
      "70:\tlearn: 0.9457570\ttotal: 3.84s\tremaining: 50.3s\n",
      "71:\tlearn: 0.9456461\ttotal: 3.9s\tremaining: 50.2s\n",
      "72:\tlearn: 0.9453711\ttotal: 3.95s\tremaining: 50.2s\n",
      "73:\tlearn: 0.9451757\ttotal: 4.01s\tremaining: 50.2s\n",
      "74:\tlearn: 0.9449678\ttotal: 4.06s\tremaining: 50.1s\n",
      "75:\tlearn: 0.9447251\ttotal: 4.11s\tremaining: 50s\n",
      "76:\tlearn: 0.9445937\ttotal: 4.17s\tremaining: 50s\n",
      "77:\tlearn: 0.9443788\ttotal: 4.23s\tremaining: 50s\n",
      "78:\tlearn: 0.9441860\ttotal: 4.28s\tremaining: 49.9s\n",
      "79:\tlearn: 0.9440738\ttotal: 4.33s\tremaining: 49.8s\n",
      "80:\tlearn: 0.9439798\ttotal: 4.39s\tremaining: 49.8s\n",
      "81:\tlearn: 0.9437589\ttotal: 4.44s\tremaining: 49.7s\n",
      "82:\tlearn: 0.9435806\ttotal: 4.49s\tremaining: 49.6s\n",
      "83:\tlearn: 0.9433947\ttotal: 4.55s\tremaining: 49.6s\n",
      "84:\tlearn: 0.9431707\ttotal: 4.6s\tremaining: 49.6s\n",
      "85:\tlearn: 0.9430402\ttotal: 4.66s\tremaining: 49.5s\n",
      "86:\tlearn: 0.9429327\ttotal: 4.71s\tremaining: 49.4s\n",
      "87:\tlearn: 0.9426599\ttotal: 4.76s\tremaining: 49.3s\n",
      "88:\tlearn: 0.9425387\ttotal: 4.81s\tremaining: 49.3s\n",
      "89:\tlearn: 0.9423941\ttotal: 4.87s\tremaining: 49.2s\n",
      "90:\tlearn: 0.9422991\ttotal: 4.92s\tremaining: 49.1s\n",
      "91:\tlearn: 0.9421508\ttotal: 4.97s\tremaining: 49.1s\n",
      "92:\tlearn: 0.9420021\ttotal: 5.02s\tremaining: 49s\n",
      "93:\tlearn: 0.9418612\ttotal: 5.08s\tremaining: 49s\n",
      "94:\tlearn: 0.9416422\ttotal: 5.13s\tremaining: 48.9s\n",
      "95:\tlearn: 0.9415294\ttotal: 5.19s\tremaining: 48.9s\n",
      "96:\tlearn: 0.9413563\ttotal: 5.24s\tremaining: 48.8s\n",
      "97:\tlearn: 0.9412220\ttotal: 5.29s\tremaining: 48.7s\n",
      "98:\tlearn: 0.9410810\ttotal: 5.34s\tremaining: 48.6s\n",
      "99:\tlearn: 0.9408944\ttotal: 5.39s\tremaining: 48.5s\n",
      "100:\tlearn: 0.9407922\ttotal: 5.44s\tremaining: 48.5s\n",
      "101:\tlearn: 0.9406600\ttotal: 5.5s\tremaining: 48.4s\n",
      "102:\tlearn: 0.9405347\ttotal: 5.56s\tremaining: 48.4s\n",
      "103:\tlearn: 0.9404300\ttotal: 5.61s\tremaining: 48.3s\n",
      "104:\tlearn: 0.9403124\ttotal: 5.66s\tremaining: 48.2s\n",
      "105:\tlearn: 0.9401512\ttotal: 5.72s\tremaining: 48.2s\n",
      "106:\tlearn: 0.9400412\ttotal: 5.77s\tremaining: 48.1s\n",
      "107:\tlearn: 0.9399133\ttotal: 5.82s\tremaining: 48.1s\n",
      "108:\tlearn: 0.9398227\ttotal: 5.88s\tremaining: 48.1s\n",
      "109:\tlearn: 0.9397212\ttotal: 5.94s\tremaining: 48.1s\n",
      "110:\tlearn: 0.9395831\ttotal: 6s\tremaining: 48s\n",
      "111:\tlearn: 0.9394128\ttotal: 6.05s\tremaining: 48s\n",
      "112:\tlearn: 0.9393477\ttotal: 6.11s\tremaining: 48s\n",
      "113:\tlearn: 0.9392176\ttotal: 6.16s\tremaining: 47.9s\n",
      "114:\tlearn: 0.9391107\ttotal: 6.21s\tremaining: 47.8s\n",
      "115:\tlearn: 0.9390040\ttotal: 6.26s\tremaining: 47.7s\n",
      "116:\tlearn: 0.9388713\ttotal: 6.32s\tremaining: 47.7s\n",
      "117:\tlearn: 0.9386678\ttotal: 6.37s\tremaining: 47.6s\n",
      "118:\tlearn: 0.9384931\ttotal: 6.42s\tremaining: 47.5s\n",
      "119:\tlearn: 0.9383823\ttotal: 6.47s\tremaining: 47.4s\n",
      "120:\tlearn: 0.9383274\ttotal: 6.53s\tremaining: 47.4s\n",
      "121:\tlearn: 0.9381968\ttotal: 6.58s\tremaining: 47.3s\n",
      "122:\tlearn: 0.9380238\ttotal: 6.63s\tremaining: 47.3s\n",
      "123:\tlearn: 0.9378842\ttotal: 6.68s\tremaining: 47.2s\n",
      "124:\tlearn: 0.9377380\ttotal: 6.74s\tremaining: 47.1s\n",
      "125:\tlearn: 0.9376184\ttotal: 6.79s\tremaining: 47.1s\n",
      "126:\tlearn: 0.9374983\ttotal: 6.84s\tremaining: 47s\n",
      "127:\tlearn: 0.9373704\ttotal: 6.89s\tremaining: 46.9s\n",
      "128:\tlearn: 0.9372482\ttotal: 6.95s\tremaining: 46.9s\n",
      "129:\tlearn: 0.9371625\ttotal: 7s\tremaining: 46.8s\n",
      "130:\tlearn: 0.9370871\ttotal: 7.04s\tremaining: 46.7s\n",
      "131:\tlearn: 0.9369770\ttotal: 7.09s\tremaining: 46.6s\n",
      "132:\tlearn: 0.9367974\ttotal: 7.16s\tremaining: 46.6s\n",
      "133:\tlearn: 0.9367256\ttotal: 7.2s\tremaining: 46.6s\n",
      "134:\tlearn: 0.9366395\ttotal: 7.25s\tremaining: 46.5s\n",
      "135:\tlearn: 0.9365862\ttotal: 7.3s\tremaining: 46.4s\n",
      "136:\tlearn: 0.9364956\ttotal: 7.35s\tremaining: 46.3s\n",
      "137:\tlearn: 0.9364210\ttotal: 7.4s\tremaining: 46.2s\n",
      "138:\tlearn: 0.9362977\ttotal: 7.45s\tremaining: 46.2s\n",
      "139:\tlearn: 0.9361478\ttotal: 7.5s\tremaining: 46.1s\n",
      "140:\tlearn: 0.9360202\ttotal: 7.55s\tremaining: 46s\n",
      "141:\tlearn: 0.9358096\ttotal: 7.6s\tremaining: 45.9s\n",
      "142:\tlearn: 0.9356573\ttotal: 7.65s\tremaining: 45.9s\n",
      "143:\tlearn: 0.9355601\ttotal: 7.7s\tremaining: 45.8s\n",
      "144:\tlearn: 0.9354185\ttotal: 7.75s\tremaining: 45.7s\n",
      "145:\tlearn: 0.9352966\ttotal: 7.8s\tremaining: 45.6s\n",
      "146:\tlearn: 0.9351982\ttotal: 7.85s\tremaining: 45.5s\n",
      "147:\tlearn: 0.9350998\ttotal: 7.9s\tremaining: 45.5s\n",
      "148:\tlearn: 0.9350553\ttotal: 7.95s\tremaining: 45.4s\n",
      "149:\tlearn: 0.9349824\ttotal: 8s\tremaining: 45.3s\n",
      "150:\tlearn: 0.9348757\ttotal: 8.05s\tremaining: 45.3s\n",
      "151:\tlearn: 0.9347858\ttotal: 8.1s\tremaining: 45.2s\n",
      "152:\tlearn: 0.9347056\ttotal: 8.15s\tremaining: 45.1s\n",
      "153:\tlearn: 0.9346060\ttotal: 8.21s\tremaining: 45.1s\n",
      "154:\tlearn: 0.9344867\ttotal: 8.25s\tremaining: 45s\n",
      "155:\tlearn: 0.9344005\ttotal: 8.31s\tremaining: 45s\n",
      "156:\tlearn: 0.9342685\ttotal: 8.35s\tremaining: 44.9s\n",
      "157:\tlearn: 0.9341989\ttotal: 8.41s\tremaining: 44.8s\n",
      "158:\tlearn: 0.9340679\ttotal: 8.45s\tremaining: 44.7s\n",
      "159:\tlearn: 0.9339811\ttotal: 8.51s\tremaining: 44.7s\n",
      "160:\tlearn: 0.9338376\ttotal: 8.55s\tremaining: 44.6s\n",
      "161:\tlearn: 0.9337289\ttotal: 8.61s\tremaining: 44.5s\n",
      "162:\tlearn: 0.9335664\ttotal: 8.66s\tremaining: 44.5s\n"
     ]
    },
    {
     "name": "stdout",
     "output_type": "stream",
     "text": [
      "163:\tlearn: 0.9335137\ttotal: 8.71s\tremaining: 44.4s\n",
      "164:\tlearn: 0.9334173\ttotal: 8.77s\tremaining: 44.4s\n",
      "165:\tlearn: 0.9333462\ttotal: 8.81s\tremaining: 44.3s\n",
      "166:\tlearn: 0.9332549\ttotal: 8.86s\tremaining: 44.2s\n",
      "167:\tlearn: 0.9331643\ttotal: 8.92s\tremaining: 44.2s\n",
      "168:\tlearn: 0.9330809\ttotal: 8.98s\tremaining: 44.1s\n",
      "169:\tlearn: 0.9329590\ttotal: 9.05s\tremaining: 44.2s\n",
      "170:\tlearn: 0.9328623\ttotal: 9.13s\tremaining: 44.2s\n",
      "171:\tlearn: 0.9327452\ttotal: 9.2s\tremaining: 44.3s\n",
      "172:\tlearn: 0.9326437\ttotal: 9.25s\tremaining: 44.2s\n",
      "173:\tlearn: 0.9325232\ttotal: 9.3s\tremaining: 44.1s\n",
      "174:\tlearn: 0.9324363\ttotal: 9.35s\tremaining: 44.1s\n",
      "175:\tlearn: 0.9323226\ttotal: 9.4s\tremaining: 44s\n",
      "176:\tlearn: 0.9322306\ttotal: 9.45s\tremaining: 43.9s\n",
      "177:\tlearn: 0.9321125\ttotal: 9.5s\tremaining: 43.9s\n",
      "178:\tlearn: 0.9320409\ttotal: 9.56s\tremaining: 43.8s\n",
      "179:\tlearn: 0.9319374\ttotal: 9.61s\tremaining: 43.8s\n",
      "180:\tlearn: 0.9318500\ttotal: 9.65s\tremaining: 43.7s\n",
      "181:\tlearn: 0.9317772\ttotal: 9.71s\tremaining: 43.6s\n",
      "182:\tlearn: 0.9316189\ttotal: 9.76s\tremaining: 43.6s\n",
      "183:\tlearn: 0.9315216\ttotal: 9.81s\tremaining: 43.5s\n",
      "184:\tlearn: 0.9314144\ttotal: 9.86s\tremaining: 43.4s\n",
      "185:\tlearn: 0.9313492\ttotal: 9.91s\tremaining: 43.4s\n",
      "186:\tlearn: 0.9312718\ttotal: 9.96s\tremaining: 43.3s\n",
      "187:\tlearn: 0.9311710\ttotal: 10s\tremaining: 43.3s\n",
      "188:\tlearn: 0.9309875\ttotal: 10.1s\tremaining: 43.2s\n",
      "189:\tlearn: 0.9308845\ttotal: 10.1s\tremaining: 43.2s\n",
      "190:\tlearn: 0.9307832\ttotal: 10.2s\tremaining: 43.1s\n",
      "191:\tlearn: 0.9306998\ttotal: 10.2s\tremaining: 43s\n",
      "192:\tlearn: 0.9306067\ttotal: 10.3s\tremaining: 43s\n",
      "193:\tlearn: 0.9304903\ttotal: 10.3s\tremaining: 42.9s\n",
      "194:\tlearn: 0.9304299\ttotal: 10.4s\tremaining: 42.9s\n",
      "195:\tlearn: 0.9303198\ttotal: 10.4s\tremaining: 42.8s\n",
      "196:\tlearn: 0.9302161\ttotal: 10.5s\tremaining: 42.7s\n",
      "197:\tlearn: 0.9301414\ttotal: 10.5s\tremaining: 42.7s\n",
      "198:\tlearn: 0.9300593\ttotal: 10.6s\tremaining: 42.6s\n",
      "199:\tlearn: 0.9300085\ttotal: 10.6s\tremaining: 42.6s\n",
      "200:\tlearn: 0.9298888\ttotal: 10.7s\tremaining: 42.5s\n",
      "201:\tlearn: 0.9298099\ttotal: 10.8s\tremaining: 42.5s\n",
      "202:\tlearn: 0.9297668\ttotal: 10.8s\tremaining: 42.4s\n",
      "203:\tlearn: 0.9296683\ttotal: 10.9s\tremaining: 42.4s\n",
      "204:\tlearn: 0.9296194\ttotal: 10.9s\tremaining: 42.3s\n",
      "205:\tlearn: 0.9295125\ttotal: 11s\tremaining: 42.3s\n",
      "206:\tlearn: 0.9294416\ttotal: 11s\tremaining: 42.2s\n",
      "207:\tlearn: 0.9293688\ttotal: 11.1s\tremaining: 42.1s\n",
      "208:\tlearn: 0.9292873\ttotal: 11.1s\tremaining: 42s\n",
      "209:\tlearn: 0.9292043\ttotal: 11.2s\tremaining: 42s\n",
      "210:\tlearn: 0.9291397\ttotal: 11.2s\tremaining: 41.9s\n",
      "211:\tlearn: 0.9290609\ttotal: 11.3s\tremaining: 41.8s\n",
      "212:\tlearn: 0.9289837\ttotal: 11.3s\tremaining: 41.8s\n",
      "213:\tlearn: 0.9288918\ttotal: 11.4s\tremaining: 41.7s\n",
      "214:\tlearn: 0.9287885\ttotal: 11.4s\tremaining: 41.7s\n",
      "215:\tlearn: 0.9286964\ttotal: 11.5s\tremaining: 41.6s\n",
      "216:\tlearn: 0.9285899\ttotal: 11.5s\tremaining: 41.5s\n",
      "217:\tlearn: 0.9284527\ttotal: 11.6s\tremaining: 41.5s\n",
      "218:\tlearn: 0.9283614\ttotal: 11.6s\tremaining: 41.4s\n",
      "219:\tlearn: 0.9282847\ttotal: 11.7s\tremaining: 41.4s\n",
      "220:\tlearn: 0.9282135\ttotal: 11.7s\tremaining: 41.3s\n",
      "221:\tlearn: 0.9280689\ttotal: 11.8s\tremaining: 41.3s\n",
      "222:\tlearn: 0.9279474\ttotal: 11.8s\tremaining: 41.2s\n",
      "223:\tlearn: 0.9278459\ttotal: 11.9s\tremaining: 41.2s\n",
      "224:\tlearn: 0.9277788\ttotal: 11.9s\tremaining: 41.1s\n",
      "225:\tlearn: 0.9277153\ttotal: 12s\tremaining: 41s\n",
      "226:\tlearn: 0.9276432\ttotal: 12s\tremaining: 41s\n",
      "227:\tlearn: 0.9276059\ttotal: 12.1s\tremaining: 40.9s\n",
      "228:\tlearn: 0.9274578\ttotal: 12.1s\tremaining: 40.9s\n",
      "229:\tlearn: 0.9273865\ttotal: 12.2s\tremaining: 40.8s\n",
      "230:\tlearn: 0.9272757\ttotal: 12.2s\tremaining: 40.8s\n",
      "231:\tlearn: 0.9271780\ttotal: 12.3s\tremaining: 40.7s\n",
      "232:\tlearn: 0.9271022\ttotal: 12.3s\tremaining: 40.6s\n",
      "233:\tlearn: 0.9270014\ttotal: 12.4s\tremaining: 40.6s\n",
      "234:\tlearn: 0.9269261\ttotal: 12.5s\tremaining: 40.5s\n",
      "235:\tlearn: 0.9268499\ttotal: 12.5s\tremaining: 40.5s\n",
      "236:\tlearn: 0.9267859\ttotal: 12.6s\tremaining: 40.4s\n",
      "237:\tlearn: 0.9267121\ttotal: 12.6s\tremaining: 40.3s\n",
      "238:\tlearn: 0.9266099\ttotal: 12.7s\tremaining: 40.3s\n",
      "239:\tlearn: 0.9265483\ttotal: 12.7s\tremaining: 40.2s\n",
      "240:\tlearn: 0.9264622\ttotal: 12.8s\tremaining: 40.2s\n",
      "241:\tlearn: 0.9263816\ttotal: 12.8s\tremaining: 40.1s\n",
      "242:\tlearn: 0.9262988\ttotal: 12.9s\tremaining: 40.1s\n",
      "243:\tlearn: 0.9262190\ttotal: 12.9s\tremaining: 40s\n",
      "244:\tlearn: 0.9261443\ttotal: 13s\tremaining: 39.9s\n",
      "245:\tlearn: 0.9260372\ttotal: 13s\tremaining: 39.9s\n",
      "246:\tlearn: 0.9259752\ttotal: 13.1s\tremaining: 39.9s\n",
      "247:\tlearn: 0.9258917\ttotal: 13.1s\tremaining: 39.8s\n",
      "248:\tlearn: 0.9258061\ttotal: 13.2s\tremaining: 39.7s\n",
      "249:\tlearn: 0.9256731\ttotal: 13.2s\tremaining: 39.7s\n",
      "250:\tlearn: 0.9256130\ttotal: 13.3s\tremaining: 39.6s\n",
      "251:\tlearn: 0.9255535\ttotal: 13.3s\tremaining: 39.6s\n",
      "252:\tlearn: 0.9253628\ttotal: 13.4s\tremaining: 39.5s\n",
      "253:\tlearn: 0.9252504\ttotal: 13.4s\tremaining: 39.5s\n",
      "254:\tlearn: 0.9251856\ttotal: 13.5s\tremaining: 39.4s\n",
      "255:\tlearn: 0.9251059\ttotal: 13.6s\tremaining: 39.4s\n",
      "256:\tlearn: 0.9250301\ttotal: 13.6s\tremaining: 39.3s\n",
      "257:\tlearn: 0.9249637\ttotal: 13.7s\tremaining: 39.3s\n",
      "258:\tlearn: 0.9249291\ttotal: 13.7s\tremaining: 39.2s\n",
      "259:\tlearn: 0.9248630\ttotal: 13.7s\tremaining: 39.1s\n",
      "260:\tlearn: 0.9248227\ttotal: 13.8s\tremaining: 39.1s\n",
      "261:\tlearn: 0.9247221\ttotal: 13.8s\tremaining: 39s\n",
      "262:\tlearn: 0.9246461\ttotal: 13.9s\tremaining: 39s\n",
      "263:\tlearn: 0.9245600\ttotal: 14s\tremaining: 38.9s\n",
      "264:\tlearn: 0.9245135\ttotal: 14s\tremaining: 38.9s\n",
      "265:\tlearn: 0.9244364\ttotal: 14.1s\tremaining: 38.8s\n",
      "266:\tlearn: 0.9243756\ttotal: 14.1s\tremaining: 38.8s\n",
      "267:\tlearn: 0.9242655\ttotal: 14.2s\tremaining: 38.7s\n",
      "268:\tlearn: 0.9242305\ttotal: 14.2s\tremaining: 38.6s\n",
      "269:\tlearn: 0.9241644\ttotal: 14.3s\tremaining: 38.6s\n",
      "270:\tlearn: 0.9241190\ttotal: 14.3s\tremaining: 38.5s\n",
      "271:\tlearn: 0.9239824\ttotal: 14.4s\tremaining: 38.5s\n",
      "272:\tlearn: 0.9239222\ttotal: 14.4s\tremaining: 38.4s\n",
      "273:\tlearn: 0.9237997\ttotal: 14.5s\tremaining: 38.3s\n",
      "274:\tlearn: 0.9237069\ttotal: 14.5s\tremaining: 38.3s\n",
      "275:\tlearn: 0.9236689\ttotal: 14.6s\tremaining: 38.2s\n",
      "276:\tlearn: 0.9235746\ttotal: 14.6s\tremaining: 38.2s\n",
      "277:\tlearn: 0.9235186\ttotal: 14.7s\tremaining: 38.1s\n",
      "278:\tlearn: 0.9234391\ttotal: 14.7s\tremaining: 38.1s\n",
      "279:\tlearn: 0.9233715\ttotal: 14.8s\tremaining: 38s\n",
      "280:\tlearn: 0.9233128\ttotal: 14.8s\tremaining: 37.9s\n",
      "281:\tlearn: 0.9232409\ttotal: 14.9s\tremaining: 37.9s\n",
      "282:\tlearn: 0.9231975\ttotal: 14.9s\tremaining: 37.8s\n",
      "283:\tlearn: 0.9231352\ttotal: 15s\tremaining: 37.7s\n",
      "284:\tlearn: 0.9230781\ttotal: 15s\tremaining: 37.7s\n",
      "285:\tlearn: 0.9229903\ttotal: 15.1s\tremaining: 37.6s\n",
      "286:\tlearn: 0.9229365\ttotal: 15.1s\tremaining: 37.6s\n",
      "287:\tlearn: 0.9228754\ttotal: 15.2s\tremaining: 37.5s\n",
      "288:\tlearn: 0.9228316\ttotal: 15.2s\tremaining: 37.5s\n",
      "289:\tlearn: 0.9227527\ttotal: 15.3s\tremaining: 37.4s\n",
      "290:\tlearn: 0.9226883\ttotal: 15.3s\tremaining: 37.4s\n",
      "291:\tlearn: 0.9226077\ttotal: 15.4s\tremaining: 37.3s\n",
      "292:\tlearn: 0.9225165\ttotal: 15.4s\tremaining: 37.2s\n",
      "293:\tlearn: 0.9224526\ttotal: 15.5s\tremaining: 37.2s\n",
      "294:\tlearn: 0.9224036\ttotal: 15.5s\tremaining: 37.1s\n",
      "295:\tlearn: 0.9223372\ttotal: 15.6s\tremaining: 37.1s\n",
      "296:\tlearn: 0.9222467\ttotal: 15.6s\tremaining: 37s\n",
      "297:\tlearn: 0.9221991\ttotal: 15.7s\tremaining: 37s\n",
      "298:\tlearn: 0.9221227\ttotal: 15.7s\tremaining: 36.9s\n",
      "299:\tlearn: 0.9220361\ttotal: 15.8s\tremaining: 36.9s\n",
      "300:\tlearn: 0.9219421\ttotal: 15.8s\tremaining: 36.8s\n",
      "301:\tlearn: 0.9219122\ttotal: 15.9s\tremaining: 36.7s\n",
      "302:\tlearn: 0.9218752\ttotal: 15.9s\tremaining: 36.7s\n",
      "303:\tlearn: 0.9217890\ttotal: 16s\tremaining: 36.6s\n",
      "304:\tlearn: 0.9217237\ttotal: 16s\tremaining: 36.6s\n",
      "305:\tlearn: 0.9216400\ttotal: 16.1s\tremaining: 36.5s\n",
      "306:\tlearn: 0.9215647\ttotal: 16.1s\tremaining: 36.5s\n",
      "307:\tlearn: 0.9214971\ttotal: 16.2s\tremaining: 36.4s\n",
      "308:\tlearn: 0.9214076\ttotal: 16.2s\tremaining: 36.3s\n",
      "309:\tlearn: 0.9213426\ttotal: 16.3s\tremaining: 36.3s\n",
      "310:\tlearn: 0.9212662\ttotal: 16.3s\tremaining: 36.2s\n",
      "311:\tlearn: 0.9212157\ttotal: 16.4s\tremaining: 36.2s\n",
      "312:\tlearn: 0.9211542\ttotal: 16.4s\tremaining: 36.1s\n",
      "313:\tlearn: 0.9211033\ttotal: 16.5s\tremaining: 36s\n",
      "314:\tlearn: 0.9210395\ttotal: 16.5s\tremaining: 36s\n",
      "315:\tlearn: 0.9209376\ttotal: 16.6s\tremaining: 35.9s\n",
      "316:\tlearn: 0.9208955\ttotal: 16.6s\tremaining: 35.9s\n",
      "317:\tlearn: 0.9207821\ttotal: 16.7s\tremaining: 35.8s\n",
      "318:\tlearn: 0.9207128\ttotal: 16.8s\tremaining: 35.8s\n",
      "319:\tlearn: 0.9206492\ttotal: 16.8s\tremaining: 35.7s\n",
      "320:\tlearn: 0.9205801\ttotal: 16.9s\tremaining: 35.7s\n",
      "321:\tlearn: 0.9205184\ttotal: 16.9s\tremaining: 35.6s\n",
      "322:\tlearn: 0.9204552\ttotal: 17s\tremaining: 35.6s\n",
      "323:\tlearn: 0.9204169\ttotal: 17s\tremaining: 35.5s\n",
      "324:\tlearn: 0.9203579\ttotal: 17.1s\tremaining: 35.4s\n",
      "325:\tlearn: 0.9203242\ttotal: 17.1s\tremaining: 35.4s\n"
     ]
    },
    {
     "name": "stdout",
     "output_type": "stream",
     "text": [
      "326:\tlearn: 0.9202587\ttotal: 17.2s\tremaining: 35.3s\n",
      "327:\tlearn: 0.9201923\ttotal: 17.2s\tremaining: 35.3s\n",
      "328:\tlearn: 0.9201055\ttotal: 17.3s\tremaining: 35.2s\n",
      "329:\tlearn: 0.9200715\ttotal: 17.3s\tremaining: 35.1s\n",
      "330:\tlearn: 0.9199916\ttotal: 17.4s\tremaining: 35.1s\n",
      "331:\tlearn: 0.9199171\ttotal: 17.4s\tremaining: 35s\n",
      "332:\tlearn: 0.9198596\ttotal: 17.5s\tremaining: 35s\n",
      "333:\tlearn: 0.9197823\ttotal: 17.5s\tremaining: 34.9s\n",
      "334:\tlearn: 0.9197228\ttotal: 17.6s\tremaining: 34.9s\n",
      "335:\tlearn: 0.9196801\ttotal: 17.6s\tremaining: 34.8s\n",
      "336:\tlearn: 0.9196286\ttotal: 17.7s\tremaining: 34.8s\n",
      "337:\tlearn: 0.9195634\ttotal: 17.7s\tremaining: 34.7s\n",
      "338:\tlearn: 0.9194904\ttotal: 17.8s\tremaining: 34.7s\n",
      "339:\tlearn: 0.9194299\ttotal: 17.8s\tremaining: 34.6s\n",
      "340:\tlearn: 0.9193824\ttotal: 17.9s\tremaining: 34.5s\n",
      "341:\tlearn: 0.9193220\ttotal: 17.9s\tremaining: 34.5s\n",
      "342:\tlearn: 0.9192618\ttotal: 18s\tremaining: 34.4s\n",
      "343:\tlearn: 0.9191630\ttotal: 18s\tremaining: 34.4s\n",
      "344:\tlearn: 0.9190909\ttotal: 18.1s\tremaining: 34.3s\n",
      "345:\tlearn: 0.9189940\ttotal: 18.1s\tremaining: 34.3s\n",
      "346:\tlearn: 0.9189351\ttotal: 18.2s\tremaining: 34.2s\n",
      "347:\tlearn: 0.9188287\ttotal: 18.2s\tremaining: 34.2s\n",
      "348:\tlearn: 0.9187500\ttotal: 18.3s\tremaining: 34.1s\n",
      "349:\tlearn: 0.9186577\ttotal: 18.4s\tremaining: 34.1s\n",
      "350:\tlearn: 0.9185814\ttotal: 18.4s\tremaining: 34s\n",
      "351:\tlearn: 0.9185415\ttotal: 18.4s\tremaining: 34s\n",
      "352:\tlearn: 0.9184576\ttotal: 18.5s\tremaining: 33.9s\n",
      "353:\tlearn: 0.9183999\ttotal: 18.6s\tremaining: 33.9s\n",
      "354:\tlearn: 0.9183351\ttotal: 18.6s\tremaining: 33.8s\n",
      "355:\tlearn: 0.9182466\ttotal: 18.7s\tremaining: 33.8s\n",
      "356:\tlearn: 0.9181945\ttotal: 18.7s\tremaining: 33.7s\n",
      "357:\tlearn: 0.9181540\ttotal: 18.8s\tremaining: 33.6s\n",
      "358:\tlearn: 0.9180771\ttotal: 18.8s\tremaining: 33.6s\n",
      "359:\tlearn: 0.9179926\ttotal: 18.9s\tremaining: 33.5s\n",
      "360:\tlearn: 0.9179286\ttotal: 18.9s\tremaining: 33.5s\n",
      "361:\tlearn: 0.9178601\ttotal: 19s\tremaining: 33.4s\n",
      "362:\tlearn: 0.9177976\ttotal: 19s\tremaining: 33.4s\n",
      "363:\tlearn: 0.9177700\ttotal: 19.1s\tremaining: 33.3s\n",
      "364:\tlearn: 0.9177022\ttotal: 19.1s\tremaining: 33.2s\n",
      "365:\tlearn: 0.9176203\ttotal: 19.2s\tremaining: 33.2s\n",
      "366:\tlearn: 0.9175544\ttotal: 19.2s\tremaining: 33.2s\n",
      "367:\tlearn: 0.9175070\ttotal: 19.3s\tremaining: 33.1s\n",
      "368:\tlearn: 0.9174391\ttotal: 19.3s\tremaining: 33s\n",
      "369:\tlearn: 0.9173979\ttotal: 19.4s\tremaining: 33s\n",
      "370:\tlearn: 0.9173362\ttotal: 19.4s\tremaining: 32.9s\n",
      "371:\tlearn: 0.9172681\ttotal: 19.5s\tremaining: 32.9s\n",
      "372:\tlearn: 0.9172217\ttotal: 19.5s\tremaining: 32.8s\n",
      "373:\tlearn: 0.9171532\ttotal: 19.6s\tremaining: 32.8s\n",
      "374:\tlearn: 0.9171116\ttotal: 19.6s\tremaining: 32.7s\n",
      "375:\tlearn: 0.9170133\ttotal: 19.7s\tremaining: 32.7s\n",
      "376:\tlearn: 0.9169560\ttotal: 19.7s\tremaining: 32.6s\n",
      "377:\tlearn: 0.9169088\ttotal: 19.8s\tremaining: 32.5s\n",
      "378:\tlearn: 0.9168381\ttotal: 19.8s\tremaining: 32.5s\n",
      "379:\tlearn: 0.9167824\ttotal: 19.9s\tremaining: 32.4s\n",
      "380:\tlearn: 0.9166996\ttotal: 19.9s\tremaining: 32.4s\n",
      "381:\tlearn: 0.9166542\ttotal: 20s\tremaining: 32.3s\n",
      "382:\tlearn: 0.9165914\ttotal: 20s\tremaining: 32.3s\n",
      "383:\tlearn: 0.9164883\ttotal: 20.1s\tremaining: 32.2s\n",
      "384:\tlearn: 0.9164339\ttotal: 20.1s\tremaining: 32.2s\n",
      "385:\tlearn: 0.9163698\ttotal: 20.2s\tremaining: 32.1s\n",
      "386:\tlearn: 0.9162802\ttotal: 20.2s\tremaining: 32.1s\n",
      "387:\tlearn: 0.9162407\ttotal: 20.3s\tremaining: 32s\n",
      "388:\tlearn: 0.9161929\ttotal: 20.3s\tremaining: 32s\n",
      "389:\tlearn: 0.9161122\ttotal: 20.4s\tremaining: 31.9s\n",
      "390:\tlearn: 0.9160417\ttotal: 20.5s\tremaining: 31.9s\n",
      "391:\tlearn: 0.9160022\ttotal: 20.5s\tremaining: 31.8s\n",
      "392:\tlearn: 0.9159146\ttotal: 20.6s\tremaining: 31.8s\n",
      "393:\tlearn: 0.9158405\ttotal: 20.6s\tremaining: 31.7s\n",
      "394:\tlearn: 0.9157852\ttotal: 20.7s\tremaining: 31.6s\n",
      "395:\tlearn: 0.9157077\ttotal: 20.7s\tremaining: 31.6s\n",
      "396:\tlearn: 0.9156502\ttotal: 20.8s\tremaining: 31.5s\n",
      "397:\tlearn: 0.9156112\ttotal: 20.8s\tremaining: 31.5s\n",
      "398:\tlearn: 0.9155572\ttotal: 20.9s\tremaining: 31.4s\n",
      "399:\tlearn: 0.9154752\ttotal: 20.9s\tremaining: 31.4s\n",
      "400:\tlearn: 0.9153957\ttotal: 21s\tremaining: 31.3s\n",
      "401:\tlearn: 0.9153232\ttotal: 21s\tremaining: 31.3s\n",
      "402:\tlearn: 0.9152652\ttotal: 21.1s\tremaining: 31.3s\n",
      "403:\tlearn: 0.9151988\ttotal: 21.2s\tremaining: 31.2s\n",
      "404:\tlearn: 0.9151424\ttotal: 21.2s\tremaining: 31.2s\n",
      "405:\tlearn: 0.9150833\ttotal: 21.3s\tremaining: 31.1s\n",
      "406:\tlearn: 0.9150006\ttotal: 21.3s\tremaining: 31.1s\n",
      "407:\tlearn: 0.9149318\ttotal: 21.4s\tremaining: 31.1s\n",
      "408:\tlearn: 0.9148611\ttotal: 21.5s\tremaining: 31s\n",
      "409:\tlearn: 0.9148038\ttotal: 21.5s\tremaining: 31s\n",
      "410:\tlearn: 0.9147487\ttotal: 21.6s\tremaining: 30.9s\n",
      "411:\tlearn: 0.9146791\ttotal: 21.6s\tremaining: 30.9s\n",
      "412:\tlearn: 0.9145968\ttotal: 21.7s\tremaining: 30.8s\n",
      "413:\tlearn: 0.9144967\ttotal: 21.7s\tremaining: 30.8s\n",
      "414:\tlearn: 0.9144355\ttotal: 21.8s\tremaining: 30.7s\n",
      "415:\tlearn: 0.9143742\ttotal: 21.8s\tremaining: 30.7s\n",
      "416:\tlearn: 0.9143221\ttotal: 21.9s\tremaining: 30.6s\n",
      "417:\tlearn: 0.9142813\ttotal: 22s\tremaining: 30.6s\n",
      "418:\tlearn: 0.9142260\ttotal: 22s\tremaining: 30.5s\n",
      "419:\tlearn: 0.9141551\ttotal: 22.1s\tremaining: 30.5s\n",
      "420:\tlearn: 0.9140909\ttotal: 22.1s\tremaining: 30.4s\n",
      "421:\tlearn: 0.9140274\ttotal: 22.2s\tremaining: 30.4s\n",
      "422:\tlearn: 0.9139639\ttotal: 22.2s\tremaining: 30.3s\n",
      "423:\tlearn: 0.9138574\ttotal: 22.3s\tremaining: 30.3s\n",
      "424:\tlearn: 0.9138249\ttotal: 22.3s\tremaining: 30.2s\n",
      "425:\tlearn: 0.9137768\ttotal: 22.4s\tremaining: 30.2s\n",
      "426:\tlearn: 0.9137305\ttotal: 22.4s\tremaining: 30.1s\n",
      "427:\tlearn: 0.9136833\ttotal: 22.5s\tremaining: 30.1s\n",
      "428:\tlearn: 0.9136192\ttotal: 22.6s\tremaining: 30s\n",
      "429:\tlearn: 0.9135622\ttotal: 22.6s\tremaining: 30s\n",
      "430:\tlearn: 0.9134718\ttotal: 22.7s\tremaining: 29.9s\n",
      "431:\tlearn: 0.9134459\ttotal: 22.7s\tremaining: 29.9s\n",
      "432:\tlearn: 0.9133975\ttotal: 22.8s\tremaining: 29.8s\n",
      "433:\tlearn: 0.9133029\ttotal: 22.8s\tremaining: 29.8s\n",
      "434:\tlearn: 0.9132443\ttotal: 22.9s\tremaining: 29.7s\n",
      "435:\tlearn: 0.9131884\ttotal: 22.9s\tremaining: 29.7s\n",
      "436:\tlearn: 0.9130996\ttotal: 23s\tremaining: 29.6s\n",
      "437:\tlearn: 0.9130182\ttotal: 23s\tremaining: 29.6s\n",
      "438:\tlearn: 0.9129330\ttotal: 23.1s\tremaining: 29.5s\n",
      "439:\tlearn: 0.9128807\ttotal: 23.2s\tremaining: 29.5s\n",
      "440:\tlearn: 0.9128279\ttotal: 23.2s\tremaining: 29.4s\n",
      "441:\tlearn: 0.9127438\ttotal: 23.3s\tremaining: 29.4s\n",
      "442:\tlearn: 0.9126939\ttotal: 23.3s\tremaining: 29.4s\n",
      "443:\tlearn: 0.9126334\ttotal: 23.4s\tremaining: 29.3s\n",
      "444:\tlearn: 0.9125551\ttotal: 23.4s\tremaining: 29.2s\n",
      "445:\tlearn: 0.9124887\ttotal: 23.5s\tremaining: 29.2s\n",
      "446:\tlearn: 0.9124440\ttotal: 23.5s\tremaining: 29.1s\n",
      "447:\tlearn: 0.9123255\ttotal: 23.6s\tremaining: 29.1s\n",
      "448:\tlearn: 0.9122561\ttotal: 23.7s\tremaining: 29s\n",
      "449:\tlearn: 0.9122042\ttotal: 23.7s\tremaining: 29s\n",
      "450:\tlearn: 0.9121200\ttotal: 23.8s\tremaining: 28.9s\n",
      "451:\tlearn: 0.9120710\ttotal: 23.8s\tremaining: 28.9s\n",
      "452:\tlearn: 0.9119808\ttotal: 23.9s\tremaining: 28.8s\n",
      "453:\tlearn: 0.9119078\ttotal: 23.9s\tremaining: 28.8s\n",
      "454:\tlearn: 0.9118671\ttotal: 24s\tremaining: 28.7s\n",
      "455:\tlearn: 0.9118037\ttotal: 24s\tremaining: 28.7s\n",
      "456:\tlearn: 0.9117298\ttotal: 24.1s\tremaining: 28.6s\n",
      "457:\tlearn: 0.9116565\ttotal: 24.1s\tremaining: 28.5s\n",
      "458:\tlearn: 0.9116048\ttotal: 24.2s\tremaining: 28.5s\n",
      "459:\tlearn: 0.9115513\ttotal: 24.2s\tremaining: 28.4s\n",
      "460:\tlearn: 0.9114868\ttotal: 24.3s\tremaining: 28.4s\n",
      "461:\tlearn: 0.9114061\ttotal: 24.3s\tremaining: 28.3s\n",
      "462:\tlearn: 0.9113429\ttotal: 24.4s\tremaining: 28.3s\n",
      "463:\tlearn: 0.9112943\ttotal: 24.4s\tremaining: 28.2s\n",
      "464:\tlearn: 0.9112202\ttotal: 24.5s\tremaining: 28.2s\n",
      "465:\tlearn: 0.9111504\ttotal: 24.5s\tremaining: 28.1s\n",
      "466:\tlearn: 0.9111058\ttotal: 24.6s\tremaining: 28.1s\n",
      "467:\tlearn: 0.9110913\ttotal: 24.6s\tremaining: 28s\n",
      "468:\tlearn: 0.9110427\ttotal: 24.7s\tremaining: 28s\n",
      "469:\tlearn: 0.9110193\ttotal: 24.7s\tremaining: 27.9s\n",
      "470:\tlearn: 0.9109283\ttotal: 24.8s\tremaining: 27.9s\n",
      "471:\tlearn: 0.9108845\ttotal: 24.8s\tremaining: 27.8s\n",
      "472:\tlearn: 0.9108196\ttotal: 24.9s\tremaining: 27.7s\n",
      "473:\tlearn: 0.9107584\ttotal: 25s\tremaining: 27.7s\n",
      "474:\tlearn: 0.9106775\ttotal: 25s\tremaining: 27.7s\n",
      "475:\tlearn: 0.9106073\ttotal: 25.1s\tremaining: 27.6s\n",
      "476:\tlearn: 0.9105557\ttotal: 25.1s\tremaining: 27.6s\n",
      "477:\tlearn: 0.9105261\ttotal: 25.2s\tremaining: 27.5s\n",
      "478:\tlearn: 0.9104837\ttotal: 25.2s\tremaining: 27.5s\n",
      "479:\tlearn: 0.9104261\ttotal: 25.3s\tremaining: 27.4s\n",
      "480:\tlearn: 0.9103668\ttotal: 25.3s\tremaining: 27.4s\n",
      "481:\tlearn: 0.9102955\ttotal: 25.4s\tremaining: 27.3s\n",
      "482:\tlearn: 0.9102190\ttotal: 25.4s\tremaining: 27.2s\n",
      "483:\tlearn: 0.9101193\ttotal: 25.5s\tremaining: 27.2s\n",
      "484:\tlearn: 0.9100403\ttotal: 25.6s\tremaining: 27.1s\n",
      "485:\tlearn: 0.9100048\ttotal: 25.6s\tremaining: 27.1s\n"
     ]
    },
    {
     "name": "stdout",
     "output_type": "stream",
     "text": [
      "486:\tlearn: 0.9099365\ttotal: 25.7s\tremaining: 27s\n",
      "487:\tlearn: 0.9098805\ttotal: 25.7s\tremaining: 27s\n",
      "488:\tlearn: 0.9098239\ttotal: 25.8s\tremaining: 26.9s\n",
      "489:\tlearn: 0.9097431\ttotal: 25.8s\tremaining: 26.9s\n",
      "490:\tlearn: 0.9097094\ttotal: 25.9s\tremaining: 26.8s\n",
      "491:\tlearn: 0.9096407\ttotal: 25.9s\tremaining: 26.8s\n",
      "492:\tlearn: 0.9096227\ttotal: 26s\tremaining: 26.7s\n",
      "493:\tlearn: 0.9095720\ttotal: 26s\tremaining: 26.7s\n",
      "494:\tlearn: 0.9095271\ttotal: 26.1s\tremaining: 26.6s\n",
      "495:\tlearn: 0.9095074\ttotal: 26.2s\tremaining: 26.6s\n",
      "496:\tlearn: 0.9094680\ttotal: 26.2s\tremaining: 26.5s\n",
      "497:\tlearn: 0.9094337\ttotal: 26.2s\tremaining: 26.5s\n",
      "498:\tlearn: 0.9093984\ttotal: 26.3s\tremaining: 26.4s\n",
      "499:\tlearn: 0.9093525\ttotal: 26.4s\tremaining: 26.4s\n",
      "500:\tlearn: 0.9092817\ttotal: 26.4s\tremaining: 26.3s\n",
      "501:\tlearn: 0.9092513\ttotal: 26.5s\tremaining: 26.3s\n",
      "502:\tlearn: 0.9091912\ttotal: 26.5s\tremaining: 26.2s\n",
      "503:\tlearn: 0.9091029\ttotal: 26.6s\tremaining: 26.1s\n",
      "504:\tlearn: 0.9090406\ttotal: 26.6s\tremaining: 26.1s\n",
      "505:\tlearn: 0.9089652\ttotal: 26.7s\tremaining: 26s\n",
      "506:\tlearn: 0.9089331\ttotal: 26.7s\tremaining: 26s\n",
      "507:\tlearn: 0.9088941\ttotal: 26.8s\tremaining: 26s\n",
      "508:\tlearn: 0.9088229\ttotal: 26.9s\tremaining: 25.9s\n",
      "509:\tlearn: 0.9087444\ttotal: 26.9s\tremaining: 25.9s\n",
      "510:\tlearn: 0.9086621\ttotal: 27s\tremaining: 25.8s\n",
      "511:\tlearn: 0.9086118\ttotal: 27s\tremaining: 25.8s\n",
      "512:\tlearn: 0.9085367\ttotal: 27.1s\tremaining: 25.7s\n",
      "513:\tlearn: 0.9084573\ttotal: 27.2s\tremaining: 25.7s\n",
      "514:\tlearn: 0.9084265\ttotal: 27.2s\tremaining: 25.6s\n",
      "515:\tlearn: 0.9083930\ttotal: 27.3s\tremaining: 25.6s\n",
      "516:\tlearn: 0.9083159\ttotal: 27.3s\tremaining: 25.5s\n",
      "517:\tlearn: 0.9082841\ttotal: 27.4s\tremaining: 25.5s\n",
      "518:\tlearn: 0.9082146\ttotal: 27.4s\tremaining: 25.4s\n",
      "519:\tlearn: 0.9081500\ttotal: 27.5s\tremaining: 25.4s\n",
      "520:\tlearn: 0.9080795\ttotal: 27.5s\tremaining: 25.3s\n",
      "521:\tlearn: 0.9080413\ttotal: 27.6s\tremaining: 25.3s\n",
      "522:\tlearn: 0.9079933\ttotal: 27.6s\tremaining: 25.2s\n",
      "523:\tlearn: 0.9079467\ttotal: 27.7s\tremaining: 25.2s\n",
      "524:\tlearn: 0.9078863\ttotal: 27.7s\tremaining: 25.1s\n",
      "525:\tlearn: 0.9078433\ttotal: 27.8s\tremaining: 25.1s\n",
      "526:\tlearn: 0.9077814\ttotal: 27.9s\tremaining: 25s\n",
      "527:\tlearn: 0.9076953\ttotal: 27.9s\tremaining: 24.9s\n",
      "528:\tlearn: 0.9076491\ttotal: 28s\tremaining: 24.9s\n",
      "529:\tlearn: 0.9075754\ttotal: 28s\tremaining: 24.8s\n",
      "530:\tlearn: 0.9075285\ttotal: 28.1s\tremaining: 24.8s\n",
      "531:\tlearn: 0.9074951\ttotal: 28.1s\tremaining: 24.7s\n",
      "532:\tlearn: 0.9074465\ttotal: 28.2s\tremaining: 24.7s\n",
      "533:\tlearn: 0.9073844\ttotal: 28.2s\tremaining: 24.6s\n",
      "534:\tlearn: 0.9073380\ttotal: 28.3s\tremaining: 24.6s\n",
      "535:\tlearn: 0.9072558\ttotal: 28.4s\tremaining: 24.5s\n",
      "536:\tlearn: 0.9072036\ttotal: 28.4s\tremaining: 24.5s\n",
      "537:\tlearn: 0.9071401\ttotal: 28.5s\tremaining: 24.4s\n",
      "538:\tlearn: 0.9071039\ttotal: 28.5s\tremaining: 24.4s\n",
      "539:\tlearn: 0.9070549\ttotal: 28.6s\tremaining: 24.3s\n",
      "540:\tlearn: 0.9069708\ttotal: 28.6s\tremaining: 24.3s\n",
      "541:\tlearn: 0.9068858\ttotal: 28.7s\tremaining: 24.2s\n",
      "542:\tlearn: 0.9068045\ttotal: 28.7s\tremaining: 24.2s\n",
      "543:\tlearn: 0.9067304\ttotal: 28.8s\tremaining: 24.1s\n",
      "544:\tlearn: 0.9066932\ttotal: 28.9s\tremaining: 24.1s\n",
      "545:\tlearn: 0.9066444\ttotal: 28.9s\tremaining: 24s\n",
      "546:\tlearn: 0.9066165\ttotal: 29s\tremaining: 24s\n",
      "547:\tlearn: 0.9065640\ttotal: 29s\tremaining: 23.9s\n",
      "548:\tlearn: 0.9064941\ttotal: 29.1s\tremaining: 23.9s\n",
      "549:\tlearn: 0.9064643\ttotal: 29.1s\tremaining: 23.8s\n",
      "550:\tlearn: 0.9063917\ttotal: 29.2s\tremaining: 23.8s\n",
      "551:\tlearn: 0.9063202\ttotal: 29.3s\tremaining: 23.7s\n",
      "552:\tlearn: 0.9062508\ttotal: 29.3s\tremaining: 23.7s\n",
      "553:\tlearn: 0.9062046\ttotal: 29.4s\tremaining: 23.6s\n",
      "554:\tlearn: 0.9061364\ttotal: 29.4s\tremaining: 23.6s\n",
      "555:\tlearn: 0.9060633\ttotal: 29.5s\tremaining: 23.5s\n",
      "556:\tlearn: 0.9060092\ttotal: 29.5s\tremaining: 23.5s\n",
      "557:\tlearn: 0.9059270\ttotal: 29.6s\tremaining: 23.4s\n",
      "558:\tlearn: 0.9058576\ttotal: 29.6s\tremaining: 23.4s\n",
      "559:\tlearn: 0.9058223\ttotal: 29.7s\tremaining: 23.3s\n",
      "560:\tlearn: 0.9057736\ttotal: 29.7s\tremaining: 23.3s\n",
      "561:\tlearn: 0.9057362\ttotal: 29.8s\tremaining: 23.2s\n",
      "562:\tlearn: 0.9056985\ttotal: 29.8s\tremaining: 23.2s\n",
      "563:\tlearn: 0.9056337\ttotal: 29.9s\tremaining: 23.1s\n",
      "564:\tlearn: 0.9055706\ttotal: 30s\tremaining: 23.1s\n",
      "565:\tlearn: 0.9055341\ttotal: 30s\tremaining: 23s\n",
      "566:\tlearn: 0.9054809\ttotal: 30.1s\tremaining: 23s\n",
      "567:\tlearn: 0.9054328\ttotal: 30.1s\tremaining: 22.9s\n",
      "568:\tlearn: 0.9053783\ttotal: 30.2s\tremaining: 22.9s\n",
      "569:\tlearn: 0.9053125\ttotal: 30.2s\tremaining: 22.8s\n",
      "570:\tlearn: 0.9052594\ttotal: 30.3s\tremaining: 22.7s\n",
      "571:\tlearn: 0.9051795\ttotal: 30.3s\tremaining: 22.7s\n",
      "572:\tlearn: 0.9051350\ttotal: 30.4s\tremaining: 22.6s\n",
      "573:\tlearn: 0.9050965\ttotal: 30.4s\tremaining: 22.6s\n",
      "574:\tlearn: 0.9050084\ttotal: 30.5s\tremaining: 22.5s\n",
      "575:\tlearn: 0.9049398\ttotal: 30.5s\tremaining: 22.5s\n",
      "576:\tlearn: 0.9048578\ttotal: 30.6s\tremaining: 22.4s\n",
      "577:\tlearn: 0.9047871\ttotal: 30.6s\tremaining: 22.4s\n",
      "578:\tlearn: 0.9047188\ttotal: 30.7s\tremaining: 22.3s\n",
      "579:\tlearn: 0.9046531\ttotal: 30.8s\tremaining: 22.3s\n",
      "580:\tlearn: 0.9045895\ttotal: 30.8s\tremaining: 22.2s\n",
      "581:\tlearn: 0.9045255\ttotal: 30.9s\tremaining: 22.2s\n",
      "582:\tlearn: 0.9044831\ttotal: 30.9s\tremaining: 22.1s\n",
      "583:\tlearn: 0.9044189\ttotal: 31s\tremaining: 22.1s\n",
      "584:\tlearn: 0.9043741\ttotal: 31s\tremaining: 22s\n",
      "585:\tlearn: 0.9043332\ttotal: 31.1s\tremaining: 22s\n",
      "586:\tlearn: 0.9042698\ttotal: 31.1s\tremaining: 21.9s\n",
      "587:\tlearn: 0.9042352\ttotal: 31.2s\tremaining: 21.9s\n",
      "588:\tlearn: 0.9041716\ttotal: 31.3s\tremaining: 21.8s\n",
      "589:\tlearn: 0.9041405\ttotal: 31.3s\tremaining: 21.8s\n",
      "590:\tlearn: 0.9040874\ttotal: 31.4s\tremaining: 21.7s\n",
      "591:\tlearn: 0.9040517\ttotal: 31.4s\tremaining: 21.7s\n",
      "592:\tlearn: 0.9040149\ttotal: 31.5s\tremaining: 21.6s\n",
      "593:\tlearn: 0.9039813\ttotal: 31.6s\tremaining: 21.6s\n",
      "594:\tlearn: 0.9039198\ttotal: 31.6s\tremaining: 21.5s\n",
      "595:\tlearn: 0.9038692\ttotal: 31.7s\tremaining: 21.5s\n",
      "596:\tlearn: 0.9038057\ttotal: 31.7s\tremaining: 21.4s\n",
      "597:\tlearn: 0.9037630\ttotal: 31.8s\tremaining: 21.4s\n",
      "598:\tlearn: 0.9037306\ttotal: 31.8s\tremaining: 21.3s\n",
      "599:\tlearn: 0.9036493\ttotal: 31.9s\tremaining: 21.3s\n",
      "600:\tlearn: 0.9036184\ttotal: 31.9s\tremaining: 21.2s\n",
      "601:\tlearn: 0.9035909\ttotal: 32s\tremaining: 21.2s\n",
      "602:\tlearn: 0.9035203\ttotal: 32.1s\tremaining: 21.1s\n",
      "603:\tlearn: 0.9034622\ttotal: 32.1s\tremaining: 21.1s\n",
      "604:\tlearn: 0.9034059\ttotal: 32.2s\tremaining: 21s\n",
      "605:\tlearn: 0.9033427\ttotal: 32.2s\tremaining: 21s\n",
      "606:\tlearn: 0.9032809\ttotal: 32.3s\tremaining: 20.9s\n",
      "607:\tlearn: 0.9032361\ttotal: 32.3s\tremaining: 20.9s\n",
      "608:\tlearn: 0.9031806\ttotal: 32.4s\tremaining: 20.8s\n",
      "609:\tlearn: 0.9031137\ttotal: 32.5s\tremaining: 20.8s\n",
      "610:\tlearn: 0.9030392\ttotal: 32.5s\tremaining: 20.7s\n",
      "611:\tlearn: 0.9030125\ttotal: 32.6s\tremaining: 20.7s\n",
      "612:\tlearn: 0.9029694\ttotal: 32.6s\tremaining: 20.6s\n",
      "613:\tlearn: 0.9029022\ttotal: 32.7s\tremaining: 20.6s\n",
      "614:\tlearn: 0.9028323\ttotal: 32.8s\tremaining: 20.5s\n",
      "615:\tlearn: 0.9027713\ttotal: 32.8s\tremaining: 20.5s\n",
      "616:\tlearn: 0.9027271\ttotal: 32.9s\tremaining: 20.4s\n",
      "617:\tlearn: 0.9026746\ttotal: 33s\tremaining: 20.4s\n",
      "618:\tlearn: 0.9026295\ttotal: 33s\tremaining: 20.3s\n",
      "619:\tlearn: 0.9025697\ttotal: 33.1s\tremaining: 20.3s\n",
      "620:\tlearn: 0.9025323\ttotal: 33.2s\tremaining: 20.2s\n",
      "621:\tlearn: 0.9024885\ttotal: 33.2s\tremaining: 20.2s\n",
      "622:\tlearn: 0.9024261\ttotal: 33.3s\tremaining: 20.1s\n",
      "623:\tlearn: 0.9023702\ttotal: 33.3s\tremaining: 20.1s\n",
      "624:\tlearn: 0.9023341\ttotal: 33.4s\tremaining: 20s\n",
      "625:\tlearn: 0.9022651\ttotal: 33.4s\tremaining: 20s\n",
      "626:\tlearn: 0.9021941\ttotal: 33.5s\tremaining: 19.9s\n",
      "627:\tlearn: 0.9021198\ttotal: 33.5s\tremaining: 19.9s\n",
      "628:\tlearn: 0.9020739\ttotal: 33.6s\tremaining: 19.8s\n",
      "629:\tlearn: 0.9019964\ttotal: 33.6s\tremaining: 19.8s\n",
      "630:\tlearn: 0.9019305\ttotal: 33.7s\tremaining: 19.7s\n",
      "631:\tlearn: 0.9018692\ttotal: 33.7s\tremaining: 19.6s\n",
      "632:\tlearn: 0.9018139\ttotal: 33.8s\tremaining: 19.6s\n",
      "633:\tlearn: 0.9017354\ttotal: 33.9s\tremaining: 19.5s\n",
      "634:\tlearn: 0.9016606\ttotal: 33.9s\tremaining: 19.5s\n",
      "635:\tlearn: 0.9015907\ttotal: 34s\tremaining: 19.4s\n",
      "636:\tlearn: 0.9015362\ttotal: 34s\tremaining: 19.4s\n",
      "637:\tlearn: 0.9014937\ttotal: 34.1s\tremaining: 19.3s\n",
      "638:\tlearn: 0.9014305\ttotal: 34.1s\tremaining: 19.3s\n",
      "639:\tlearn: 0.9013557\ttotal: 34.2s\tremaining: 19.2s\n",
      "640:\tlearn: 0.9013003\ttotal: 34.2s\tremaining: 19.2s\n",
      "641:\tlearn: 0.9012295\ttotal: 34.3s\tremaining: 19.1s\n",
      "642:\tlearn: 0.9011881\ttotal: 34.3s\tremaining: 19.1s\n",
      "643:\tlearn: 0.9011348\ttotal: 34.4s\tremaining: 19s\n",
      "644:\tlearn: 0.9010790\ttotal: 34.5s\tremaining: 19s\n",
      "645:\tlearn: 0.9010386\ttotal: 34.5s\tremaining: 18.9s\n",
      "646:\tlearn: 0.9009901\ttotal: 34.6s\tremaining: 18.9s\n",
      "647:\tlearn: 0.9009444\ttotal: 34.6s\tremaining: 18.8s\n"
     ]
    },
    {
     "name": "stdout",
     "output_type": "stream",
     "text": [
      "648:\tlearn: 0.9008560\ttotal: 34.7s\tremaining: 18.7s\n",
      "649:\tlearn: 0.9008018\ttotal: 34.7s\tremaining: 18.7s\n",
      "650:\tlearn: 0.9007491\ttotal: 34.8s\tremaining: 18.6s\n",
      "651:\tlearn: 0.9007099\ttotal: 34.8s\tremaining: 18.6s\n",
      "652:\tlearn: 0.9006655\ttotal: 34.9s\tremaining: 18.5s\n",
      "653:\tlearn: 0.9005913\ttotal: 34.9s\tremaining: 18.5s\n",
      "654:\tlearn: 0.9005538\ttotal: 35s\tremaining: 18.4s\n",
      "655:\tlearn: 0.9005229\ttotal: 35.1s\tremaining: 18.4s\n",
      "656:\tlearn: 0.9004654\ttotal: 35.1s\tremaining: 18.3s\n",
      "657:\tlearn: 0.9003974\ttotal: 35.2s\tremaining: 18.3s\n",
      "658:\tlearn: 0.9003238\ttotal: 35.2s\tremaining: 18.2s\n",
      "659:\tlearn: 0.9002937\ttotal: 35.3s\tremaining: 18.2s\n",
      "660:\tlearn: 0.9002490\ttotal: 35.3s\tremaining: 18.1s\n",
      "661:\tlearn: 0.9001771\ttotal: 35.4s\tremaining: 18.1s\n",
      "662:\tlearn: 0.9000962\ttotal: 35.4s\tremaining: 18s\n",
      "663:\tlearn: 0.9000595\ttotal: 35.5s\tremaining: 18s\n",
      "664:\tlearn: 0.8999960\ttotal: 35.6s\tremaining: 17.9s\n",
      "665:\tlearn: 0.8999587\ttotal: 35.6s\tremaining: 17.9s\n",
      "666:\tlearn: 0.8999110\ttotal: 35.7s\tremaining: 17.8s\n",
      "667:\tlearn: 0.8998521\ttotal: 35.7s\tremaining: 17.8s\n",
      "668:\tlearn: 0.8997943\ttotal: 35.8s\tremaining: 17.7s\n",
      "669:\tlearn: 0.8997239\ttotal: 35.8s\tremaining: 17.7s\n",
      "670:\tlearn: 0.8996687\ttotal: 35.9s\tremaining: 17.6s\n",
      "671:\tlearn: 0.8996299\ttotal: 36s\tremaining: 17.5s\n",
      "672:\tlearn: 0.8995884\ttotal: 36s\tremaining: 17.5s\n",
      "673:\tlearn: 0.8995181\ttotal: 36.1s\tremaining: 17.4s\n",
      "674:\tlearn: 0.8994831\ttotal: 36.1s\tremaining: 17.4s\n",
      "675:\tlearn: 0.8994246\ttotal: 36.2s\tremaining: 17.3s\n",
      "676:\tlearn: 0.8993620\ttotal: 36.2s\tremaining: 17.3s\n",
      "677:\tlearn: 0.8992891\ttotal: 36.3s\tremaining: 17.2s\n",
      "678:\tlearn: 0.8992286\ttotal: 36.4s\tremaining: 17.2s\n",
      "679:\tlearn: 0.8991650\ttotal: 36.4s\tremaining: 17.1s\n",
      "680:\tlearn: 0.8991005\ttotal: 36.5s\tremaining: 17.1s\n",
      "681:\tlearn: 0.8990631\ttotal: 36.5s\tremaining: 17s\n",
      "682:\tlearn: 0.8989864\ttotal: 36.6s\tremaining: 17s\n",
      "683:\tlearn: 0.8989127\ttotal: 36.6s\tremaining: 16.9s\n",
      "684:\tlearn: 0.8988555\ttotal: 36.7s\tremaining: 16.9s\n",
      "685:\tlearn: 0.8988129\ttotal: 36.7s\tremaining: 16.8s\n",
      "686:\tlearn: 0.8987596\ttotal: 36.8s\tremaining: 16.8s\n",
      "687:\tlearn: 0.8987154\ttotal: 36.9s\tremaining: 16.7s\n",
      "688:\tlearn: 0.8986613\ttotal: 36.9s\tremaining: 16.7s\n",
      "689:\tlearn: 0.8985954\ttotal: 37s\tremaining: 16.6s\n",
      "690:\tlearn: 0.8985384\ttotal: 37s\tremaining: 16.6s\n",
      "691:\tlearn: 0.8985053\ttotal: 37.1s\tremaining: 16.5s\n",
      "692:\tlearn: 0.8984693\ttotal: 37.1s\tremaining: 16.4s\n",
      "693:\tlearn: 0.8984194\ttotal: 37.2s\tremaining: 16.4s\n",
      "694:\tlearn: 0.8983320\ttotal: 37.2s\tremaining: 16.3s\n",
      "695:\tlearn: 0.8982904\ttotal: 37.3s\tremaining: 16.3s\n",
      "696:\tlearn: 0.8982608\ttotal: 37.3s\tremaining: 16.2s\n",
      "697:\tlearn: 0.8981972\ttotal: 37.4s\tremaining: 16.2s\n",
      "698:\tlearn: 0.8981218\ttotal: 37.4s\tremaining: 16.1s\n",
      "699:\tlearn: 0.8980452\ttotal: 37.5s\tremaining: 16.1s\n",
      "700:\tlearn: 0.8979826\ttotal: 37.6s\tremaining: 16s\n",
      "701:\tlearn: 0.8979254\ttotal: 37.6s\tremaining: 16s\n",
      "702:\tlearn: 0.8978962\ttotal: 37.6s\tremaining: 15.9s\n",
      "703:\tlearn: 0.8978194\ttotal: 37.7s\tremaining: 15.9s\n",
      "704:\tlearn: 0.8977694\ttotal: 37.8s\tremaining: 15.8s\n",
      "705:\tlearn: 0.8977201\ttotal: 37.8s\tremaining: 15.7s\n",
      "706:\tlearn: 0.8976790\ttotal: 37.9s\tremaining: 15.7s\n",
      "707:\tlearn: 0.8976149\ttotal: 37.9s\tremaining: 15.6s\n",
      "708:\tlearn: 0.8975408\ttotal: 38s\tremaining: 15.6s\n",
      "709:\tlearn: 0.8974910\ttotal: 38s\tremaining: 15.5s\n",
      "710:\tlearn: 0.8974466\ttotal: 38.1s\tremaining: 15.5s\n",
      "711:\tlearn: 0.8973878\ttotal: 38.1s\tremaining: 15.4s\n",
      "712:\tlearn: 0.8973265\ttotal: 38.2s\tremaining: 15.4s\n",
      "713:\tlearn: 0.8972573\ttotal: 38.2s\tremaining: 15.3s\n",
      "714:\tlearn: 0.8971967\ttotal: 38.3s\tremaining: 15.3s\n",
      "715:\tlearn: 0.8971535\ttotal: 38.3s\tremaining: 15.2s\n",
      "716:\tlearn: 0.8971168\ttotal: 38.4s\tremaining: 15.1s\n",
      "717:\tlearn: 0.8970739\ttotal: 38.4s\tremaining: 15.1s\n",
      "718:\tlearn: 0.8970332\ttotal: 38.5s\tremaining: 15s\n",
      "719:\tlearn: 0.8969978\ttotal: 38.5s\tremaining: 15s\n",
      "720:\tlearn: 0.8969427\ttotal: 38.6s\tremaining: 14.9s\n",
      "721:\tlearn: 0.8968856\ttotal: 38.6s\tremaining: 14.9s\n",
      "722:\tlearn: 0.8968488\ttotal: 38.7s\tremaining: 14.8s\n",
      "723:\tlearn: 0.8968042\ttotal: 38.7s\tremaining: 14.8s\n",
      "724:\tlearn: 0.8967513\ttotal: 38.8s\tremaining: 14.7s\n",
      "725:\tlearn: 0.8967125\ttotal: 38.8s\tremaining: 14.7s\n",
      "726:\tlearn: 0.8966615\ttotal: 38.9s\tremaining: 14.6s\n",
      "727:\tlearn: 0.8965975\ttotal: 38.9s\tremaining: 14.6s\n",
      "728:\tlearn: 0.8965560\ttotal: 39s\tremaining: 14.5s\n",
      "729:\tlearn: 0.8964886\ttotal: 39s\tremaining: 14.4s\n",
      "730:\tlearn: 0.8964092\ttotal: 39.1s\tremaining: 14.4s\n",
      "731:\tlearn: 0.8963190\ttotal: 39.1s\tremaining: 14.3s\n",
      "732:\tlearn: 0.8962572\ttotal: 39.2s\tremaining: 14.3s\n",
      "733:\tlearn: 0.8962238\ttotal: 39.3s\tremaining: 14.2s\n",
      "734:\tlearn: 0.8961695\ttotal: 39.3s\tremaining: 14.2s\n",
      "735:\tlearn: 0.8961294\ttotal: 39.4s\tremaining: 14.1s\n",
      "736:\tlearn: 0.8960584\ttotal: 39.4s\tremaining: 14.1s\n",
      "737:\tlearn: 0.8959656\ttotal: 39.5s\tremaining: 14s\n",
      "738:\tlearn: 0.8959329\ttotal: 39.5s\tremaining: 14s\n",
      "739:\tlearn: 0.8958763\ttotal: 39.6s\tremaining: 13.9s\n",
      "740:\tlearn: 0.8958208\ttotal: 39.7s\tremaining: 13.9s\n",
      "741:\tlearn: 0.8957719\ttotal: 39.8s\tremaining: 13.8s\n",
      "742:\tlearn: 0.8957253\ttotal: 39.8s\tremaining: 13.8s\n",
      "743:\tlearn: 0.8956721\ttotal: 39.9s\tremaining: 13.7s\n",
      "744:\tlearn: 0.8956152\ttotal: 39.9s\tremaining: 13.7s\n",
      "745:\tlearn: 0.8955757\ttotal: 40s\tremaining: 13.6s\n",
      "746:\tlearn: 0.8955175\ttotal: 40s\tremaining: 13.6s\n",
      "747:\tlearn: 0.8954474\ttotal: 40.1s\tremaining: 13.5s\n",
      "748:\tlearn: 0.8953855\ttotal: 40.1s\tremaining: 13.4s\n",
      "749:\tlearn: 0.8953589\ttotal: 40.2s\tremaining: 13.4s\n",
      "750:\tlearn: 0.8953164\ttotal: 40.2s\tremaining: 13.3s\n",
      "751:\tlearn: 0.8952725\ttotal: 40.3s\tremaining: 13.3s\n",
      "752:\tlearn: 0.8952105\ttotal: 40.3s\tremaining: 13.2s\n",
      "753:\tlearn: 0.8951211\ttotal: 40.4s\tremaining: 13.2s\n",
      "754:\tlearn: 0.8950874\ttotal: 40.5s\tremaining: 13.1s\n",
      "755:\tlearn: 0.8950371\ttotal: 40.5s\tremaining: 13.1s\n",
      "756:\tlearn: 0.8950077\ttotal: 40.6s\tremaining: 13s\n",
      "757:\tlearn: 0.8949290\ttotal: 40.6s\tremaining: 13s\n",
      "758:\tlearn: 0.8948817\ttotal: 40.6s\tremaining: 12.9s\n",
      "759:\tlearn: 0.8948381\ttotal: 40.7s\tremaining: 12.9s\n",
      "760:\tlearn: 0.8947646\ttotal: 40.8s\tremaining: 12.8s\n",
      "761:\tlearn: 0.8947239\ttotal: 40.8s\tremaining: 12.7s\n",
      "762:\tlearn: 0.8946878\ttotal: 40.8s\tremaining: 12.7s\n",
      "763:\tlearn: 0.8946321\ttotal: 40.9s\tremaining: 12.6s\n",
      "764:\tlearn: 0.8945787\ttotal: 40.9s\tremaining: 12.6s\n",
      "765:\tlearn: 0.8945253\ttotal: 41s\tremaining: 12.5s\n",
      "766:\tlearn: 0.8944693\ttotal: 41s\tremaining: 12.5s\n",
      "767:\tlearn: 0.8944268\ttotal: 41.1s\tremaining: 12.4s\n",
      "768:\tlearn: 0.8943819\ttotal: 41.1s\tremaining: 12.4s\n",
      "769:\tlearn: 0.8943117\ttotal: 41.2s\tremaining: 12.3s\n",
      "770:\tlearn: 0.8942785\ttotal: 41.3s\tremaining: 12.3s\n",
      "771:\tlearn: 0.8942288\ttotal: 41.3s\tremaining: 12.2s\n",
      "772:\tlearn: 0.8941772\ttotal: 41.3s\tremaining: 12.1s\n",
      "773:\tlearn: 0.8941327\ttotal: 41.4s\tremaining: 12.1s\n",
      "774:\tlearn: 0.8940844\ttotal: 41.5s\tremaining: 12s\n",
      "775:\tlearn: 0.8940204\ttotal: 41.5s\tremaining: 12s\n",
      "776:\tlearn: 0.8939621\ttotal: 41.5s\tremaining: 11.9s\n",
      "777:\tlearn: 0.8938990\ttotal: 41.6s\tremaining: 11.9s\n",
      "778:\tlearn: 0.8938407\ttotal: 41.7s\tremaining: 11.8s\n",
      "779:\tlearn: 0.8938058\ttotal: 41.7s\tremaining: 11.8s\n",
      "780:\tlearn: 0.8937762\ttotal: 41.8s\tremaining: 11.7s\n",
      "781:\tlearn: 0.8937277\ttotal: 41.8s\tremaining: 11.7s\n",
      "782:\tlearn: 0.8936510\ttotal: 41.9s\tremaining: 11.6s\n",
      "783:\tlearn: 0.8936017\ttotal: 41.9s\tremaining: 11.5s\n",
      "784:\tlearn: 0.8935618\ttotal: 42s\tremaining: 11.5s\n",
      "785:\tlearn: 0.8935083\ttotal: 42s\tremaining: 11.4s\n",
      "786:\tlearn: 0.8934572\ttotal: 42.1s\tremaining: 11.4s\n",
      "787:\tlearn: 0.8934054\ttotal: 42.1s\tremaining: 11.3s\n",
      "788:\tlearn: 0.8933523\ttotal: 42.2s\tremaining: 11.3s\n",
      "789:\tlearn: 0.8933263\ttotal: 42.2s\tremaining: 11.2s\n",
      "790:\tlearn: 0.8932764\ttotal: 42.3s\tremaining: 11.2s\n",
      "791:\tlearn: 0.8932234\ttotal: 42.3s\tremaining: 11.1s\n",
      "792:\tlearn: 0.8931868\ttotal: 42.4s\tremaining: 11.1s\n",
      "793:\tlearn: 0.8931059\ttotal: 42.4s\tremaining: 11s\n",
      "794:\tlearn: 0.8930732\ttotal: 42.5s\tremaining: 10.9s\n",
      "795:\tlearn: 0.8930421\ttotal: 42.5s\tremaining: 10.9s\n",
      "796:\tlearn: 0.8929763\ttotal: 42.6s\tremaining: 10.8s\n",
      "797:\tlearn: 0.8929216\ttotal: 42.6s\tremaining: 10.8s\n",
      "798:\tlearn: 0.8928949\ttotal: 42.7s\tremaining: 10.7s\n",
      "799:\tlearn: 0.8928188\ttotal: 42.7s\tremaining: 10.7s\n",
      "800:\tlearn: 0.8927703\ttotal: 42.8s\tremaining: 10.6s\n",
      "801:\tlearn: 0.8927158\ttotal: 42.8s\tremaining: 10.6s\n",
      "802:\tlearn: 0.8926702\ttotal: 42.9s\tremaining: 10.5s\n",
      "803:\tlearn: 0.8926273\ttotal: 42.9s\tremaining: 10.5s\n",
      "804:\tlearn: 0.8925600\ttotal: 43s\tremaining: 10.4s\n",
      "805:\tlearn: 0.8924998\ttotal: 43.1s\tremaining: 10.4s\n",
      "806:\tlearn: 0.8924544\ttotal: 43.1s\tremaining: 10.3s\n",
      "807:\tlearn: 0.8924221\ttotal: 43.2s\tremaining: 10.3s\n",
      "808:\tlearn: 0.8924003\ttotal: 43.2s\tremaining: 10.2s\n"
     ]
    },
    {
     "name": "stdout",
     "output_type": "stream",
     "text": [
      "809:\tlearn: 0.8923297\ttotal: 43.3s\tremaining: 10.2s\n",
      "810:\tlearn: 0.8922559\ttotal: 43.3s\tremaining: 10.1s\n",
      "811:\tlearn: 0.8922045\ttotal: 43.4s\tremaining: 10s\n",
      "812:\tlearn: 0.8921373\ttotal: 43.4s\tremaining: 9.99s\n",
      "813:\tlearn: 0.8920727\ttotal: 43.5s\tremaining: 9.94s\n",
      "814:\tlearn: 0.8919929\ttotal: 43.5s\tremaining: 9.88s\n",
      "815:\tlearn: 0.8919259\ttotal: 43.6s\tremaining: 9.83s\n",
      "816:\tlearn: 0.8918909\ttotal: 43.7s\tremaining: 9.78s\n",
      "817:\tlearn: 0.8918363\ttotal: 43.7s\tremaining: 9.72s\n",
      "818:\tlearn: 0.8917962\ttotal: 43.8s\tremaining: 9.67s\n",
      "819:\tlearn: 0.8917299\ttotal: 43.8s\tremaining: 9.62s\n",
      "820:\tlearn: 0.8916823\ttotal: 43.9s\tremaining: 9.57s\n",
      "821:\tlearn: 0.8916256\ttotal: 43.9s\tremaining: 9.51s\n",
      "822:\tlearn: 0.8915650\ttotal: 44s\tremaining: 9.46s\n",
      "823:\tlearn: 0.8915229\ttotal: 44s\tremaining: 9.41s\n",
      "824:\tlearn: 0.8914453\ttotal: 44.1s\tremaining: 9.35s\n",
      "825:\tlearn: 0.8913882\ttotal: 44.1s\tremaining: 9.3s\n",
      "826:\tlearn: 0.8913281\ttotal: 44.2s\tremaining: 9.25s\n",
      "827:\tlearn: 0.8912853\ttotal: 44.3s\tremaining: 9.19s\n",
      "828:\tlearn: 0.8912200\ttotal: 44.3s\tremaining: 9.14s\n",
      "829:\tlearn: 0.8911442\ttotal: 44.4s\tremaining: 9.09s\n",
      "830:\tlearn: 0.8910834\ttotal: 44.4s\tremaining: 9.04s\n",
      "831:\tlearn: 0.8910126\ttotal: 44.5s\tremaining: 8.98s\n",
      "832:\tlearn: 0.8909466\ttotal: 44.5s\tremaining: 8.93s\n",
      "833:\tlearn: 0.8909052\ttotal: 44.6s\tremaining: 8.88s\n",
      "834:\tlearn: 0.8908508\ttotal: 44.7s\tremaining: 8.82s\n",
      "835:\tlearn: 0.8908026\ttotal: 44.7s\tremaining: 8.77s\n",
      "836:\tlearn: 0.8907598\ttotal: 44.8s\tremaining: 8.72s\n",
      "837:\tlearn: 0.8907002\ttotal: 44.8s\tremaining: 8.66s\n",
      "838:\tlearn: 0.8906457\ttotal: 44.9s\tremaining: 8.61s\n",
      "839:\tlearn: 0.8905835\ttotal: 44.9s\tremaining: 8.56s\n",
      "840:\tlearn: 0.8905381\ttotal: 45s\tremaining: 8.5s\n",
      "841:\tlearn: 0.8904602\ttotal: 45s\tremaining: 8.45s\n",
      "842:\tlearn: 0.8904071\ttotal: 45.1s\tremaining: 8.4s\n",
      "843:\tlearn: 0.8903571\ttotal: 45.2s\tremaining: 8.35s\n",
      "844:\tlearn: 0.8903078\ttotal: 45.2s\tremaining: 8.29s\n",
      "845:\tlearn: 0.8902915\ttotal: 45.3s\tremaining: 8.24s\n",
      "846:\tlearn: 0.8902052\ttotal: 45.3s\tremaining: 8.19s\n",
      "847:\tlearn: 0.8901375\ttotal: 45.4s\tremaining: 8.13s\n",
      "848:\tlearn: 0.8900724\ttotal: 45.4s\tremaining: 8.08s\n",
      "849:\tlearn: 0.8900311\ttotal: 45.5s\tremaining: 8.03s\n",
      "850:\tlearn: 0.8899703\ttotal: 45.5s\tremaining: 7.97s\n",
      "851:\tlearn: 0.8899193\ttotal: 45.6s\tremaining: 7.92s\n",
      "852:\tlearn: 0.8898866\ttotal: 45.7s\tremaining: 7.87s\n",
      "853:\tlearn: 0.8898479\ttotal: 45.7s\tremaining: 7.82s\n",
      "854:\tlearn: 0.8897967\ttotal: 45.8s\tremaining: 7.76s\n",
      "855:\tlearn: 0.8897370\ttotal: 45.8s\tremaining: 7.71s\n",
      "856:\tlearn: 0.8896993\ttotal: 45.9s\tremaining: 7.66s\n",
      "857:\tlearn: 0.8896466\ttotal: 45.9s\tremaining: 7.6s\n",
      "858:\tlearn: 0.8895879\ttotal: 46s\tremaining: 7.55s\n",
      "859:\tlearn: 0.8895419\ttotal: 46s\tremaining: 7.5s\n",
      "860:\tlearn: 0.8895006\ttotal: 46.1s\tremaining: 7.44s\n",
      "861:\tlearn: 0.8894464\ttotal: 46.2s\tremaining: 7.39s\n",
      "862:\tlearn: 0.8894004\ttotal: 46.2s\tremaining: 7.34s\n",
      "863:\tlearn: 0.8893619\ttotal: 46.3s\tremaining: 7.28s\n",
      "864:\tlearn: 0.8893024\ttotal: 46.3s\tremaining: 7.23s\n",
      "865:\tlearn: 0.8892410\ttotal: 46.4s\tremaining: 7.18s\n",
      "866:\tlearn: 0.8892033\ttotal: 46.4s\tremaining: 7.12s\n",
      "867:\tlearn: 0.8891701\ttotal: 46.5s\tremaining: 7.07s\n",
      "868:\tlearn: 0.8891204\ttotal: 46.6s\tremaining: 7.02s\n",
      "869:\tlearn: 0.8890935\ttotal: 46.6s\tremaining: 6.96s\n",
      "870:\tlearn: 0.8890369\ttotal: 46.7s\tremaining: 6.91s\n",
      "871:\tlearn: 0.8889854\ttotal: 46.7s\tremaining: 6.86s\n",
      "872:\tlearn: 0.8889271\ttotal: 46.8s\tremaining: 6.81s\n",
      "873:\tlearn: 0.8888751\ttotal: 46.8s\tremaining: 6.75s\n",
      "874:\tlearn: 0.8888267\ttotal: 46.9s\tremaining: 6.7s\n",
      "875:\tlearn: 0.8888000\ttotal: 47s\tremaining: 6.65s\n",
      "876:\tlearn: 0.8887601\ttotal: 47s\tremaining: 6.59s\n",
      "877:\tlearn: 0.8887171\ttotal: 47.1s\tremaining: 6.54s\n",
      "878:\tlearn: 0.8886719\ttotal: 47.1s\tremaining: 6.49s\n",
      "879:\tlearn: 0.8886061\ttotal: 47.2s\tremaining: 6.43s\n",
      "880:\tlearn: 0.8885218\ttotal: 47.2s\tremaining: 6.38s\n",
      "881:\tlearn: 0.8884855\ttotal: 47.3s\tremaining: 6.33s\n",
      "882:\tlearn: 0.8884481\ttotal: 47.3s\tremaining: 6.27s\n",
      "883:\tlearn: 0.8884020\ttotal: 47.4s\tremaining: 6.22s\n",
      "884:\tlearn: 0.8883459\ttotal: 47.4s\tremaining: 6.17s\n",
      "885:\tlearn: 0.8883048\ttotal: 47.5s\tremaining: 6.11s\n",
      "886:\tlearn: 0.8882566\ttotal: 47.6s\tremaining: 6.06s\n",
      "887:\tlearn: 0.8881977\ttotal: 47.6s\tremaining: 6.01s\n",
      "888:\tlearn: 0.8881211\ttotal: 47.7s\tremaining: 5.95s\n",
      "889:\tlearn: 0.8880722\ttotal: 47.7s\tremaining: 5.9s\n",
      "890:\tlearn: 0.8880207\ttotal: 47.8s\tremaining: 5.84s\n",
      "891:\tlearn: 0.8879555\ttotal: 47.8s\tremaining: 5.79s\n",
      "892:\tlearn: 0.8879026\ttotal: 47.9s\tremaining: 5.74s\n",
      "893:\tlearn: 0.8878278\ttotal: 48s\tremaining: 5.69s\n",
      "894:\tlearn: 0.8877606\ttotal: 48s\tremaining: 5.63s\n",
      "895:\tlearn: 0.8877449\ttotal: 48.1s\tremaining: 5.58s\n",
      "896:\tlearn: 0.8876872\ttotal: 48.1s\tremaining: 5.52s\n",
      "897:\tlearn: 0.8876314\ttotal: 48.2s\tremaining: 5.47s\n",
      "898:\tlearn: 0.8875698\ttotal: 48.2s\tremaining: 5.42s\n",
      "899:\tlearn: 0.8875096\ttotal: 48.3s\tremaining: 5.37s\n",
      "900:\tlearn: 0.8874256\ttotal: 48.4s\tremaining: 5.31s\n",
      "901:\tlearn: 0.8873787\ttotal: 48.4s\tremaining: 5.26s\n",
      "902:\tlearn: 0.8873238\ttotal: 48.5s\tremaining: 5.21s\n",
      "903:\tlearn: 0.8872899\ttotal: 48.5s\tremaining: 5.15s\n",
      "904:\tlearn: 0.8872422\ttotal: 48.6s\tremaining: 5.1s\n",
      "905:\tlearn: 0.8871929\ttotal: 48.6s\tremaining: 5.04s\n",
      "906:\tlearn: 0.8871557\ttotal: 48.7s\tremaining: 4.99s\n",
      "907:\tlearn: 0.8871096\ttotal: 48.7s\tremaining: 4.94s\n",
      "908:\tlearn: 0.8870545\ttotal: 48.8s\tremaining: 4.88s\n",
      "909:\tlearn: 0.8870205\ttotal: 48.8s\tremaining: 4.83s\n",
      "910:\tlearn: 0.8869696\ttotal: 48.9s\tremaining: 4.78s\n",
      "911:\tlearn: 0.8869272\ttotal: 49s\tremaining: 4.72s\n",
      "912:\tlearn: 0.8868933\ttotal: 49s\tremaining: 4.67s\n",
      "913:\tlearn: 0.8868578\ttotal: 49s\tremaining: 4.62s\n",
      "914:\tlearn: 0.8868112\ttotal: 49.1s\tremaining: 4.56s\n",
      "915:\tlearn: 0.8867481\ttotal: 49.2s\tremaining: 4.51s\n",
      "916:\tlearn: 0.8866806\ttotal: 49.2s\tremaining: 4.45s\n",
      "917:\tlearn: 0.8866395\ttotal: 49.3s\tremaining: 4.4s\n",
      "918:\tlearn: 0.8866106\ttotal: 49.3s\tremaining: 4.35s\n",
      "919:\tlearn: 0.8865605\ttotal: 49.4s\tremaining: 4.29s\n",
      "920:\tlearn: 0.8865266\ttotal: 49.5s\tremaining: 4.24s\n",
      "921:\tlearn: 0.8864699\ttotal: 49.5s\tremaining: 4.19s\n",
      "922:\tlearn: 0.8864205\ttotal: 49.6s\tremaining: 4.13s\n",
      "923:\tlearn: 0.8863662\ttotal: 49.6s\tremaining: 4.08s\n",
      "924:\tlearn: 0.8863167\ttotal: 49.7s\tremaining: 4.03s\n",
      "925:\tlearn: 0.8862648\ttotal: 49.7s\tremaining: 3.97s\n",
      "926:\tlearn: 0.8862156\ttotal: 49.8s\tremaining: 3.92s\n",
      "927:\tlearn: 0.8861794\ttotal: 49.9s\tremaining: 3.87s\n",
      "928:\tlearn: 0.8861319\ttotal: 49.9s\tremaining: 3.81s\n",
      "929:\tlearn: 0.8860771\ttotal: 50s\tremaining: 3.76s\n",
      "930:\tlearn: 0.8860163\ttotal: 50s\tremaining: 3.71s\n",
      "931:\tlearn: 0.8859851\ttotal: 50.1s\tremaining: 3.65s\n",
      "932:\tlearn: 0.8859356\ttotal: 50.1s\tremaining: 3.6s\n",
      "933:\tlearn: 0.8858728\ttotal: 50.2s\tremaining: 3.55s\n",
      "934:\tlearn: 0.8858364\ttotal: 50.3s\tremaining: 3.49s\n",
      "935:\tlearn: 0.8857786\ttotal: 50.3s\tremaining: 3.44s\n",
      "936:\tlearn: 0.8857392\ttotal: 50.4s\tremaining: 3.39s\n",
      "937:\tlearn: 0.8856736\ttotal: 50.4s\tremaining: 3.33s\n",
      "938:\tlearn: 0.8856180\ttotal: 50.5s\tremaining: 3.28s\n",
      "939:\tlearn: 0.8855520\ttotal: 50.5s\tremaining: 3.23s\n",
      "940:\tlearn: 0.8855043\ttotal: 50.6s\tremaining: 3.17s\n",
      "941:\tlearn: 0.8854503\ttotal: 50.6s\tremaining: 3.12s\n",
      "942:\tlearn: 0.8853993\ttotal: 50.7s\tremaining: 3.06s\n",
      "943:\tlearn: 0.8853465\ttotal: 50.7s\tremaining: 3.01s\n",
      "944:\tlearn: 0.8853125\ttotal: 50.8s\tremaining: 2.96s\n",
      "945:\tlearn: 0.8852506\ttotal: 50.9s\tremaining: 2.9s\n",
      "946:\tlearn: 0.8852211\ttotal: 50.9s\tremaining: 2.85s\n",
      "947:\tlearn: 0.8851773\ttotal: 51s\tremaining: 2.79s\n",
      "948:\tlearn: 0.8851186\ttotal: 51s\tremaining: 2.74s\n",
      "949:\tlearn: 0.8850630\ttotal: 51.1s\tremaining: 2.69s\n",
      "950:\tlearn: 0.8850270\ttotal: 51.1s\tremaining: 2.63s\n",
      "951:\tlearn: 0.8849866\ttotal: 51.2s\tremaining: 2.58s\n",
      "952:\tlearn: 0.8849202\ttotal: 51.2s\tremaining: 2.53s\n",
      "953:\tlearn: 0.8848774\ttotal: 51.3s\tremaining: 2.47s\n",
      "954:\tlearn: 0.8848176\ttotal: 51.3s\tremaining: 2.42s\n",
      "955:\tlearn: 0.8847834\ttotal: 51.4s\tremaining: 2.37s\n",
      "956:\tlearn: 0.8847144\ttotal: 51.5s\tremaining: 2.31s\n",
      "957:\tlearn: 0.8846671\ttotal: 51.5s\tremaining: 2.26s\n",
      "958:\tlearn: 0.8846272\ttotal: 51.6s\tremaining: 2.2s\n",
      "959:\tlearn: 0.8845606\ttotal: 51.6s\tremaining: 2.15s\n",
      "960:\tlearn: 0.8845099\ttotal: 51.7s\tremaining: 2.1s\n",
      "961:\tlearn: 0.8844631\ttotal: 51.7s\tremaining: 2.04s\n",
      "962:\tlearn: 0.8844388\ttotal: 51.8s\tremaining: 1.99s\n",
      "963:\tlearn: 0.8843874\ttotal: 51.8s\tremaining: 1.94s\n",
      "964:\tlearn: 0.8843500\ttotal: 51.9s\tremaining: 1.88s\n",
      "965:\tlearn: 0.8843150\ttotal: 51.9s\tremaining: 1.83s\n",
      "966:\tlearn: 0.8842791\ttotal: 52s\tremaining: 1.77s\n",
      "967:\tlearn: 0.8842147\ttotal: 52s\tremaining: 1.72s\n",
      "968:\tlearn: 0.8841567\ttotal: 52.1s\tremaining: 1.67s\n"
     ]
    },
    {
     "name": "stdout",
     "output_type": "stream",
     "text": [
      "969:\tlearn: 0.8841231\ttotal: 52.2s\tremaining: 1.61s\n",
      "970:\tlearn: 0.8840837\ttotal: 52.2s\tremaining: 1.56s\n",
      "971:\tlearn: 0.8840097\ttotal: 52.3s\tremaining: 1.5s\n",
      "972:\tlearn: 0.8839724\ttotal: 52.3s\tremaining: 1.45s\n",
      "973:\tlearn: 0.8839378\ttotal: 52.4s\tremaining: 1.4s\n",
      "974:\tlearn: 0.8838747\ttotal: 52.4s\tremaining: 1.34s\n",
      "975:\tlearn: 0.8838383\ttotal: 52.5s\tremaining: 1.29s\n",
      "976:\tlearn: 0.8837979\ttotal: 52.5s\tremaining: 1.24s\n",
      "977:\tlearn: 0.8837514\ttotal: 52.6s\tremaining: 1.18s\n",
      "978:\tlearn: 0.8837066\ttotal: 52.6s\tremaining: 1.13s\n",
      "979:\tlearn: 0.8836757\ttotal: 52.7s\tremaining: 1.07s\n",
      "980:\tlearn: 0.8836140\ttotal: 52.8s\tremaining: 1.02s\n",
      "981:\tlearn: 0.8835760\ttotal: 52.8s\tremaining: 968ms\n",
      "982:\tlearn: 0.8835296\ttotal: 52.9s\tremaining: 915ms\n",
      "983:\tlearn: 0.8834608\ttotal: 52.9s\tremaining: 861ms\n",
      "984:\tlearn: 0.8834113\ttotal: 53s\tremaining: 807ms\n",
      "985:\tlearn: 0.8833513\ttotal: 53.1s\tremaining: 753ms\n",
      "986:\tlearn: 0.8832897\ttotal: 53.1s\tremaining: 700ms\n",
      "987:\tlearn: 0.8832349\ttotal: 53.2s\tremaining: 646ms\n",
      "988:\tlearn: 0.8831919\ttotal: 53.2s\tremaining: 592ms\n",
      "989:\tlearn: 0.8831661\ttotal: 53.3s\tremaining: 538ms\n",
      "990:\tlearn: 0.8831215\ttotal: 53.4s\tremaining: 485ms\n",
      "991:\tlearn: 0.8830563\ttotal: 53.4s\tremaining: 431ms\n",
      "992:\tlearn: 0.8830127\ttotal: 53.5s\tremaining: 377ms\n",
      "993:\tlearn: 0.8829642\ttotal: 53.5s\tremaining: 323ms\n",
      "994:\tlearn: 0.8829173\ttotal: 53.6s\tremaining: 269ms\n",
      "995:\tlearn: 0.8828629\ttotal: 53.6s\tremaining: 215ms\n",
      "996:\tlearn: 0.8828393\ttotal: 53.7s\tremaining: 162ms\n",
      "997:\tlearn: 0.8827932\ttotal: 53.7s\tremaining: 108ms\n",
      "998:\tlearn: 0.8827550\ttotal: 53.8s\tremaining: 53.8ms\n",
      "999:\tlearn: 0.8827041\ttotal: 53.8s\tremaining: 0us\n",
      "Weighted F1 Score: 0.5140592970144876\n"
     ]
    }
   ],
   "source": [
    "cat_rg1 = cb.CatBoostClassifier()\n",
    "cat_rg1.fit(x_train,y_train)\n",
    "prediction=cat_rg1.predict(x_test)\n",
    "print(\"Weighted F1 Score:\",f1_score(y_test, prediction,average='weighted'))"
   ]
  },
  {
   "cell_type": "code",
   "execution_count": 278,
   "metadata": {},
   "outputs": [
    {
     "name": "stdout",
     "output_type": "stream",
     "text": [
      "Weighted F1 Score: 0.10870174580608326\n"
     ]
    },
    {
     "name": "stderr",
     "output_type": "stream",
     "text": [
      "c:\\users\\acer\\appdata\\local\\programs\\python\\python36\\lib\\site-packages\\sklearn\\metrics\\classification.py:1437: UndefinedMetricWarning: F-score is ill-defined and being set to 0.0 in labels with no predicted samples.\n",
      "  'precision', 'predicted', average, warn_for)\n"
     ]
    }
   ],
   "source": [
    "sgd=SGDClassifier()\n",
    "sgd.fit(x_train,y_train)\n",
    "prediction=sgd.predict(x_test)\n",
    "print(\"Weighted F1 Score:\",f1_score(y_test, prediction,average='weighted'))"
   ]
  },
  {
   "cell_type": "code",
   "execution_count": 279,
   "metadata": {},
   "outputs": [
    {
     "name": "stdout",
     "output_type": "stream",
     "text": [
      "Weighted F1 Score: 0.3968962767230415\n"
     ]
    }
   ],
   "source": [
    "knn=KNeighborsClassifier()\n",
    "knn.fit(x_train,y_train)\n",
    "prediction=knn.predict(x_test)\n",
    "print(\"Weighted F1 Score:\",f1_score(y_test, prediction,average='weighted'))"
   ]
  },
  {
   "cell_type": "code",
   "execution_count": null,
   "metadata": {},
   "outputs": [],
   "source": [
    "# Applying best model on test dataset"
   ]
  },
  {
   "cell_type": "code",
   "execution_count": 335,
   "metadata": {},
   "outputs": [
    {
     "name": "stdout",
     "output_type": "stream",
     "text": [
      "Learning rate set to 0.102641\n",
      "0:\tlearn: 1.0794579\ttotal: 86.7ms\tremaining: 1m 26s\n",
      "1:\tlearn: 1.0632423\ttotal: 162ms\tremaining: 1m 21s\n",
      "2:\tlearn: 1.0501140\ttotal: 253ms\tremaining: 1m 24s\n",
      "3:\tlearn: 1.0388240\ttotal: 340ms\tremaining: 1m 24s\n",
      "4:\tlearn: 1.0294103\ttotal: 429ms\tremaining: 1m 25s\n",
      "5:\tlearn: 1.0207997\ttotal: 510ms\tremaining: 1m 24s\n",
      "6:\tlearn: 1.0135011\ttotal: 587ms\tremaining: 1m 23s\n",
      "7:\tlearn: 1.0069478\ttotal: 662ms\tremaining: 1m 22s\n",
      "8:\tlearn: 1.0013296\ttotal: 744ms\tremaining: 1m 21s\n",
      "9:\tlearn: 0.9966363\ttotal: 831ms\tremaining: 1m 22s\n",
      "10:\tlearn: 0.9921690\ttotal: 927ms\tremaining: 1m 23s\n",
      "11:\tlearn: 0.9883751\ttotal: 1.02s\tremaining: 1m 23s\n",
      "12:\tlearn: 0.9851487\ttotal: 1.11s\tremaining: 1m 24s\n",
      "13:\tlearn: 0.9817273\ttotal: 1.21s\tremaining: 1m 25s\n",
      "14:\tlearn: 0.9785713\ttotal: 1.3s\tremaining: 1m 25s\n",
      "15:\tlearn: 0.9758697\ttotal: 1.38s\tremaining: 1m 25s\n",
      "16:\tlearn: 0.9726162\ttotal: 1.46s\tremaining: 1m 24s\n",
      "17:\tlearn: 0.9702746\ttotal: 1.54s\tremaining: 1m 23s\n",
      "18:\tlearn: 0.9680706\ttotal: 1.62s\tremaining: 1m 23s\n",
      "19:\tlearn: 0.9661490\ttotal: 1.69s\tremaining: 1m 23s\n",
      "20:\tlearn: 0.9639262\ttotal: 1.77s\tremaining: 1m 22s\n",
      "21:\tlearn: 0.9620856\ttotal: 1.85s\tremaining: 1m 22s\n",
      "22:\tlearn: 0.9604067\ttotal: 1.92s\tremaining: 1m 21s\n",
      "23:\tlearn: 0.9588783\ttotal: 2.01s\tremaining: 1m 21s\n",
      "24:\tlearn: 0.9575638\ttotal: 2.09s\tremaining: 1m 21s\n",
      "25:\tlearn: 0.9562079\ttotal: 2.17s\tremaining: 1m 21s\n",
      "26:\tlearn: 0.9549327\ttotal: 2.25s\tremaining: 1m 20s\n",
      "27:\tlearn: 0.9539613\ttotal: 2.33s\tremaining: 1m 20s\n",
      "28:\tlearn: 0.9529099\ttotal: 2.41s\tremaining: 1m 20s\n",
      "29:\tlearn: 0.9517231\ttotal: 2.49s\tremaining: 1m 20s\n",
      "30:\tlearn: 0.9507569\ttotal: 2.56s\tremaining: 1m 20s\n",
      "31:\tlearn: 0.9497458\ttotal: 2.64s\tremaining: 1m 19s\n",
      "32:\tlearn: 0.9489046\ttotal: 2.72s\tremaining: 1m 19s\n",
      "33:\tlearn: 0.9481022\ttotal: 2.81s\tremaining: 1m 19s\n",
      "34:\tlearn: 0.9473238\ttotal: 2.88s\tremaining: 1m 19s\n",
      "35:\tlearn: 0.9463763\ttotal: 2.98s\tremaining: 1m 19s\n",
      "36:\tlearn: 0.9454895\ttotal: 3.06s\tremaining: 1m 19s\n",
      "37:\tlearn: 0.9447630\ttotal: 3.15s\tremaining: 1m 19s\n",
      "38:\tlearn: 0.9439671\ttotal: 3.22s\tremaining: 1m 19s\n",
      "39:\tlearn: 0.9431808\ttotal: 3.3s\tremaining: 1m 19s\n",
      "40:\tlearn: 0.9425649\ttotal: 3.38s\tremaining: 1m 19s\n",
      "41:\tlearn: 0.9420098\ttotal: 3.46s\tremaining: 1m 18s\n",
      "42:\tlearn: 0.9415520\ttotal: 3.53s\tremaining: 1m 18s\n",
      "43:\tlearn: 0.9410316\ttotal: 3.61s\tremaining: 1m 18s\n",
      "44:\tlearn: 0.9405398\ttotal: 3.69s\tremaining: 1m 18s\n",
      "45:\tlearn: 0.9400766\ttotal: 3.77s\tremaining: 1m 18s\n",
      "46:\tlearn: 0.9395634\ttotal: 3.85s\tremaining: 1m 18s\n",
      "47:\tlearn: 0.9391280\ttotal: 3.93s\tremaining: 1m 17s\n",
      "48:\tlearn: 0.9385966\ttotal: 4.02s\tremaining: 1m 17s\n",
      "49:\tlearn: 0.9382984\ttotal: 4.09s\tremaining: 1m 17s\n",
      "50:\tlearn: 0.9378618\ttotal: 4.17s\tremaining: 1m 17s\n",
      "51:\tlearn: 0.9374491\ttotal: 4.24s\tremaining: 1m 17s\n",
      "52:\tlearn: 0.9370011\ttotal: 4.32s\tremaining: 1m 17s\n",
      "53:\tlearn: 0.9367086\ttotal: 4.41s\tremaining: 1m 17s\n",
      "54:\tlearn: 0.9363438\ttotal: 4.49s\tremaining: 1m 17s\n",
      "55:\tlearn: 0.9359281\ttotal: 4.57s\tremaining: 1m 17s\n",
      "56:\tlearn: 0.9355504\ttotal: 4.65s\tremaining: 1m 16s\n",
      "57:\tlearn: 0.9351885\ttotal: 4.74s\tremaining: 1m 16s\n",
      "58:\tlearn: 0.9349346\ttotal: 4.83s\tremaining: 1m 17s\n",
      "59:\tlearn: 0.9346303\ttotal: 4.91s\tremaining: 1m 16s\n",
      "60:\tlearn: 0.9343029\ttotal: 4.99s\tremaining: 1m 16s\n",
      "61:\tlearn: 0.9340119\ttotal: 5.07s\tremaining: 1m 16s\n",
      "62:\tlearn: 0.9336898\ttotal: 5.14s\tremaining: 1m 16s\n",
      "63:\tlearn: 0.9334892\ttotal: 5.23s\tremaining: 1m 16s\n",
      "64:\tlearn: 0.9332650\ttotal: 5.31s\tremaining: 1m 16s\n",
      "65:\tlearn: 0.9331168\ttotal: 5.38s\tremaining: 1m 16s\n",
      "66:\tlearn: 0.9328720\ttotal: 5.47s\tremaining: 1m 16s\n",
      "67:\tlearn: 0.9326672\ttotal: 5.55s\tremaining: 1m 16s\n",
      "68:\tlearn: 0.9323960\ttotal: 5.63s\tremaining: 1m 15s\n",
      "69:\tlearn: 0.9321415\ttotal: 5.71s\tremaining: 1m 15s\n",
      "70:\tlearn: 0.9319431\ttotal: 5.78s\tremaining: 1m 15s\n",
      "71:\tlearn: 0.9316679\ttotal: 5.86s\tremaining: 1m 15s\n",
      "72:\tlearn: 0.9314800\ttotal: 5.95s\tremaining: 1m 15s\n",
      "73:\tlearn: 0.9312533\ttotal: 6.03s\tremaining: 1m 15s\n",
      "74:\tlearn: 0.9309910\ttotal: 6.11s\tremaining: 1m 15s\n",
      "75:\tlearn: 0.9307148\ttotal: 6.19s\tremaining: 1m 15s\n",
      "76:\tlearn: 0.9305387\ttotal: 6.26s\tremaining: 1m 15s\n",
      "77:\tlearn: 0.9303628\ttotal: 6.34s\tremaining: 1m 14s\n",
      "78:\tlearn: 0.9301943\ttotal: 6.42s\tremaining: 1m 14s\n",
      "79:\tlearn: 0.9299070\ttotal: 6.49s\tremaining: 1m 14s\n",
      "80:\tlearn: 0.9297087\ttotal: 6.56s\tremaining: 1m 14s\n",
      "81:\tlearn: 0.9295088\ttotal: 6.68s\tremaining: 1m 14s\n",
      "82:\tlearn: 0.9293014\ttotal: 6.77s\tremaining: 1m 14s\n",
      "83:\tlearn: 0.9291371\ttotal: 6.85s\tremaining: 1m 14s\n",
      "84:\tlearn: 0.9289179\ttotal: 6.93s\tremaining: 1m 14s\n",
      "85:\tlearn: 0.9287765\ttotal: 7.01s\tremaining: 1m 14s\n",
      "86:\tlearn: 0.9285579\ttotal: 7.09s\tremaining: 1m 14s\n",
      "87:\tlearn: 0.9283609\ttotal: 7.17s\tremaining: 1m 14s\n",
      "88:\tlearn: 0.9281535\ttotal: 7.26s\tremaining: 1m 14s\n",
      "89:\tlearn: 0.9279228\ttotal: 7.34s\tremaining: 1m 14s\n",
      "90:\tlearn: 0.9277196\ttotal: 7.41s\tremaining: 1m 14s\n",
      "91:\tlearn: 0.9275125\ttotal: 7.5s\tremaining: 1m 13s\n",
      "92:\tlearn: 0.9273628\ttotal: 7.57s\tremaining: 1m 13s\n",
      "93:\tlearn: 0.9271719\ttotal: 7.65s\tremaining: 1m 13s\n",
      "94:\tlearn: 0.9269708\ttotal: 7.73s\tremaining: 1m 13s\n",
      "95:\tlearn: 0.9268389\ttotal: 7.81s\tremaining: 1m 13s\n",
      "96:\tlearn: 0.9267122\ttotal: 7.88s\tremaining: 1m 13s\n",
      "97:\tlearn: 0.9265920\ttotal: 7.96s\tremaining: 1m 13s\n",
      "98:\tlearn: 0.9264974\ttotal: 8.03s\tremaining: 1m 13s\n",
      "99:\tlearn: 0.9263325\ttotal: 8.11s\tremaining: 1m 12s\n",
      "100:\tlearn: 0.9261794\ttotal: 8.19s\tremaining: 1m 12s\n",
      "101:\tlearn: 0.9260053\ttotal: 8.27s\tremaining: 1m 12s\n",
      "102:\tlearn: 0.9259220\ttotal: 8.34s\tremaining: 1m 12s\n",
      "103:\tlearn: 0.9257753\ttotal: 8.42s\tremaining: 1m 12s\n",
      "104:\tlearn: 0.9256334\ttotal: 8.52s\tremaining: 1m 12s\n",
      "105:\tlearn: 0.9254425\ttotal: 8.59s\tremaining: 1m 12s\n",
      "106:\tlearn: 0.9252794\ttotal: 8.68s\tremaining: 1m 12s\n",
      "107:\tlearn: 0.9251389\ttotal: 8.75s\tremaining: 1m 12s\n",
      "108:\tlearn: 0.9249436\ttotal: 8.83s\tremaining: 1m 12s\n",
      "109:\tlearn: 0.9248237\ttotal: 8.9s\tremaining: 1m 12s\n",
      "110:\tlearn: 0.9247012\ttotal: 8.98s\tremaining: 1m 11s\n",
      "111:\tlearn: 0.9245592\ttotal: 9.05s\tremaining: 1m 11s\n",
      "112:\tlearn: 0.9244912\ttotal: 9.13s\tremaining: 1m 11s\n",
      "113:\tlearn: 0.9243997\ttotal: 9.2s\tremaining: 1m 11s\n",
      "114:\tlearn: 0.9242846\ttotal: 9.27s\tremaining: 1m 11s\n",
      "115:\tlearn: 0.9240949\ttotal: 9.36s\tremaining: 1m 11s\n",
      "116:\tlearn: 0.9239948\ttotal: 9.44s\tremaining: 1m 11s\n",
      "117:\tlearn: 0.9238772\ttotal: 9.52s\tremaining: 1m 11s\n",
      "118:\tlearn: 0.9236945\ttotal: 9.6s\tremaining: 1m 11s\n",
      "119:\tlearn: 0.9235526\ttotal: 9.68s\tremaining: 1m 11s\n",
      "120:\tlearn: 0.9234627\ttotal: 9.76s\tremaining: 1m 10s\n",
      "121:\tlearn: 0.9232624\ttotal: 9.83s\tremaining: 1m 10s\n",
      "122:\tlearn: 0.9230990\ttotal: 9.91s\tremaining: 1m 10s\n",
      "123:\tlearn: 0.9229637\ttotal: 9.99s\tremaining: 1m 10s\n",
      "124:\tlearn: 0.9228560\ttotal: 10.1s\tremaining: 1m 10s\n",
      "125:\tlearn: 0.9227711\ttotal: 10.2s\tremaining: 1m 10s\n",
      "126:\tlearn: 0.9226443\ttotal: 10.2s\tremaining: 1m 10s\n",
      "127:\tlearn: 0.9225205\ttotal: 10.3s\tremaining: 1m 10s\n",
      "128:\tlearn: 0.9223347\ttotal: 10.4s\tremaining: 1m 10s\n",
      "129:\tlearn: 0.9222513\ttotal: 10.5s\tremaining: 1m 10s\n",
      "130:\tlearn: 0.9220816\ttotal: 10.6s\tremaining: 1m 10s\n",
      "131:\tlearn: 0.9219221\ttotal: 10.6s\tremaining: 1m 9s\n",
      "132:\tlearn: 0.9218205\ttotal: 10.7s\tremaining: 1m 9s\n",
      "133:\tlearn: 0.9216189\ttotal: 10.8s\tremaining: 1m 9s\n",
      "134:\tlearn: 0.9215399\ttotal: 10.9s\tremaining: 1m 9s\n",
      "135:\tlearn: 0.9214609\ttotal: 11s\tremaining: 1m 9s\n",
      "136:\tlearn: 0.9213750\ttotal: 11s\tremaining: 1m 9s\n",
      "137:\tlearn: 0.9213048\ttotal: 11.1s\tremaining: 1m 9s\n",
      "138:\tlearn: 0.9210398\ttotal: 11.2s\tremaining: 1m 9s\n",
      "139:\tlearn: 0.9209070\ttotal: 11.3s\tremaining: 1m 9s\n",
      "140:\tlearn: 0.9207000\ttotal: 11.3s\tremaining: 1m 9s\n",
      "141:\tlearn: 0.9206090\ttotal: 11.4s\tremaining: 1m 8s\n",
      "142:\tlearn: 0.9204628\ttotal: 11.5s\tremaining: 1m 8s\n",
      "143:\tlearn: 0.9203172\ttotal: 11.6s\tremaining: 1m 8s\n",
      "144:\tlearn: 0.9202351\ttotal: 11.6s\tremaining: 1m 8s\n",
      "145:\tlearn: 0.9201604\ttotal: 11.7s\tremaining: 1m 8s\n",
      "146:\tlearn: 0.9199813\ttotal: 11.8s\tremaining: 1m 8s\n",
      "147:\tlearn: 0.9198585\ttotal: 11.9s\tremaining: 1m 8s\n",
      "148:\tlearn: 0.9197506\ttotal: 12s\tremaining: 1m 8s\n",
      "149:\tlearn: 0.9196720\ttotal: 12s\tremaining: 1m 8s\n",
      "150:\tlearn: 0.9195846\ttotal: 12.1s\tremaining: 1m 8s\n",
      "151:\tlearn: 0.9194789\ttotal: 12.2s\tremaining: 1m 7s\n",
      "152:\tlearn: 0.9193826\ttotal: 12.3s\tremaining: 1m 7s\n",
      "153:\tlearn: 0.9192632\ttotal: 12.3s\tremaining: 1m 7s\n",
      "154:\tlearn: 0.9191792\ttotal: 12.4s\tremaining: 1m 7s\n",
      "155:\tlearn: 0.9190783\ttotal: 12.5s\tremaining: 1m 7s\n",
      "156:\tlearn: 0.9189694\ttotal: 12.6s\tremaining: 1m 7s\n"
     ]
    },
    {
     "name": "stdout",
     "output_type": "stream",
     "text": [
      "157:\tlearn: 0.9188273\ttotal: 12.7s\tremaining: 1m 7s\n",
      "158:\tlearn: 0.9186255\ttotal: 12.7s\tremaining: 1m 7s\n",
      "159:\tlearn: 0.9185297\ttotal: 12.8s\tremaining: 1m 7s\n",
      "160:\tlearn: 0.9184276\ttotal: 12.9s\tremaining: 1m 7s\n",
      "161:\tlearn: 0.9183392\ttotal: 13s\tremaining: 1m 7s\n",
      "162:\tlearn: 0.9182587\ttotal: 13s\tremaining: 1m 6s\n",
      "163:\tlearn: 0.9181124\ttotal: 13.1s\tremaining: 1m 6s\n",
      "164:\tlearn: 0.9180166\ttotal: 13.2s\tremaining: 1m 6s\n",
      "165:\tlearn: 0.9178642\ttotal: 13.3s\tremaining: 1m 6s\n",
      "166:\tlearn: 0.9177123\ttotal: 13.4s\tremaining: 1m 6s\n",
      "167:\tlearn: 0.9176394\ttotal: 13.4s\tremaining: 1m 6s\n",
      "168:\tlearn: 0.9175285\ttotal: 13.5s\tremaining: 1m 6s\n",
      "169:\tlearn: 0.9174367\ttotal: 13.6s\tremaining: 1m 6s\n",
      "170:\tlearn: 0.9173645\ttotal: 13.7s\tremaining: 1m 6s\n",
      "171:\tlearn: 0.9172620\ttotal: 13.8s\tremaining: 1m 6s\n",
      "172:\tlearn: 0.9171419\ttotal: 13.8s\tremaining: 1m 6s\n",
      "173:\tlearn: 0.9170838\ttotal: 13.9s\tremaining: 1m 6s\n",
      "174:\tlearn: 0.9169880\ttotal: 14s\tremaining: 1m 5s\n",
      "175:\tlearn: 0.9169147\ttotal: 14.1s\tremaining: 1m 5s\n",
      "176:\tlearn: 0.9168169\ttotal: 14.2s\tremaining: 1m 5s\n",
      "177:\tlearn: 0.9166529\ttotal: 14.2s\tremaining: 1m 5s\n",
      "178:\tlearn: 0.9165650\ttotal: 14.3s\tremaining: 1m 5s\n",
      "179:\tlearn: 0.9164751\ttotal: 14.4s\tremaining: 1m 5s\n",
      "180:\tlearn: 0.9163437\ttotal: 14.5s\tremaining: 1m 5s\n",
      "181:\tlearn: 0.9162596\ttotal: 14.5s\tremaining: 1m 5s\n",
      "182:\tlearn: 0.9161662\ttotal: 14.6s\tremaining: 1m 5s\n",
      "183:\tlearn: 0.9160416\ttotal: 14.7s\tremaining: 1m 5s\n",
      "184:\tlearn: 0.9159197\ttotal: 14.8s\tremaining: 1m 5s\n",
      "185:\tlearn: 0.9158151\ttotal: 14.9s\tremaining: 1m 4s\n",
      "186:\tlearn: 0.9157222\ttotal: 14.9s\tremaining: 1m 4s\n",
      "187:\tlearn: 0.9156537\ttotal: 15s\tremaining: 1m 4s\n",
      "188:\tlearn: 0.9155300\ttotal: 15.1s\tremaining: 1m 4s\n",
      "189:\tlearn: 0.9154718\ttotal: 15.2s\tremaining: 1m 4s\n",
      "190:\tlearn: 0.9153875\ttotal: 15.2s\tremaining: 1m 4s\n",
      "191:\tlearn: 0.9152709\ttotal: 15.3s\tremaining: 1m 4s\n",
      "192:\tlearn: 0.9151717\ttotal: 15.4s\tremaining: 1m 4s\n",
      "193:\tlearn: 0.9150939\ttotal: 15.5s\tremaining: 1m 4s\n",
      "194:\tlearn: 0.9149859\ttotal: 15.6s\tremaining: 1m 4s\n",
      "195:\tlearn: 0.9149112\ttotal: 15.6s\tremaining: 1m 4s\n",
      "196:\tlearn: 0.9148249\ttotal: 15.7s\tremaining: 1m 4s\n",
      "197:\tlearn: 0.9147157\ttotal: 15.8s\tremaining: 1m 3s\n",
      "198:\tlearn: 0.9145800\ttotal: 15.9s\tremaining: 1m 3s\n",
      "199:\tlearn: 0.9144955\ttotal: 16s\tremaining: 1m 3s\n",
      "200:\tlearn: 0.9143817\ttotal: 16s\tremaining: 1m 3s\n",
      "201:\tlearn: 0.9143208\ttotal: 16.1s\tremaining: 1m 3s\n",
      "202:\tlearn: 0.9142554\ttotal: 16.2s\tremaining: 1m 3s\n",
      "203:\tlearn: 0.9142002\ttotal: 16.3s\tremaining: 1m 3s\n",
      "204:\tlearn: 0.9141297\ttotal: 16.4s\tremaining: 1m 3s\n",
      "205:\tlearn: 0.9140645\ttotal: 16.5s\tremaining: 1m 3s\n",
      "206:\tlearn: 0.9139758\ttotal: 16.6s\tremaining: 1m 3s\n",
      "207:\tlearn: 0.9139270\ttotal: 16.6s\tremaining: 1m 3s\n",
      "208:\tlearn: 0.9138326\ttotal: 16.7s\tremaining: 1m 3s\n",
      "209:\tlearn: 0.9137734\ttotal: 16.8s\tremaining: 1m 3s\n",
      "210:\tlearn: 0.9136921\ttotal: 16.9s\tremaining: 1m 3s\n",
      "211:\tlearn: 0.9136170\ttotal: 17s\tremaining: 1m 3s\n",
      "212:\tlearn: 0.9135148\ttotal: 17s\tremaining: 1m 2s\n",
      "213:\tlearn: 0.9134687\ttotal: 17.1s\tremaining: 1m 2s\n",
      "214:\tlearn: 0.9134224\ttotal: 17.2s\tremaining: 1m 2s\n",
      "215:\tlearn: 0.9133382\ttotal: 17.2s\tremaining: 1m 2s\n",
      "216:\tlearn: 0.9132708\ttotal: 17.4s\tremaining: 1m 2s\n",
      "217:\tlearn: 0.9132135\ttotal: 17.5s\tremaining: 1m 2s\n",
      "218:\tlearn: 0.9131501\ttotal: 17.5s\tremaining: 1m 2s\n",
      "219:\tlearn: 0.9130944\ttotal: 17.6s\tremaining: 1m 2s\n",
      "220:\tlearn: 0.9129875\ttotal: 17.7s\tremaining: 1m 2s\n",
      "221:\tlearn: 0.9129015\ttotal: 17.8s\tremaining: 1m 2s\n",
      "222:\tlearn: 0.9128523\ttotal: 17.9s\tremaining: 1m 2s\n",
      "223:\tlearn: 0.9127825\ttotal: 18s\tremaining: 1m 2s\n",
      "224:\tlearn: 0.9127325\ttotal: 18.1s\tremaining: 1m 2s\n",
      "225:\tlearn: 0.9126571\ttotal: 18.2s\tremaining: 1m 2s\n",
      "226:\tlearn: 0.9126057\ttotal: 18.3s\tremaining: 1m 2s\n",
      "227:\tlearn: 0.9125335\ttotal: 18.3s\tremaining: 1m 2s\n",
      "228:\tlearn: 0.9124699\ttotal: 18.4s\tremaining: 1m 1s\n",
      "229:\tlearn: 0.9124154\ttotal: 18.5s\tremaining: 1m 1s\n",
      "230:\tlearn: 0.9123554\ttotal: 18.6s\tremaining: 1m 1s\n",
      "231:\tlearn: 0.9122846\ttotal: 18.6s\tremaining: 1m 1s\n",
      "232:\tlearn: 0.9122173\ttotal: 18.7s\tremaining: 1m 1s\n",
      "233:\tlearn: 0.9121547\ttotal: 18.8s\tremaining: 1m 1s\n",
      "234:\tlearn: 0.9120690\ttotal: 18.9s\tremaining: 1m 1s\n",
      "235:\tlearn: 0.9119391\ttotal: 19s\tremaining: 1m 1s\n",
      "236:\tlearn: 0.9118847\ttotal: 19.1s\tremaining: 1m 1s\n",
      "237:\tlearn: 0.9118315\ttotal: 19.2s\tremaining: 1m 1s\n",
      "238:\tlearn: 0.9117648\ttotal: 19.2s\tremaining: 1m 1s\n",
      "239:\tlearn: 0.9116838\ttotal: 19.3s\tremaining: 1m 1s\n",
      "240:\tlearn: 0.9115815\ttotal: 19.4s\tremaining: 1m 1s\n",
      "241:\tlearn: 0.9115156\ttotal: 19.5s\tremaining: 1m\n",
      "242:\tlearn: 0.9114657\ttotal: 19.5s\tremaining: 1m\n",
      "243:\tlearn: 0.9113983\ttotal: 19.6s\tremaining: 1m\n",
      "244:\tlearn: 0.9112828\ttotal: 19.7s\tremaining: 1m\n",
      "245:\tlearn: 0.9112158\ttotal: 19.8s\tremaining: 1m\n",
      "246:\tlearn: 0.9111345\ttotal: 19.9s\tremaining: 1m\n",
      "247:\tlearn: 0.9110603\ttotal: 20s\tremaining: 1m\n",
      "248:\tlearn: 0.9110205\ttotal: 20s\tremaining: 1m\n",
      "249:\tlearn: 0.9109881\ttotal: 20.1s\tremaining: 1m\n",
      "250:\tlearn: 0.9109616\ttotal: 20.2s\tremaining: 1m\n",
      "251:\tlearn: 0.9108628\ttotal: 20.3s\tremaining: 1m\n",
      "252:\tlearn: 0.9107967\ttotal: 20.4s\tremaining: 1m\n",
      "253:\tlearn: 0.9107227\ttotal: 20.4s\tremaining: 1m\n",
      "254:\tlearn: 0.9106518\ttotal: 20.5s\tremaining: 60s\n",
      "255:\tlearn: 0.9106015\ttotal: 20.6s\tremaining: 59.9s\n",
      "256:\tlearn: 0.9105420\ttotal: 20.7s\tremaining: 59.7s\n",
      "257:\tlearn: 0.9104855\ttotal: 20.8s\tremaining: 59.7s\n",
      "258:\tlearn: 0.9104426\ttotal: 20.8s\tremaining: 59.6s\n",
      "259:\tlearn: 0.9103714\ttotal: 20.9s\tremaining: 59.5s\n",
      "260:\tlearn: 0.9103087\ttotal: 21s\tremaining: 59.4s\n",
      "261:\tlearn: 0.9102533\ttotal: 21.1s\tremaining: 59.3s\n",
      "262:\tlearn: 0.9102059\ttotal: 21.1s\tremaining: 59.2s\n",
      "263:\tlearn: 0.9101817\ttotal: 21.2s\tremaining: 59.1s\n",
      "264:\tlearn: 0.9100696\ttotal: 21.3s\tremaining: 59.1s\n",
      "265:\tlearn: 0.9099792\ttotal: 21.4s\tremaining: 59s\n",
      "266:\tlearn: 0.9099390\ttotal: 21.4s\tremaining: 58.9s\n",
      "267:\tlearn: 0.9098910\ttotal: 21.5s\tremaining: 58.8s\n",
      "268:\tlearn: 0.9098311\ttotal: 21.6s\tremaining: 58.7s\n",
      "269:\tlearn: 0.9097774\ttotal: 21.7s\tremaining: 58.6s\n",
      "270:\tlearn: 0.9096991\ttotal: 21.8s\tremaining: 58.5s\n",
      "271:\tlearn: 0.9096107\ttotal: 21.8s\tremaining: 58.4s\n",
      "272:\tlearn: 0.9095677\ttotal: 21.9s\tremaining: 58.3s\n",
      "273:\tlearn: 0.9095078\ttotal: 22s\tremaining: 58.3s\n",
      "274:\tlearn: 0.9094790\ttotal: 22.1s\tremaining: 58.2s\n",
      "275:\tlearn: 0.9094352\ttotal: 22.1s\tremaining: 58.1s\n",
      "276:\tlearn: 0.9093575\ttotal: 22.2s\tremaining: 58s\n",
      "277:\tlearn: 0.9093084\ttotal: 22.3s\tremaining: 57.9s\n",
      "278:\tlearn: 0.9092396\ttotal: 22.4s\tremaining: 57.8s\n",
      "279:\tlearn: 0.9091826\ttotal: 22.5s\tremaining: 57.7s\n",
      "280:\tlearn: 0.9091516\ttotal: 22.5s\tremaining: 57.7s\n",
      "281:\tlearn: 0.9090949\ttotal: 22.6s\tremaining: 57.6s\n",
      "282:\tlearn: 0.9090499\ttotal: 22.7s\tremaining: 57.5s\n",
      "283:\tlearn: 0.9089847\ttotal: 22.8s\tremaining: 57.4s\n",
      "284:\tlearn: 0.9089370\ttotal: 22.8s\tremaining: 57.3s\n",
      "285:\tlearn: 0.9088876\ttotal: 22.9s\tremaining: 57.2s\n",
      "286:\tlearn: 0.9087939\ttotal: 23s\tremaining: 57.1s\n",
      "287:\tlearn: 0.9087040\ttotal: 23.1s\tremaining: 57s\n",
      "288:\tlearn: 0.9086298\ttotal: 23.1s\tremaining: 56.9s\n",
      "289:\tlearn: 0.9085682\ttotal: 23.2s\tremaining: 56.9s\n",
      "290:\tlearn: 0.9085217\ttotal: 23.3s\tremaining: 56.8s\n",
      "291:\tlearn: 0.9084593\ttotal: 23.4s\tremaining: 56.7s\n",
      "292:\tlearn: 0.9084102\ttotal: 23.5s\tremaining: 56.6s\n",
      "293:\tlearn: 0.9083118\ttotal: 23.5s\tremaining: 56.5s\n",
      "294:\tlearn: 0.9082543\ttotal: 23.6s\tremaining: 56.4s\n",
      "295:\tlearn: 0.9081848\ttotal: 23.7s\tremaining: 56.3s\n",
      "296:\tlearn: 0.9081190\ttotal: 23.8s\tremaining: 56.2s\n",
      "297:\tlearn: 0.9080615\ttotal: 23.8s\tremaining: 56.2s\n",
      "298:\tlearn: 0.9079864\ttotal: 23.9s\tremaining: 56.1s\n",
      "299:\tlearn: 0.9079396\ttotal: 24s\tremaining: 56s\n",
      "300:\tlearn: 0.9078739\ttotal: 24.1s\tremaining: 55.9s\n",
      "301:\tlearn: 0.9078338\ttotal: 24.2s\tremaining: 55.8s\n",
      "302:\tlearn: 0.9077582\ttotal: 24.2s\tremaining: 55.7s\n",
      "303:\tlearn: 0.9076923\ttotal: 24.3s\tremaining: 55.6s\n",
      "304:\tlearn: 0.9076555\ttotal: 24.4s\tremaining: 55.5s\n",
      "305:\tlearn: 0.9076015\ttotal: 24.4s\tremaining: 55.4s\n",
      "306:\tlearn: 0.9075369\ttotal: 24.5s\tremaining: 55.4s\n",
      "307:\tlearn: 0.9074898\ttotal: 24.6s\tremaining: 55.3s\n",
      "308:\tlearn: 0.9074166\ttotal: 24.7s\tremaining: 55.2s\n",
      "309:\tlearn: 0.9073829\ttotal: 24.8s\tremaining: 55.1s\n",
      "310:\tlearn: 0.9073484\ttotal: 24.8s\tremaining: 55s\n",
      "311:\tlearn: 0.9073106\ttotal: 24.9s\tremaining: 54.9s\n",
      "312:\tlearn: 0.9072343\ttotal: 25s\tremaining: 54.8s\n",
      "313:\tlearn: 0.9071695\ttotal: 25.1s\tremaining: 54.8s\n",
      "314:\tlearn: 0.9070894\ttotal: 25.1s\tremaining: 54.7s\n",
      "315:\tlearn: 0.9070298\ttotal: 25.2s\tremaining: 54.6s\n",
      "316:\tlearn: 0.9069862\ttotal: 25.3s\tremaining: 54.5s\n",
      "317:\tlearn: 0.9069604\ttotal: 25.4s\tremaining: 54.4s\n"
     ]
    },
    {
     "name": "stdout",
     "output_type": "stream",
     "text": [
      "318:\tlearn: 0.9069015\ttotal: 25.5s\tremaining: 54.4s\n",
      "319:\tlearn: 0.9068207\ttotal: 25.5s\tremaining: 54.3s\n",
      "320:\tlearn: 0.9067879\ttotal: 25.6s\tremaining: 54.2s\n",
      "321:\tlearn: 0.9067409\ttotal: 25.7s\tremaining: 54.1s\n",
      "322:\tlearn: 0.9066873\ttotal: 25.8s\tremaining: 54s\n",
      "323:\tlearn: 0.9066064\ttotal: 25.9s\tremaining: 53.9s\n",
      "324:\tlearn: 0.9065447\ttotal: 25.9s\tremaining: 53.9s\n",
      "325:\tlearn: 0.9064974\ttotal: 26s\tremaining: 53.8s\n",
      "326:\tlearn: 0.9064151\ttotal: 26.1s\tremaining: 53.7s\n",
      "327:\tlearn: 0.9063855\ttotal: 26.2s\tremaining: 53.6s\n",
      "328:\tlearn: 0.9063183\ttotal: 26.2s\tremaining: 53.5s\n",
      "329:\tlearn: 0.9062584\ttotal: 26.3s\tremaining: 53.4s\n",
      "330:\tlearn: 0.9062251\ttotal: 26.4s\tremaining: 53.3s\n",
      "331:\tlearn: 0.9061430\ttotal: 26.5s\tremaining: 53.3s\n",
      "332:\tlearn: 0.9060631\ttotal: 26.5s\tremaining: 53.2s\n",
      "333:\tlearn: 0.9060113\ttotal: 26.6s\tremaining: 53.1s\n",
      "334:\tlearn: 0.9059345\ttotal: 26.7s\tremaining: 53s\n",
      "335:\tlearn: 0.9058662\ttotal: 26.8s\tremaining: 52.9s\n",
      "336:\tlearn: 0.9057908\ttotal: 26.9s\tremaining: 52.8s\n",
      "337:\tlearn: 0.9057450\ttotal: 26.9s\tremaining: 52.7s\n",
      "338:\tlearn: 0.9056890\ttotal: 27s\tremaining: 52.6s\n",
      "339:\tlearn: 0.9056475\ttotal: 27.1s\tremaining: 52.6s\n",
      "340:\tlearn: 0.9055978\ttotal: 27.1s\tremaining: 52.5s\n",
      "341:\tlearn: 0.9055156\ttotal: 27.2s\tremaining: 52.4s\n",
      "342:\tlearn: 0.9054669\ttotal: 27.3s\tremaining: 52.3s\n",
      "343:\tlearn: 0.9053973\ttotal: 27.4s\tremaining: 52.2s\n",
      "344:\tlearn: 0.9053708\ttotal: 27.5s\tremaining: 52.1s\n",
      "345:\tlearn: 0.9052960\ttotal: 27.5s\tremaining: 52.1s\n",
      "346:\tlearn: 0.9052444\ttotal: 27.6s\tremaining: 52s\n",
      "347:\tlearn: 0.9052009\ttotal: 27.7s\tremaining: 51.9s\n",
      "348:\tlearn: 0.9051270\ttotal: 27.8s\tremaining: 51.8s\n",
      "349:\tlearn: 0.9050745\ttotal: 27.9s\tremaining: 51.7s\n",
      "350:\tlearn: 0.9050241\ttotal: 27.9s\tremaining: 51.7s\n",
      "351:\tlearn: 0.9049563\ttotal: 28s\tremaining: 51.6s\n",
      "352:\tlearn: 0.9048960\ttotal: 28.1s\tremaining: 51.5s\n",
      "353:\tlearn: 0.9048286\ttotal: 28.2s\tremaining: 51.4s\n",
      "354:\tlearn: 0.9047804\ttotal: 28.3s\tremaining: 51.4s\n",
      "355:\tlearn: 0.9047233\ttotal: 28.3s\tremaining: 51.3s\n",
      "356:\tlearn: 0.9046420\ttotal: 28.4s\tremaining: 51.2s\n",
      "357:\tlearn: 0.9045959\ttotal: 28.5s\tremaining: 51.1s\n",
      "358:\tlearn: 0.9045668\ttotal: 28.6s\tremaining: 51s\n",
      "359:\tlearn: 0.9045118\ttotal: 28.6s\tremaining: 50.9s\n",
      "360:\tlearn: 0.9044633\ttotal: 28.7s\tremaining: 50.8s\n",
      "361:\tlearn: 0.9044254\ttotal: 28.8s\tremaining: 50.7s\n",
      "362:\tlearn: 0.9043804\ttotal: 28.9s\tremaining: 50.6s\n",
      "363:\tlearn: 0.9043060\ttotal: 28.9s\tremaining: 50.6s\n",
      "364:\tlearn: 0.9042603\ttotal: 29s\tremaining: 50.5s\n",
      "365:\tlearn: 0.9042034\ttotal: 29.1s\tremaining: 50.4s\n",
      "366:\tlearn: 0.9041810\ttotal: 29.2s\tremaining: 50.3s\n",
      "367:\tlearn: 0.9041334\ttotal: 29.3s\tremaining: 50.3s\n",
      "368:\tlearn: 0.9040706\ttotal: 29.4s\tremaining: 50.2s\n",
      "369:\tlearn: 0.9039811\ttotal: 29.5s\tremaining: 50.2s\n",
      "370:\tlearn: 0.9039273\ttotal: 29.5s\tremaining: 50.1s\n",
      "371:\tlearn: 0.9038866\ttotal: 29.6s\tremaining: 50s\n",
      "372:\tlearn: 0.9038473\ttotal: 29.7s\tremaining: 49.9s\n",
      "373:\tlearn: 0.9037913\ttotal: 29.8s\tremaining: 49.9s\n",
      "374:\tlearn: 0.9037120\ttotal: 29.9s\tremaining: 49.8s\n",
      "375:\tlearn: 0.9036476\ttotal: 30s\tremaining: 49.7s\n",
      "376:\tlearn: 0.9035927\ttotal: 30s\tremaining: 49.6s\n",
      "377:\tlearn: 0.9035481\ttotal: 30.1s\tremaining: 49.6s\n",
      "378:\tlearn: 0.9034886\ttotal: 30.2s\tremaining: 49.5s\n",
      "379:\tlearn: 0.9034221\ttotal: 30.3s\tremaining: 49.4s\n",
      "380:\tlearn: 0.9033824\ttotal: 30.4s\tremaining: 49.4s\n",
      "381:\tlearn: 0.9033141\ttotal: 30.5s\tremaining: 49.3s\n",
      "382:\tlearn: 0.9032823\ttotal: 30.5s\tremaining: 49.2s\n",
      "383:\tlearn: 0.9032141\ttotal: 30.6s\tremaining: 49.1s\n",
      "384:\tlearn: 0.9031078\ttotal: 30.7s\tremaining: 49.1s\n",
      "385:\tlearn: 0.9030542\ttotal: 30.8s\tremaining: 49s\n",
      "386:\tlearn: 0.9029992\ttotal: 30.9s\tremaining: 48.9s\n",
      "387:\tlearn: 0.9029303\ttotal: 31s\tremaining: 48.9s\n",
      "388:\tlearn: 0.9028869\ttotal: 31.1s\tremaining: 48.8s\n",
      "389:\tlearn: 0.9028372\ttotal: 31.2s\tremaining: 48.8s\n",
      "390:\tlearn: 0.9027878\ttotal: 31.3s\tremaining: 48.7s\n",
      "391:\tlearn: 0.9027368\ttotal: 31.3s\tremaining: 48.6s\n",
      "392:\tlearn: 0.9026750\ttotal: 31.4s\tremaining: 48.6s\n",
      "393:\tlearn: 0.9026416\ttotal: 31.5s\tremaining: 48.5s\n",
      "394:\tlearn: 0.9025854\ttotal: 31.6s\tremaining: 48.4s\n",
      "395:\tlearn: 0.9025352\ttotal: 31.7s\tremaining: 48.3s\n",
      "396:\tlearn: 0.9024881\ttotal: 31.8s\tremaining: 48.3s\n",
      "397:\tlearn: 0.9024345\ttotal: 31.9s\tremaining: 48.2s\n",
      "398:\tlearn: 0.9023764\ttotal: 32s\tremaining: 48.2s\n",
      "399:\tlearn: 0.9023224\ttotal: 32s\tremaining: 48.1s\n",
      "400:\tlearn: 0.9022519\ttotal: 32.1s\tremaining: 48s\n",
      "401:\tlearn: 0.9021566\ttotal: 32.2s\tremaining: 47.9s\n",
      "402:\tlearn: 0.9021184\ttotal: 32.3s\tremaining: 47.8s\n",
      "403:\tlearn: 0.9020678\ttotal: 32.4s\tremaining: 47.7s\n",
      "404:\tlearn: 0.9020089\ttotal: 32.4s\tremaining: 47.7s\n",
      "405:\tlearn: 0.9019580\ttotal: 32.5s\tremaining: 47.6s\n",
      "406:\tlearn: 0.9018878\ttotal: 32.6s\tremaining: 47.5s\n",
      "407:\tlearn: 0.9018530\ttotal: 32.7s\tremaining: 47.4s\n",
      "408:\tlearn: 0.9017973\ttotal: 32.8s\tremaining: 47.4s\n",
      "409:\tlearn: 0.9017669\ttotal: 32.9s\tremaining: 47.3s\n",
      "410:\tlearn: 0.9017056\ttotal: 32.9s\tremaining: 47.2s\n",
      "411:\tlearn: 0.9016436\ttotal: 33s\tremaining: 47.1s\n",
      "412:\tlearn: 0.9016190\ttotal: 33.1s\tremaining: 47s\n",
      "413:\tlearn: 0.9015775\ttotal: 33.1s\tremaining: 46.9s\n",
      "414:\tlearn: 0.9015221\ttotal: 33.2s\tremaining: 46.8s\n",
      "415:\tlearn: 0.9014534\ttotal: 33.3s\tremaining: 46.7s\n",
      "416:\tlearn: 0.9014005\ttotal: 33.4s\tremaining: 46.6s\n",
      "417:\tlearn: 0.9013768\ttotal: 33.4s\tremaining: 46.6s\n",
      "418:\tlearn: 0.9013435\ttotal: 33.5s\tremaining: 46.5s\n",
      "419:\tlearn: 0.9012503\ttotal: 33.6s\tremaining: 46.4s\n",
      "420:\tlearn: 0.9011798\ttotal: 33.7s\tremaining: 46.3s\n",
      "421:\tlearn: 0.9011195\ttotal: 33.7s\tremaining: 46.2s\n",
      "422:\tlearn: 0.9010704\ttotal: 33.8s\tremaining: 46.1s\n",
      "423:\tlearn: 0.9009985\ttotal: 33.9s\tremaining: 46s\n",
      "424:\tlearn: 0.9009414\ttotal: 34s\tremaining: 45.9s\n",
      "425:\tlearn: 0.9008754\ttotal: 34s\tremaining: 45.9s\n",
      "426:\tlearn: 0.9008345\ttotal: 34.1s\tremaining: 45.8s\n",
      "427:\tlearn: 0.9007935\ttotal: 34.2s\tremaining: 45.7s\n",
      "428:\tlearn: 0.9007574\ttotal: 34.3s\tremaining: 45.6s\n",
      "429:\tlearn: 0.9006950\ttotal: 34.3s\tremaining: 45.5s\n",
      "430:\tlearn: 0.9006194\ttotal: 34.4s\tremaining: 45.4s\n",
      "431:\tlearn: 0.9005577\ttotal: 34.5s\tremaining: 45.3s\n",
      "432:\tlearn: 0.9004984\ttotal: 34.6s\tremaining: 45.3s\n",
      "433:\tlearn: 0.9004021\ttotal: 34.6s\tremaining: 45.2s\n",
      "434:\tlearn: 0.9003313\ttotal: 34.7s\tremaining: 45.1s\n",
      "435:\tlearn: 0.9002804\ttotal: 34.8s\tremaining: 45s\n",
      "436:\tlearn: 0.9002271\ttotal: 34.9s\tremaining: 44.9s\n",
      "437:\tlearn: 0.9001712\ttotal: 35s\tremaining: 44.9s\n",
      "438:\tlearn: 0.9001252\ttotal: 35s\tremaining: 44.8s\n",
      "439:\tlearn: 0.9000659\ttotal: 35.1s\tremaining: 44.7s\n",
      "440:\tlearn: 0.9000034\ttotal: 35.2s\tremaining: 44.6s\n",
      "441:\tlearn: 0.8999752\ttotal: 35.3s\tremaining: 44.5s\n",
      "442:\tlearn: 0.8998970\ttotal: 35.3s\tremaining: 44.4s\n",
      "443:\tlearn: 0.8998664\ttotal: 35.4s\tremaining: 44.3s\n",
      "444:\tlearn: 0.8998339\ttotal: 35.5s\tremaining: 44.2s\n",
      "445:\tlearn: 0.8997809\ttotal: 35.6s\tremaining: 44.2s\n",
      "446:\tlearn: 0.8997319\ttotal: 35.6s\tremaining: 44.1s\n",
      "447:\tlearn: 0.8996985\ttotal: 35.7s\tremaining: 44s\n",
      "448:\tlearn: 0.8996604\ttotal: 35.8s\tremaining: 43.9s\n",
      "449:\tlearn: 0.8996132\ttotal: 35.9s\tremaining: 43.8s\n",
      "450:\tlearn: 0.8995615\ttotal: 35.9s\tremaining: 43.8s\n",
      "451:\tlearn: 0.8995190\ttotal: 36s\tremaining: 43.7s\n",
      "452:\tlearn: 0.8994787\ttotal: 36.1s\tremaining: 43.6s\n",
      "453:\tlearn: 0.8994242\ttotal: 36.2s\tremaining: 43.5s\n",
      "454:\tlearn: 0.8993879\ttotal: 36.2s\tremaining: 43.4s\n",
      "455:\tlearn: 0.8993258\ttotal: 36.3s\tremaining: 43.3s\n",
      "456:\tlearn: 0.8992903\ttotal: 36.4s\tremaining: 43.2s\n",
      "457:\tlearn: 0.8992287\ttotal: 36.5s\tremaining: 43.1s\n",
      "458:\tlearn: 0.8991792\ttotal: 36.5s\tremaining: 43s\n",
      "459:\tlearn: 0.8991060\ttotal: 36.6s\tremaining: 43s\n",
      "460:\tlearn: 0.8990532\ttotal: 36.7s\tremaining: 42.9s\n",
      "461:\tlearn: 0.8990183\ttotal: 36.7s\tremaining: 42.8s\n",
      "462:\tlearn: 0.8989660\ttotal: 36.8s\tremaining: 42.7s\n",
      "463:\tlearn: 0.8989276\ttotal: 36.9s\tremaining: 42.6s\n",
      "464:\tlearn: 0.8988696\ttotal: 37s\tremaining: 42.5s\n",
      "465:\tlearn: 0.8988098\ttotal: 37s\tremaining: 42.5s\n",
      "466:\tlearn: 0.8987797\ttotal: 37.1s\tremaining: 42.4s\n",
      "467:\tlearn: 0.8987260\ttotal: 37.2s\tremaining: 42.3s\n",
      "468:\tlearn: 0.8986847\ttotal: 37.3s\tremaining: 42.2s\n",
      "469:\tlearn: 0.8986279\ttotal: 37.4s\tremaining: 42.1s\n",
      "470:\tlearn: 0.8985871\ttotal: 37.5s\tremaining: 42.1s\n",
      "471:\tlearn: 0.8985340\ttotal: 37.5s\tremaining: 42s\n",
      "472:\tlearn: 0.8984465\ttotal: 37.6s\tremaining: 41.9s\n",
      "473:\tlearn: 0.8983814\ttotal: 37.7s\tremaining: 41.8s\n",
      "474:\tlearn: 0.8983462\ttotal: 37.8s\tremaining: 41.7s\n",
      "475:\tlearn: 0.8982825\ttotal: 37.8s\tremaining: 41.6s\n",
      "476:\tlearn: 0.8982144\ttotal: 37.9s\tremaining: 41.6s\n"
     ]
    },
    {
     "name": "stdout",
     "output_type": "stream",
     "text": [
      "477:\tlearn: 0.8981672\ttotal: 38s\tremaining: 41.5s\n",
      "478:\tlearn: 0.8981133\ttotal: 38s\tremaining: 41.4s\n",
      "479:\tlearn: 0.8980792\ttotal: 38.1s\tremaining: 41.3s\n",
      "480:\tlearn: 0.8980409\ttotal: 38.2s\tremaining: 41.2s\n",
      "481:\tlearn: 0.8979905\ttotal: 38.3s\tremaining: 41.1s\n",
      "482:\tlearn: 0.8979366\ttotal: 38.3s\tremaining: 41s\n",
      "483:\tlearn: 0.8979043\ttotal: 38.4s\tremaining: 41s\n",
      "484:\tlearn: 0.8978211\ttotal: 38.5s\tremaining: 40.9s\n",
      "485:\tlearn: 0.8977719\ttotal: 38.6s\tremaining: 40.8s\n",
      "486:\tlearn: 0.8977212\ttotal: 38.7s\tremaining: 40.7s\n",
      "487:\tlearn: 0.8976893\ttotal: 38.7s\tremaining: 40.6s\n",
      "488:\tlearn: 0.8976131\ttotal: 38.8s\tremaining: 40.6s\n",
      "489:\tlearn: 0.8975649\ttotal: 38.9s\tremaining: 40.5s\n",
      "490:\tlearn: 0.8975145\ttotal: 39s\tremaining: 40.4s\n",
      "491:\tlearn: 0.8974435\ttotal: 39s\tremaining: 40.3s\n",
      "492:\tlearn: 0.8973865\ttotal: 39.1s\tremaining: 40.2s\n",
      "493:\tlearn: 0.8973235\ttotal: 39.2s\tremaining: 40.2s\n",
      "494:\tlearn: 0.8973000\ttotal: 39.3s\tremaining: 40.1s\n",
      "495:\tlearn: 0.8972656\ttotal: 39.3s\tremaining: 40s\n",
      "496:\tlearn: 0.8972193\ttotal: 39.4s\tremaining: 39.9s\n",
      "497:\tlearn: 0.8971771\ttotal: 39.5s\tremaining: 39.8s\n",
      "498:\tlearn: 0.8971575\ttotal: 39.6s\tremaining: 39.7s\n",
      "499:\tlearn: 0.8971108\ttotal: 39.6s\tremaining: 39.6s\n",
      "500:\tlearn: 0.8970491\ttotal: 39.7s\tremaining: 39.5s\n",
      "501:\tlearn: 0.8970140\ttotal: 39.8s\tremaining: 39.5s\n",
      "502:\tlearn: 0.8969637\ttotal: 39.9s\tremaining: 39.4s\n",
      "503:\tlearn: 0.8969179\ttotal: 39.9s\tremaining: 39.3s\n",
      "504:\tlearn: 0.8968686\ttotal: 40s\tremaining: 39.2s\n",
      "505:\tlearn: 0.8968073\ttotal: 40.1s\tremaining: 39.1s\n",
      "506:\tlearn: 0.8967433\ttotal: 40.2s\tremaining: 39.1s\n",
      "507:\tlearn: 0.8966813\ttotal: 40.2s\tremaining: 39s\n",
      "508:\tlearn: 0.8966358\ttotal: 40.3s\tremaining: 38.9s\n",
      "509:\tlearn: 0.8965921\ttotal: 40.4s\tremaining: 38.8s\n",
      "510:\tlearn: 0.8965671\ttotal: 40.5s\tremaining: 38.7s\n",
      "511:\tlearn: 0.8964787\ttotal: 40.5s\tremaining: 38.6s\n",
      "512:\tlearn: 0.8964208\ttotal: 40.6s\tremaining: 38.6s\n",
      "513:\tlearn: 0.8963774\ttotal: 40.7s\tremaining: 38.5s\n",
      "514:\tlearn: 0.8963431\ttotal: 40.8s\tremaining: 38.4s\n",
      "515:\tlearn: 0.8962849\ttotal: 40.8s\tremaining: 38.3s\n",
      "516:\tlearn: 0.8962376\ttotal: 40.9s\tremaining: 38.2s\n",
      "517:\tlearn: 0.8961886\ttotal: 41s\tremaining: 38.1s\n",
      "518:\tlearn: 0.8961199\ttotal: 41.1s\tremaining: 38.1s\n",
      "519:\tlearn: 0.8960881\ttotal: 41.1s\tremaining: 38s\n",
      "520:\tlearn: 0.8960416\ttotal: 41.2s\tremaining: 37.9s\n",
      "521:\tlearn: 0.8959705\ttotal: 41.3s\tremaining: 37.8s\n",
      "522:\tlearn: 0.8959456\ttotal: 41.4s\tremaining: 37.7s\n",
      "523:\tlearn: 0.8958860\ttotal: 41.4s\tremaining: 37.7s\n",
      "524:\tlearn: 0.8958531\ttotal: 41.5s\tremaining: 37.6s\n",
      "525:\tlearn: 0.8957961\ttotal: 41.6s\tremaining: 37.5s\n",
      "526:\tlearn: 0.8957533\ttotal: 41.7s\tremaining: 37.4s\n",
      "527:\tlearn: 0.8957094\ttotal: 41.7s\tremaining: 37.3s\n",
      "528:\tlearn: 0.8956855\ttotal: 41.8s\tremaining: 37.2s\n",
      "529:\tlearn: 0.8956539\ttotal: 41.9s\tremaining: 37.1s\n",
      "530:\tlearn: 0.8956093\ttotal: 42s\tremaining: 37.1s\n",
      "531:\tlearn: 0.8955702\ttotal: 42s\tremaining: 37s\n",
      "532:\tlearn: 0.8955079\ttotal: 42.1s\tremaining: 36.9s\n",
      "533:\tlearn: 0.8954422\ttotal: 42.2s\tremaining: 36.8s\n",
      "534:\tlearn: 0.8954040\ttotal: 42.3s\tremaining: 36.7s\n",
      "535:\tlearn: 0.8953610\ttotal: 42.3s\tremaining: 36.7s\n",
      "536:\tlearn: 0.8953403\ttotal: 42.4s\tremaining: 36.6s\n",
      "537:\tlearn: 0.8953075\ttotal: 42.5s\tremaining: 36.5s\n",
      "538:\tlearn: 0.8952685\ttotal: 42.6s\tremaining: 36.4s\n",
      "539:\tlearn: 0.8952326\ttotal: 42.7s\tremaining: 36.3s\n",
      "540:\tlearn: 0.8951846\ttotal: 42.7s\tremaining: 36.3s\n",
      "541:\tlearn: 0.8951393\ttotal: 42.8s\tremaining: 36.2s\n",
      "542:\tlearn: 0.8950765\ttotal: 42.9s\tremaining: 36.1s\n",
      "543:\tlearn: 0.8950257\ttotal: 43s\tremaining: 36s\n",
      "544:\tlearn: 0.8949484\ttotal: 43s\tremaining: 35.9s\n",
      "545:\tlearn: 0.8949124\ttotal: 43.1s\tremaining: 35.9s\n",
      "546:\tlearn: 0.8948526\ttotal: 43.2s\tremaining: 35.8s\n",
      "547:\tlearn: 0.8947734\ttotal: 43.3s\tremaining: 35.7s\n",
      "548:\tlearn: 0.8947049\ttotal: 43.4s\tremaining: 35.6s\n",
      "549:\tlearn: 0.8946799\ttotal: 43.4s\tremaining: 35.5s\n",
      "550:\tlearn: 0.8946427\ttotal: 43.5s\tremaining: 35.5s\n",
      "551:\tlearn: 0.8945847\ttotal: 43.6s\tremaining: 35.4s\n",
      "552:\tlearn: 0.8945377\ttotal: 43.7s\tremaining: 35.3s\n",
      "553:\tlearn: 0.8944742\ttotal: 43.7s\tremaining: 35.2s\n",
      "554:\tlearn: 0.8944379\ttotal: 43.8s\tremaining: 35.1s\n",
      "555:\tlearn: 0.8943780\ttotal: 43.9s\tremaining: 35s\n",
      "556:\tlearn: 0.8943311\ttotal: 44s\tremaining: 35s\n",
      "557:\tlearn: 0.8942924\ttotal: 44s\tremaining: 34.9s\n",
      "558:\tlearn: 0.8942409\ttotal: 44.1s\tremaining: 34.8s\n",
      "559:\tlearn: 0.8941929\ttotal: 44.2s\tremaining: 34.7s\n",
      "560:\tlearn: 0.8941425\ttotal: 44.3s\tremaining: 34.6s\n",
      "561:\tlearn: 0.8941095\ttotal: 44.4s\tremaining: 34.6s\n",
      "562:\tlearn: 0.8940463\ttotal: 44.4s\tremaining: 34.5s\n",
      "563:\tlearn: 0.8940111\ttotal: 44.5s\tremaining: 34.4s\n",
      "564:\tlearn: 0.8939743\ttotal: 44.6s\tremaining: 34.3s\n",
      "565:\tlearn: 0.8939346\ttotal: 44.7s\tremaining: 34.3s\n",
      "566:\tlearn: 0.8938968\ttotal: 44.7s\tremaining: 34.2s\n",
      "567:\tlearn: 0.8938510\ttotal: 44.8s\tremaining: 34.1s\n",
      "568:\tlearn: 0.8937928\ttotal: 44.9s\tremaining: 34s\n",
      "569:\tlearn: 0.8937297\ttotal: 45s\tremaining: 33.9s\n",
      "570:\tlearn: 0.8936660\ttotal: 45.1s\tremaining: 33.9s\n",
      "571:\tlearn: 0.8935737\ttotal: 45.1s\tremaining: 33.8s\n",
      "572:\tlearn: 0.8935355\ttotal: 45.2s\tremaining: 33.7s\n",
      "573:\tlearn: 0.8934990\ttotal: 45.3s\tremaining: 33.6s\n",
      "574:\tlearn: 0.8934570\ttotal: 45.4s\tremaining: 33.5s\n",
      "575:\tlearn: 0.8934072\ttotal: 45.4s\tremaining: 33.4s\n",
      "576:\tlearn: 0.8933672\ttotal: 45.5s\tremaining: 33.4s\n",
      "577:\tlearn: 0.8933316\ttotal: 45.6s\tremaining: 33.3s\n",
      "578:\tlearn: 0.8932790\ttotal: 45.7s\tremaining: 33.2s\n",
      "579:\tlearn: 0.8932388\ttotal: 45.7s\tremaining: 33.1s\n",
      "580:\tlearn: 0.8931862\ttotal: 45.8s\tremaining: 33s\n",
      "581:\tlearn: 0.8931221\ttotal: 45.9s\tremaining: 33s\n",
      "582:\tlearn: 0.8930779\ttotal: 46s\tremaining: 32.9s\n",
      "583:\tlearn: 0.8930430\ttotal: 46s\tremaining: 32.8s\n",
      "584:\tlearn: 0.8929976\ttotal: 46.1s\tremaining: 32.7s\n",
      "585:\tlearn: 0.8929529\ttotal: 46.2s\tremaining: 32.6s\n",
      "586:\tlearn: 0.8929015\ttotal: 46.3s\tremaining: 32.5s\n",
      "587:\tlearn: 0.8928427\ttotal: 46.3s\tremaining: 32.5s\n",
      "588:\tlearn: 0.8927899\ttotal: 46.4s\tremaining: 32.4s\n",
      "589:\tlearn: 0.8927368\ttotal: 46.5s\tremaining: 32.3s\n",
      "590:\tlearn: 0.8926811\ttotal: 46.6s\tremaining: 32.2s\n",
      "591:\tlearn: 0.8926267\ttotal: 46.6s\tremaining: 32.1s\n",
      "592:\tlearn: 0.8925896\ttotal: 46.7s\tremaining: 32.1s\n",
      "593:\tlearn: 0.8925281\ttotal: 46.8s\tremaining: 32s\n",
      "594:\tlearn: 0.8924891\ttotal: 46.9s\tremaining: 31.9s\n",
      "595:\tlearn: 0.8924470\ttotal: 47s\tremaining: 31.8s\n",
      "596:\tlearn: 0.8923999\ttotal: 47s\tremaining: 31.8s\n",
      "597:\tlearn: 0.8923519\ttotal: 47.1s\tremaining: 31.7s\n",
      "598:\tlearn: 0.8923190\ttotal: 47.2s\tremaining: 31.6s\n",
      "599:\tlearn: 0.8922798\ttotal: 47.3s\tremaining: 31.5s\n",
      "600:\tlearn: 0.8922340\ttotal: 47.4s\tremaining: 31.4s\n",
      "601:\tlearn: 0.8921802\ttotal: 47.4s\tremaining: 31.4s\n",
      "602:\tlearn: 0.8921550\ttotal: 47.5s\tremaining: 31.3s\n",
      "603:\tlearn: 0.8921095\ttotal: 47.6s\tremaining: 31.2s\n",
      "604:\tlearn: 0.8920652\ttotal: 47.7s\tremaining: 31.1s\n",
      "605:\tlearn: 0.8920200\ttotal: 47.7s\tremaining: 31s\n",
      "606:\tlearn: 0.8919639\ttotal: 47.8s\tremaining: 31s\n",
      "607:\tlearn: 0.8919285\ttotal: 47.9s\tremaining: 30.9s\n",
      "608:\tlearn: 0.8918948\ttotal: 48s\tremaining: 30.8s\n",
      "609:\tlearn: 0.8918188\ttotal: 48s\tremaining: 30.7s\n",
      "610:\tlearn: 0.8917722\ttotal: 48.1s\tremaining: 30.6s\n",
      "611:\tlearn: 0.8917313\ttotal: 48.2s\tremaining: 30.6s\n",
      "612:\tlearn: 0.8916711\ttotal: 48.3s\tremaining: 30.5s\n",
      "613:\tlearn: 0.8916286\ttotal: 48.3s\tremaining: 30.4s\n",
      "614:\tlearn: 0.8916030\ttotal: 48.4s\tremaining: 30.3s\n",
      "615:\tlearn: 0.8915780\ttotal: 48.5s\tremaining: 30.2s\n",
      "616:\tlearn: 0.8915172\ttotal: 48.6s\tremaining: 30.1s\n",
      "617:\tlearn: 0.8914654\ttotal: 48.7s\tremaining: 30.1s\n",
      "618:\tlearn: 0.8914186\ttotal: 48.7s\tremaining: 30s\n",
      "619:\tlearn: 0.8913729\ttotal: 48.8s\tremaining: 29.9s\n",
      "620:\tlearn: 0.8913396\ttotal: 48.9s\tremaining: 29.8s\n",
      "621:\tlearn: 0.8912799\ttotal: 49s\tremaining: 29.8s\n",
      "622:\tlearn: 0.8912435\ttotal: 49s\tremaining: 29.7s\n",
      "623:\tlearn: 0.8911948\ttotal: 49.1s\tremaining: 29.6s\n",
      "624:\tlearn: 0.8911560\ttotal: 49.2s\tremaining: 29.5s\n",
      "625:\tlearn: 0.8911264\ttotal: 49.3s\tremaining: 29.4s\n",
      "626:\tlearn: 0.8910874\ttotal: 49.3s\tremaining: 29.4s\n",
      "627:\tlearn: 0.8910416\ttotal: 49.4s\tremaining: 29.3s\n",
      "628:\tlearn: 0.8909846\ttotal: 49.5s\tremaining: 29.2s\n",
      "629:\tlearn: 0.8909563\ttotal: 49.6s\tremaining: 29.1s\n",
      "630:\tlearn: 0.8909064\ttotal: 49.6s\tremaining: 29s\n",
      "631:\tlearn: 0.8908197\ttotal: 49.7s\tremaining: 29s\n",
      "632:\tlearn: 0.8907645\ttotal: 49.8s\tremaining: 28.9s\n",
      "633:\tlearn: 0.8907431\ttotal: 49.9s\tremaining: 28.8s\n",
      "634:\tlearn: 0.8906809\ttotal: 49.9s\tremaining: 28.7s\n",
      "635:\tlearn: 0.8906193\ttotal: 50s\tremaining: 28.6s\n",
      "636:\tlearn: 0.8905840\ttotal: 50.1s\tremaining: 28.6s\n",
      "637:\tlearn: 0.8905295\ttotal: 50.2s\tremaining: 28.5s\n"
     ]
    },
    {
     "name": "stdout",
     "output_type": "stream",
     "text": [
      "638:\tlearn: 0.8904893\ttotal: 50.3s\tremaining: 28.4s\n",
      "639:\tlearn: 0.8904516\ttotal: 50.3s\tremaining: 28.3s\n",
      "640:\tlearn: 0.8903828\ttotal: 50.4s\tremaining: 28.2s\n",
      "641:\tlearn: 0.8903259\ttotal: 50.5s\tremaining: 28.2s\n",
      "642:\tlearn: 0.8902819\ttotal: 50.6s\tremaining: 28.1s\n",
      "643:\tlearn: 0.8902573\ttotal: 50.6s\tremaining: 28s\n",
      "644:\tlearn: 0.8902141\ttotal: 50.7s\tremaining: 27.9s\n",
      "645:\tlearn: 0.8901568\ttotal: 50.8s\tremaining: 27.8s\n",
      "646:\tlearn: 0.8901046\ttotal: 50.9s\tremaining: 27.8s\n",
      "647:\tlearn: 0.8900666\ttotal: 51s\tremaining: 27.7s\n",
      "648:\tlearn: 0.8900172\ttotal: 51.1s\tremaining: 27.6s\n",
      "649:\tlearn: 0.8899797\ttotal: 51.1s\tremaining: 27.5s\n",
      "650:\tlearn: 0.8899326\ttotal: 51.2s\tremaining: 27.5s\n",
      "651:\tlearn: 0.8898905\ttotal: 51.3s\tremaining: 27.4s\n",
      "652:\tlearn: 0.8898449\ttotal: 51.4s\tremaining: 27.3s\n",
      "653:\tlearn: 0.8897855\ttotal: 51.4s\tremaining: 27.2s\n",
      "654:\tlearn: 0.8897304\ttotal: 51.5s\tremaining: 27.1s\n",
      "655:\tlearn: 0.8896744\ttotal: 51.6s\tremaining: 27.1s\n",
      "656:\tlearn: 0.8896349\ttotal: 51.7s\tremaining: 27s\n",
      "657:\tlearn: 0.8895974\ttotal: 51.8s\tremaining: 26.9s\n",
      "658:\tlearn: 0.8895772\ttotal: 51.8s\tremaining: 26.8s\n",
      "659:\tlearn: 0.8895428\ttotal: 51.9s\tremaining: 26.7s\n",
      "660:\tlearn: 0.8895214\ttotal: 52s\tremaining: 26.7s\n",
      "661:\tlearn: 0.8894899\ttotal: 52.1s\tremaining: 26.6s\n",
      "662:\tlearn: 0.8894197\ttotal: 52.2s\tremaining: 26.5s\n",
      "663:\tlearn: 0.8893836\ttotal: 52.2s\tremaining: 26.4s\n",
      "664:\tlearn: 0.8893442\ttotal: 52.3s\tremaining: 26.4s\n",
      "665:\tlearn: 0.8893086\ttotal: 52.4s\tremaining: 26.3s\n",
      "666:\tlearn: 0.8892572\ttotal: 52.5s\tremaining: 26.2s\n",
      "667:\tlearn: 0.8892404\ttotal: 52.6s\tremaining: 26.1s\n",
      "668:\tlearn: 0.8891836\ttotal: 52.6s\tremaining: 26s\n",
      "669:\tlearn: 0.8891332\ttotal: 52.7s\tremaining: 26s\n",
      "670:\tlearn: 0.8890842\ttotal: 52.8s\tremaining: 25.9s\n",
      "671:\tlearn: 0.8890403\ttotal: 52.9s\tremaining: 25.8s\n",
      "672:\tlearn: 0.8890062\ttotal: 52.9s\tremaining: 25.7s\n",
      "673:\tlearn: 0.8889687\ttotal: 53s\tremaining: 25.6s\n",
      "674:\tlearn: 0.8889337\ttotal: 53.1s\tremaining: 25.6s\n",
      "675:\tlearn: 0.8888956\ttotal: 53.2s\tremaining: 25.5s\n",
      "676:\tlearn: 0.8888560\ttotal: 53.3s\tremaining: 25.4s\n",
      "677:\tlearn: 0.8888115\ttotal: 53.4s\tremaining: 25.3s\n",
      "678:\tlearn: 0.8887712\ttotal: 53.4s\tremaining: 25.3s\n",
      "679:\tlearn: 0.8887113\ttotal: 53.5s\tremaining: 25.2s\n",
      "680:\tlearn: 0.8886642\ttotal: 53.6s\tremaining: 25.1s\n",
      "681:\tlearn: 0.8886096\ttotal: 53.7s\tremaining: 25s\n",
      "682:\tlearn: 0.8885679\ttotal: 53.8s\tremaining: 24.9s\n",
      "683:\tlearn: 0.8885254\ttotal: 53.8s\tremaining: 24.9s\n",
      "684:\tlearn: 0.8884775\ttotal: 53.9s\tremaining: 24.8s\n",
      "685:\tlearn: 0.8884285\ttotal: 54s\tremaining: 24.7s\n",
      "686:\tlearn: 0.8883684\ttotal: 54.1s\tremaining: 24.6s\n",
      "687:\tlearn: 0.8883394\ttotal: 54.2s\tremaining: 24.6s\n",
      "688:\tlearn: 0.8883089\ttotal: 54.2s\tremaining: 24.5s\n",
      "689:\tlearn: 0.8882759\ttotal: 54.3s\tremaining: 24.4s\n",
      "690:\tlearn: 0.8882319\ttotal: 54.4s\tremaining: 24.3s\n",
      "691:\tlearn: 0.8881717\ttotal: 54.5s\tremaining: 24.3s\n",
      "692:\tlearn: 0.8881210\ttotal: 54.6s\tremaining: 24.2s\n",
      "693:\tlearn: 0.8880732\ttotal: 54.6s\tremaining: 24.1s\n",
      "694:\tlearn: 0.8880349\ttotal: 54.7s\tremaining: 24s\n",
      "695:\tlearn: 0.8879678\ttotal: 54.8s\tremaining: 23.9s\n",
      "696:\tlearn: 0.8879153\ttotal: 54.9s\tremaining: 23.9s\n",
      "697:\tlearn: 0.8878511\ttotal: 55s\tremaining: 23.8s\n",
      "698:\tlearn: 0.8878271\ttotal: 55.1s\tremaining: 23.7s\n",
      "699:\tlearn: 0.8878053\ttotal: 55.1s\tremaining: 23.6s\n",
      "700:\tlearn: 0.8877633\ttotal: 55.2s\tremaining: 23.5s\n",
      "701:\tlearn: 0.8877361\ttotal: 55.3s\tremaining: 23.5s\n",
      "702:\tlearn: 0.8877077\ttotal: 55.4s\tremaining: 23.4s\n",
      "703:\tlearn: 0.8876821\ttotal: 55.4s\tremaining: 23.3s\n",
      "704:\tlearn: 0.8876225\ttotal: 55.5s\tremaining: 23.2s\n",
      "705:\tlearn: 0.8875929\ttotal: 55.6s\tremaining: 23.1s\n",
      "706:\tlearn: 0.8875562\ttotal: 55.7s\tremaining: 23.1s\n",
      "707:\tlearn: 0.8875045\ttotal: 55.7s\tremaining: 23s\n",
      "708:\tlearn: 0.8874667\ttotal: 55.8s\tremaining: 22.9s\n",
      "709:\tlearn: 0.8874152\ttotal: 55.9s\tremaining: 22.8s\n",
      "710:\tlearn: 0.8873429\ttotal: 56s\tremaining: 22.8s\n",
      "711:\tlearn: 0.8872951\ttotal: 56.1s\tremaining: 22.7s\n",
      "712:\tlearn: 0.8872373\ttotal: 56.1s\tremaining: 22.6s\n",
      "713:\tlearn: 0.8871995\ttotal: 56.2s\tremaining: 22.5s\n",
      "714:\tlearn: 0.8871670\ttotal: 56.3s\tremaining: 22.4s\n",
      "715:\tlearn: 0.8871219\ttotal: 56.4s\tremaining: 22.4s\n",
      "716:\tlearn: 0.8870828\ttotal: 56.5s\tremaining: 22.3s\n",
      "717:\tlearn: 0.8870037\ttotal: 56.5s\tremaining: 22.2s\n",
      "718:\tlearn: 0.8869574\ttotal: 56.6s\tremaining: 22.1s\n",
      "719:\tlearn: 0.8869089\ttotal: 56.7s\tremaining: 22.1s\n",
      "720:\tlearn: 0.8868837\ttotal: 56.8s\tremaining: 22s\n",
      "721:\tlearn: 0.8868380\ttotal: 56.9s\tremaining: 21.9s\n",
      "722:\tlearn: 0.8867906\ttotal: 56.9s\tremaining: 21.8s\n",
      "723:\tlearn: 0.8867453\ttotal: 57s\tremaining: 21.7s\n",
      "724:\tlearn: 0.8866934\ttotal: 57.1s\tremaining: 21.7s\n",
      "725:\tlearn: 0.8866451\ttotal: 57.2s\tremaining: 21.6s\n",
      "726:\tlearn: 0.8865963\ttotal: 57.3s\tremaining: 21.5s\n",
      "727:\tlearn: 0.8865562\ttotal: 57.3s\tremaining: 21.4s\n",
      "728:\tlearn: 0.8865076\ttotal: 57.4s\tremaining: 21.3s\n",
      "729:\tlearn: 0.8864748\ttotal: 57.5s\tremaining: 21.3s\n",
      "730:\tlearn: 0.8864344\ttotal: 57.6s\tremaining: 21.2s\n",
      "731:\tlearn: 0.8864200\ttotal: 57.7s\tremaining: 21.1s\n",
      "732:\tlearn: 0.8863805\ttotal: 57.7s\tremaining: 21s\n",
      "733:\tlearn: 0.8863476\ttotal: 57.8s\tremaining: 20.9s\n",
      "734:\tlearn: 0.8863104\ttotal: 57.9s\tremaining: 20.9s\n",
      "735:\tlearn: 0.8862793\ttotal: 57.9s\tremaining: 20.8s\n",
      "736:\tlearn: 0.8862175\ttotal: 58s\tremaining: 20.7s\n",
      "737:\tlearn: 0.8861651\ttotal: 58.1s\tremaining: 20.6s\n",
      "738:\tlearn: 0.8861191\ttotal: 58.2s\tremaining: 20.6s\n",
      "739:\tlearn: 0.8860898\ttotal: 58.3s\tremaining: 20.5s\n",
      "740:\tlearn: 0.8860307\ttotal: 58.3s\tremaining: 20.4s\n",
      "741:\tlearn: 0.8859607\ttotal: 58.4s\tremaining: 20.3s\n",
      "742:\tlearn: 0.8859427\ttotal: 58.5s\tremaining: 20.2s\n",
      "743:\tlearn: 0.8858942\ttotal: 58.6s\tremaining: 20.2s\n",
      "744:\tlearn: 0.8858453\ttotal: 58.7s\tremaining: 20.1s\n",
      "745:\tlearn: 0.8858083\ttotal: 58.7s\tremaining: 20s\n",
      "746:\tlearn: 0.8857575\ttotal: 58.8s\tremaining: 19.9s\n",
      "747:\tlearn: 0.8857054\ttotal: 58.9s\tremaining: 19.8s\n",
      "748:\tlearn: 0.8856552\ttotal: 59s\tremaining: 19.8s\n",
      "749:\tlearn: 0.8855769\ttotal: 59s\tremaining: 19.7s\n",
      "750:\tlearn: 0.8855422\ttotal: 59.1s\tremaining: 19.6s\n",
      "751:\tlearn: 0.8855069\ttotal: 59.2s\tremaining: 19.5s\n",
      "752:\tlearn: 0.8854837\ttotal: 59.3s\tremaining: 19.4s\n",
      "753:\tlearn: 0.8854390\ttotal: 59.4s\tremaining: 19.4s\n",
      "754:\tlearn: 0.8854000\ttotal: 59.4s\tremaining: 19.3s\n",
      "755:\tlearn: 0.8853412\ttotal: 59.5s\tremaining: 19.2s\n",
      "756:\tlearn: 0.8853135\ttotal: 59.6s\tremaining: 19.1s\n",
      "757:\tlearn: 0.8852691\ttotal: 59.7s\tremaining: 19.1s\n",
      "758:\tlearn: 0.8852093\ttotal: 59.7s\tremaining: 19s\n",
      "759:\tlearn: 0.8851793\ttotal: 59.8s\tremaining: 18.9s\n",
      "760:\tlearn: 0.8851167\ttotal: 59.9s\tremaining: 18.8s\n",
      "761:\tlearn: 0.8850851\ttotal: 60s\tremaining: 18.7s\n",
      "762:\tlearn: 0.8850429\ttotal: 1m\tremaining: 18.7s\n",
      "763:\tlearn: 0.8849914\ttotal: 1m\tremaining: 18.6s\n",
      "764:\tlearn: 0.8849605\ttotal: 1m\tremaining: 18.5s\n",
      "765:\tlearn: 0.8849104\ttotal: 1m\tremaining: 18.4s\n",
      "766:\tlearn: 0.8848592\ttotal: 1m\tremaining: 18.3s\n",
      "767:\tlearn: 0.8848156\ttotal: 1m\tremaining: 18.3s\n",
      "768:\tlearn: 0.8847658\ttotal: 1m\tremaining: 18.2s\n",
      "769:\tlearn: 0.8847135\ttotal: 1m\tremaining: 18.1s\n",
      "770:\tlearn: 0.8846999\ttotal: 1m\tremaining: 18s\n",
      "771:\tlearn: 0.8846548\ttotal: 1m\tremaining: 17.9s\n",
      "772:\tlearn: 0.8846121\ttotal: 1m\tremaining: 17.9s\n",
      "773:\tlearn: 0.8845649\ttotal: 1m\tremaining: 17.8s\n",
      "774:\tlearn: 0.8845290\ttotal: 1m 1s\tremaining: 17.7s\n",
      "775:\tlearn: 0.8844886\ttotal: 1m 1s\tremaining: 17.6s\n",
      "776:\tlearn: 0.8844580\ttotal: 1m 1s\tremaining: 17.6s\n",
      "777:\tlearn: 0.8843968\ttotal: 1m 1s\tremaining: 17.5s\n",
      "778:\tlearn: 0.8843393\ttotal: 1m 1s\tremaining: 17.4s\n",
      "779:\tlearn: 0.8842830\ttotal: 1m 1s\tremaining: 17.3s\n",
      "780:\tlearn: 0.8842236\ttotal: 1m 1s\tremaining: 17.2s\n",
      "781:\tlearn: 0.8841899\ttotal: 1m 1s\tremaining: 17.2s\n",
      "782:\tlearn: 0.8841502\ttotal: 1m 1s\tremaining: 17.1s\n",
      "783:\tlearn: 0.8841176\ttotal: 1m 1s\tremaining: 17s\n",
      "784:\tlearn: 0.8840733\ttotal: 1m 1s\tremaining: 16.9s\n",
      "785:\tlearn: 0.8840139\ttotal: 1m 1s\tremaining: 16.9s\n",
      "786:\tlearn: 0.8839810\ttotal: 1m 1s\tremaining: 16.8s\n",
      "787:\tlearn: 0.8839368\ttotal: 1m 2s\tremaining: 16.7s\n",
      "788:\tlearn: 0.8838844\ttotal: 1m 2s\tremaining: 16.6s\n",
      "789:\tlearn: 0.8838431\ttotal: 1m 2s\tremaining: 16.5s\n",
      "790:\tlearn: 0.8837871\ttotal: 1m 2s\tremaining: 16.5s\n",
      "791:\tlearn: 0.8837487\ttotal: 1m 2s\tremaining: 16.4s\n",
      "792:\tlearn: 0.8837177\ttotal: 1m 2s\tremaining: 16.3s\n",
      "793:\tlearn: 0.8836568\ttotal: 1m 2s\tremaining: 16.2s\n",
      "794:\tlearn: 0.8835907\ttotal: 1m 2s\tremaining: 16.1s\n",
      "795:\tlearn: 0.8835654\ttotal: 1m 2s\tremaining: 16.1s\n",
      "796:\tlearn: 0.8835251\ttotal: 1m 2s\tremaining: 16s\n",
      "797:\tlearn: 0.8834537\ttotal: 1m 2s\tremaining: 15.9s\n",
      "798:\tlearn: 0.8834096\ttotal: 1m 2s\tremaining: 15.8s\n",
      "799:\tlearn: 0.8833414\ttotal: 1m 3s\tremaining: 15.8s\n"
     ]
    },
    {
     "name": "stdout",
     "output_type": "stream",
     "text": [
      "800:\tlearn: 0.8832933\ttotal: 1m 3s\tremaining: 15.7s\n",
      "801:\tlearn: 0.8832354\ttotal: 1m 3s\tremaining: 15.6s\n",
      "802:\tlearn: 0.8831935\ttotal: 1m 3s\tremaining: 15.5s\n",
      "803:\tlearn: 0.8831702\ttotal: 1m 3s\tremaining: 15.4s\n",
      "804:\tlearn: 0.8831343\ttotal: 1m 3s\tremaining: 15.4s\n",
      "805:\tlearn: 0.8830971\ttotal: 1m 3s\tremaining: 15.3s\n",
      "806:\tlearn: 0.8830496\ttotal: 1m 3s\tremaining: 15.2s\n",
      "807:\tlearn: 0.8830338\ttotal: 1m 3s\tremaining: 15.1s\n",
      "808:\tlearn: 0.8829952\ttotal: 1m 3s\tremaining: 15s\n",
      "809:\tlearn: 0.8829563\ttotal: 1m 3s\tremaining: 15s\n",
      "810:\tlearn: 0.8829133\ttotal: 1m 3s\tremaining: 14.9s\n",
      "811:\tlearn: 0.8828544\ttotal: 1m 3s\tremaining: 14.8s\n",
      "812:\tlearn: 0.8828293\ttotal: 1m 4s\tremaining: 14.7s\n",
      "813:\tlearn: 0.8828141\ttotal: 1m 4s\tremaining: 14.6s\n",
      "814:\tlearn: 0.8827731\ttotal: 1m 4s\tremaining: 14.6s\n",
      "815:\tlearn: 0.8827532\ttotal: 1m 4s\tremaining: 14.5s\n",
      "816:\tlearn: 0.8827095\ttotal: 1m 4s\tremaining: 14.4s\n",
      "817:\tlearn: 0.8826757\ttotal: 1m 4s\tremaining: 14.3s\n",
      "818:\tlearn: 0.8826265\ttotal: 1m 4s\tremaining: 14.2s\n",
      "819:\tlearn: 0.8825859\ttotal: 1m 4s\tremaining: 14.2s\n",
      "820:\tlearn: 0.8825454\ttotal: 1m 4s\tremaining: 14.1s\n",
      "821:\tlearn: 0.8824946\ttotal: 1m 4s\tremaining: 14s\n",
      "822:\tlearn: 0.8824500\ttotal: 1m 4s\tremaining: 13.9s\n",
      "823:\tlearn: 0.8824187\ttotal: 1m 4s\tremaining: 13.8s\n",
      "824:\tlearn: 0.8823719\ttotal: 1m 4s\tremaining: 13.8s\n",
      "825:\tlearn: 0.8823291\ttotal: 1m 4s\tremaining: 13.7s\n",
      "826:\tlearn: 0.8822978\ttotal: 1m 5s\tremaining: 13.6s\n",
      "827:\tlearn: 0.8822608\ttotal: 1m 5s\tremaining: 13.5s\n",
      "828:\tlearn: 0.8822425\ttotal: 1m 5s\tremaining: 13.5s\n",
      "829:\tlearn: 0.8822030\ttotal: 1m 5s\tremaining: 13.4s\n",
      "830:\tlearn: 0.8821553\ttotal: 1m 5s\tremaining: 13.3s\n",
      "831:\tlearn: 0.8821147\ttotal: 1m 5s\tremaining: 13.2s\n",
      "832:\tlearn: 0.8820720\ttotal: 1m 5s\tremaining: 13.1s\n",
      "833:\tlearn: 0.8820360\ttotal: 1m 5s\tremaining: 13.1s\n",
      "834:\tlearn: 0.8820033\ttotal: 1m 5s\tremaining: 13s\n",
      "835:\tlearn: 0.8819500\ttotal: 1m 5s\tremaining: 12.9s\n",
      "836:\tlearn: 0.8819045\ttotal: 1m 5s\tremaining: 12.8s\n",
      "837:\tlearn: 0.8818390\ttotal: 1m 5s\tremaining: 12.8s\n",
      "838:\tlearn: 0.8818079\ttotal: 1m 6s\tremaining: 12.7s\n",
      "839:\tlearn: 0.8817549\ttotal: 1m 6s\tremaining: 12.6s\n",
      "840:\tlearn: 0.8817152\ttotal: 1m 6s\tremaining: 12.5s\n",
      "841:\tlearn: 0.8816719\ttotal: 1m 6s\tremaining: 12.4s\n",
      "842:\tlearn: 0.8816249\ttotal: 1m 6s\tremaining: 12.4s\n",
      "843:\tlearn: 0.8815638\ttotal: 1m 6s\tremaining: 12.3s\n",
      "844:\tlearn: 0.8815372\ttotal: 1m 6s\tremaining: 12.2s\n",
      "845:\tlearn: 0.8815046\ttotal: 1m 6s\tremaining: 12.1s\n",
      "846:\tlearn: 0.8814670\ttotal: 1m 6s\tremaining: 12s\n",
      "847:\tlearn: 0.8814311\ttotal: 1m 6s\tremaining: 12s\n",
      "848:\tlearn: 0.8813970\ttotal: 1m 6s\tremaining: 11.9s\n",
      "849:\tlearn: 0.8813421\ttotal: 1m 6s\tremaining: 11.8s\n",
      "850:\tlearn: 0.8813115\ttotal: 1m 7s\tremaining: 11.7s\n",
      "851:\tlearn: 0.8812655\ttotal: 1m 7s\tremaining: 11.7s\n",
      "852:\tlearn: 0.8812128\ttotal: 1m 7s\tremaining: 11.6s\n",
      "853:\tlearn: 0.8811816\ttotal: 1m 7s\tremaining: 11.5s\n",
      "854:\tlearn: 0.8811385\ttotal: 1m 7s\tremaining: 11.4s\n",
      "855:\tlearn: 0.8810865\ttotal: 1m 7s\tremaining: 11.3s\n",
      "856:\tlearn: 0.8810429\ttotal: 1m 7s\tremaining: 11.3s\n",
      "857:\tlearn: 0.8809830\ttotal: 1m 7s\tremaining: 11.2s\n",
      "858:\tlearn: 0.8809301\ttotal: 1m 7s\tremaining: 11.1s\n",
      "859:\tlearn: 0.8808875\ttotal: 1m 7s\tremaining: 11s\n",
      "860:\tlearn: 0.8808707\ttotal: 1m 7s\tremaining: 10.9s\n",
      "861:\tlearn: 0.8808399\ttotal: 1m 7s\tremaining: 10.9s\n",
      "862:\tlearn: 0.8808123\ttotal: 1m 7s\tremaining: 10.8s\n",
      "863:\tlearn: 0.8807843\ttotal: 1m 8s\tremaining: 10.7s\n",
      "864:\tlearn: 0.8807560\ttotal: 1m 8s\tremaining: 10.6s\n",
      "865:\tlearn: 0.8807142\ttotal: 1m 8s\tremaining: 10.6s\n",
      "866:\tlearn: 0.8806841\ttotal: 1m 8s\tremaining: 10.5s\n",
      "867:\tlearn: 0.8806219\ttotal: 1m 8s\tremaining: 10.4s\n",
      "868:\tlearn: 0.8805972\ttotal: 1m 8s\tremaining: 10.3s\n",
      "869:\tlearn: 0.8805489\ttotal: 1m 8s\tremaining: 10.2s\n",
      "870:\tlearn: 0.8805008\ttotal: 1m 8s\tremaining: 10.2s\n",
      "871:\tlearn: 0.8804651\ttotal: 1m 8s\tremaining: 10.1s\n",
      "872:\tlearn: 0.8804242\ttotal: 1m 8s\tremaining: 10s\n",
      "873:\tlearn: 0.8803903\ttotal: 1m 8s\tremaining: 9.93s\n",
      "874:\tlearn: 0.8803600\ttotal: 1m 8s\tremaining: 9.85s\n",
      "875:\tlearn: 0.8803270\ttotal: 1m 9s\tremaining: 9.77s\n",
      "876:\tlearn: 0.8802725\ttotal: 1m 9s\tremaining: 9.69s\n",
      "877:\tlearn: 0.8802382\ttotal: 1m 9s\tremaining: 9.61s\n",
      "878:\tlearn: 0.8802056\ttotal: 1m 9s\tremaining: 9.53s\n",
      "879:\tlearn: 0.8801693\ttotal: 1m 9s\tremaining: 9.45s\n",
      "880:\tlearn: 0.8801250\ttotal: 1m 9s\tremaining: 9.37s\n",
      "881:\tlearn: 0.8801028\ttotal: 1m 9s\tremaining: 9.29s\n",
      "882:\tlearn: 0.8800836\ttotal: 1m 9s\tremaining: 9.21s\n",
      "883:\tlearn: 0.8800414\ttotal: 1m 9s\tremaining: 9.13s\n",
      "884:\tlearn: 0.8799981\ttotal: 1m 9s\tremaining: 9.05s\n",
      "885:\tlearn: 0.8799523\ttotal: 1m 9s\tremaining: 8.97s\n",
      "886:\tlearn: 0.8798930\ttotal: 1m 9s\tremaining: 8.89s\n",
      "887:\tlearn: 0.8798371\ttotal: 1m 9s\tremaining: 8.82s\n",
      "888:\tlearn: 0.8797911\ttotal: 1m 9s\tremaining: 8.74s\n",
      "889:\tlearn: 0.8797750\ttotal: 1m 10s\tremaining: 8.66s\n",
      "890:\tlearn: 0.8797288\ttotal: 1m 10s\tremaining: 8.58s\n",
      "891:\tlearn: 0.8796788\ttotal: 1m 10s\tremaining: 8.5s\n",
      "892:\tlearn: 0.8796446\ttotal: 1m 10s\tremaining: 8.42s\n",
      "893:\tlearn: 0.8796053\ttotal: 1m 10s\tremaining: 8.34s\n",
      "894:\tlearn: 0.8795663\ttotal: 1m 10s\tremaining: 8.26s\n",
      "895:\tlearn: 0.8795240\ttotal: 1m 10s\tremaining: 8.18s\n",
      "896:\tlearn: 0.8794853\ttotal: 1m 10s\tremaining: 8.11s\n",
      "897:\tlearn: 0.8794540\ttotal: 1m 10s\tremaining: 8.03s\n",
      "898:\tlearn: 0.8794111\ttotal: 1m 10s\tremaining: 7.95s\n",
      "899:\tlearn: 0.8793601\ttotal: 1m 10s\tremaining: 7.87s\n",
      "900:\tlearn: 0.8793122\ttotal: 1m 10s\tremaining: 7.79s\n",
      "901:\tlearn: 0.8792573\ttotal: 1m 10s\tremaining: 7.71s\n",
      "902:\tlearn: 0.8792172\ttotal: 1m 11s\tremaining: 7.63s\n",
      "903:\tlearn: 0.8791620\ttotal: 1m 11s\tremaining: 7.55s\n",
      "904:\tlearn: 0.8791194\ttotal: 1m 11s\tremaining: 7.47s\n",
      "905:\tlearn: 0.8790754\ttotal: 1m 11s\tremaining: 7.4s\n",
      "906:\tlearn: 0.8790380\ttotal: 1m 11s\tremaining: 7.32s\n",
      "907:\tlearn: 0.8789929\ttotal: 1m 11s\tremaining: 7.24s\n",
      "908:\tlearn: 0.8789559\ttotal: 1m 11s\tremaining: 7.16s\n",
      "909:\tlearn: 0.8789095\ttotal: 1m 11s\tremaining: 7.08s\n",
      "910:\tlearn: 0.8788723\ttotal: 1m 11s\tremaining: 7s\n",
      "911:\tlearn: 0.8788284\ttotal: 1m 11s\tremaining: 6.92s\n",
      "912:\tlearn: 0.8787915\ttotal: 1m 11s\tremaining: 6.84s\n",
      "913:\tlearn: 0.8787478\ttotal: 1m 11s\tremaining: 6.77s\n",
      "914:\tlearn: 0.8787048\ttotal: 1m 11s\tremaining: 6.69s\n",
      "915:\tlearn: 0.8786548\ttotal: 1m 12s\tremaining: 6.61s\n",
      "916:\tlearn: 0.8786241\ttotal: 1m 12s\tremaining: 6.53s\n",
      "917:\tlearn: 0.8785880\ttotal: 1m 12s\tremaining: 6.45s\n",
      "918:\tlearn: 0.8785457\ttotal: 1m 12s\tremaining: 6.37s\n",
      "919:\tlearn: 0.8785158\ttotal: 1m 12s\tremaining: 6.29s\n",
      "920:\tlearn: 0.8784653\ttotal: 1m 12s\tremaining: 6.21s\n",
      "921:\tlearn: 0.8784344\ttotal: 1m 12s\tremaining: 6.13s\n",
      "922:\tlearn: 0.8783984\ttotal: 1m 12s\tremaining: 6.05s\n",
      "923:\tlearn: 0.8783603\ttotal: 1m 12s\tremaining: 5.98s\n",
      "924:\tlearn: 0.8783478\ttotal: 1m 12s\tremaining: 5.9s\n",
      "925:\tlearn: 0.8783171\ttotal: 1m 12s\tremaining: 5.82s\n",
      "926:\tlearn: 0.8782679\ttotal: 1m 12s\tremaining: 5.74s\n",
      "927:\tlearn: 0.8782403\ttotal: 1m 12s\tremaining: 5.66s\n",
      "928:\tlearn: 0.8781993\ttotal: 1m 13s\tremaining: 5.58s\n",
      "929:\tlearn: 0.8781618\ttotal: 1m 13s\tremaining: 5.5s\n",
      "930:\tlearn: 0.8780947\ttotal: 1m 13s\tremaining: 5.43s\n",
      "931:\tlearn: 0.8780521\ttotal: 1m 13s\tremaining: 5.35s\n",
      "932:\tlearn: 0.8780244\ttotal: 1m 13s\tremaining: 5.27s\n",
      "933:\tlearn: 0.8780072\ttotal: 1m 13s\tremaining: 5.19s\n",
      "934:\tlearn: 0.8779583\ttotal: 1m 13s\tremaining: 5.11s\n",
      "935:\tlearn: 0.8779207\ttotal: 1m 13s\tremaining: 5.03s\n",
      "936:\tlearn: 0.8778831\ttotal: 1m 13s\tremaining: 4.96s\n",
      "937:\tlearn: 0.8778597\ttotal: 1m 13s\tremaining: 4.88s\n",
      "938:\tlearn: 0.8778058\ttotal: 1m 13s\tremaining: 4.8s\n",
      "939:\tlearn: 0.8777660\ttotal: 1m 13s\tremaining: 4.72s\n",
      "940:\tlearn: 0.8777277\ttotal: 1m 14s\tremaining: 4.64s\n",
      "941:\tlearn: 0.8776940\ttotal: 1m 14s\tremaining: 4.56s\n",
      "942:\tlearn: 0.8776561\ttotal: 1m 14s\tremaining: 4.48s\n",
      "943:\tlearn: 0.8776116\ttotal: 1m 14s\tremaining: 4.41s\n",
      "944:\tlearn: 0.8775772\ttotal: 1m 14s\tremaining: 4.33s\n",
      "945:\tlearn: 0.8775401\ttotal: 1m 14s\tremaining: 4.25s\n",
      "946:\tlearn: 0.8774951\ttotal: 1m 14s\tremaining: 4.17s\n",
      "947:\tlearn: 0.8774580\ttotal: 1m 14s\tremaining: 4.09s\n",
      "948:\tlearn: 0.8774155\ttotal: 1m 14s\tremaining: 4.01s\n",
      "949:\tlearn: 0.8773839\ttotal: 1m 14s\tremaining: 3.93s\n",
      "950:\tlearn: 0.8773253\ttotal: 1m 14s\tremaining: 3.85s\n",
      "951:\tlearn: 0.8772938\ttotal: 1m 14s\tremaining: 3.77s\n",
      "952:\tlearn: 0.8772446\ttotal: 1m 14s\tremaining: 3.7s\n",
      "953:\tlearn: 0.8772154\ttotal: 1m 15s\tremaining: 3.62s\n",
      "954:\tlearn: 0.8771532\ttotal: 1m 15s\tremaining: 3.54s\n",
      "955:\tlearn: 0.8771261\ttotal: 1m 15s\tremaining: 3.46s\n",
      "956:\tlearn: 0.8771104\ttotal: 1m 15s\tremaining: 3.38s\n",
      "957:\tlearn: 0.8770612\ttotal: 1m 15s\tremaining: 3.3s\n",
      "958:\tlearn: 0.8770413\ttotal: 1m 15s\tremaining: 3.22s\n"
     ]
    },
    {
     "name": "stdout",
     "output_type": "stream",
     "text": [
      "959:\tlearn: 0.8770207\ttotal: 1m 15s\tremaining: 3.15s\n",
      "960:\tlearn: 0.8769804\ttotal: 1m 15s\tremaining: 3.07s\n",
      "961:\tlearn: 0.8769478\ttotal: 1m 15s\tremaining: 2.99s\n",
      "962:\tlearn: 0.8769080\ttotal: 1m 15s\tremaining: 2.91s\n",
      "963:\tlearn: 0.8768542\ttotal: 1m 15s\tremaining: 2.83s\n",
      "964:\tlearn: 0.8768365\ttotal: 1m 15s\tremaining: 2.75s\n",
      "965:\tlearn: 0.8768037\ttotal: 1m 15s\tremaining: 2.67s\n",
      "966:\tlearn: 0.8767615\ttotal: 1m 16s\tremaining: 2.6s\n",
      "967:\tlearn: 0.8767238\ttotal: 1m 16s\tremaining: 2.52s\n",
      "968:\tlearn: 0.8766859\ttotal: 1m 16s\tremaining: 2.44s\n",
      "969:\tlearn: 0.8766436\ttotal: 1m 16s\tremaining: 2.36s\n",
      "970:\tlearn: 0.8766023\ttotal: 1m 16s\tremaining: 2.28s\n",
      "971:\tlearn: 0.8765407\ttotal: 1m 16s\tremaining: 2.2s\n",
      "972:\tlearn: 0.8764926\ttotal: 1m 16s\tremaining: 2.12s\n",
      "973:\tlearn: 0.8764264\ttotal: 1m 16s\tremaining: 2.05s\n",
      "974:\tlearn: 0.8763816\ttotal: 1m 16s\tremaining: 1.97s\n",
      "975:\tlearn: 0.8763427\ttotal: 1m 16s\tremaining: 1.89s\n",
      "976:\tlearn: 0.8763175\ttotal: 1m 16s\tremaining: 1.81s\n",
      "977:\tlearn: 0.8762866\ttotal: 1m 16s\tremaining: 1.73s\n",
      "978:\tlearn: 0.8762433\ttotal: 1m 17s\tremaining: 1.65s\n",
      "979:\tlearn: 0.8761829\ttotal: 1m 17s\tremaining: 1.57s\n",
      "980:\tlearn: 0.8761259\ttotal: 1m 17s\tremaining: 1.5s\n",
      "981:\tlearn: 0.8761075\ttotal: 1m 17s\tremaining: 1.42s\n",
      "982:\tlearn: 0.8760657\ttotal: 1m 17s\tremaining: 1.34s\n",
      "983:\tlearn: 0.8760156\ttotal: 1m 17s\tremaining: 1.26s\n",
      "984:\tlearn: 0.8759815\ttotal: 1m 17s\tremaining: 1.18s\n",
      "985:\tlearn: 0.8759309\ttotal: 1m 17s\tremaining: 1.1s\n",
      "986:\tlearn: 0.8759014\ttotal: 1m 17s\tremaining: 1.02s\n",
      "987:\tlearn: 0.8758556\ttotal: 1m 17s\tremaining: 945ms\n",
      "988:\tlearn: 0.8758249\ttotal: 1m 17s\tremaining: 866ms\n",
      "989:\tlearn: 0.8758004\ttotal: 1m 17s\tremaining: 787ms\n",
      "990:\tlearn: 0.8757762\ttotal: 1m 18s\tremaining: 709ms\n",
      "991:\tlearn: 0.8757533\ttotal: 1m 18s\tremaining: 630ms\n",
      "992:\tlearn: 0.8757102\ttotal: 1m 18s\tremaining: 551ms\n",
      "993:\tlearn: 0.8756630\ttotal: 1m 18s\tremaining: 472ms\n",
      "994:\tlearn: 0.8756186\ttotal: 1m 18s\tremaining: 394ms\n",
      "995:\tlearn: 0.8755802\ttotal: 1m 18s\tremaining: 315ms\n",
      "996:\tlearn: 0.8755360\ttotal: 1m 18s\tremaining: 236ms\n",
      "997:\tlearn: 0.8755028\ttotal: 1m 18s\tremaining: 157ms\n",
      "998:\tlearn: 0.8754638\ttotal: 1m 18s\tremaining: 78.7ms\n",
      "999:\tlearn: 0.8754109\ttotal: 1m 18s\tremaining: 0us\n"
     ]
    }
   ],
   "source": [
    "cat = cb.CatBoostClassifier()\n",
    "cat.fit(x1,y)\n",
    "prediction=cat.predict(test1)"
   ]
  },
  {
   "cell_type": "code",
   "execution_count": 340,
   "metadata": {},
   "outputs": [],
   "source": [
    "xgb=XGBClassifier()\n",
    "xgb.fit(x1,y)\n",
    "prediction=cat.predict(test1)"
   ]
  },
  {
   "cell_type": "code",
   "execution_count": null,
   "metadata": {},
   "outputs": [],
   "source": [
    "# Loading sample submission file"
   ]
  },
  {
   "cell_type": "code",
   "execution_count": 154,
   "metadata": {},
   "outputs": [],
   "source": [
    "sample=pd.read_csv(\"sample.csv\")"
   ]
  },
  {
   "cell_type": "code",
   "execution_count": null,
   "metadata": {},
   "outputs": [],
   "source": [
    "# converting prediction to dataframe"
   ]
  },
  {
   "cell_type": "code",
   "execution_count": 341,
   "metadata": {},
   "outputs": [],
   "source": [
    "pred=pd.DataFrame(prediction)"
   ]
  },
  {
   "cell_type": "code",
   "execution_count": 342,
   "metadata": {},
   "outputs": [],
   "source": [
    "pred.rename(columns={0:\"Interest_Rate\"},inplace=True)"
   ]
  },
  {
   "cell_type": "code",
   "execution_count": null,
   "metadata": {},
   "outputs": [],
   "source": [
    "del sample[\"Interest_Rate\"]"
   ]
  },
  {
   "cell_type": "code",
   "execution_count": null,
   "metadata": {},
   "outputs": [],
   "source": []
  },
  {
   "cell_type": "code",
   "execution_count": null,
   "metadata": {},
   "outputs": [],
   "source": [
    "# concating with sample file"
   ]
  },
  {
   "cell_type": "code",
   "execution_count": 343,
   "metadata": {},
   "outputs": [],
   "source": [
    "final_prediction=pd.concat([sample,pred],axis=1)"
   ]
  },
  {
   "cell_type": "code",
   "execution_count": null,
   "metadata": {},
   "outputs": [],
   "source": [
    "# converting to csv"
   ]
  },
  {
   "cell_type": "code",
   "execution_count": 344,
   "metadata": {},
   "outputs": [],
   "source": [
    "final_prediction.to_csv(\"MLB6.csv\",index=False)"
   ]
  },
  {
   "cell_type": "code",
   "execution_count": null,
   "metadata": {},
   "outputs": [],
   "source": []
  },
  {
   "cell_type": "code",
   "execution_count": null,
   "metadata": {},
   "outputs": [],
   "source": []
  },
  {
   "cell_type": "code",
   "execution_count": null,
   "metadata": {},
   "outputs": [],
   "source": []
  },
  {
   "cell_type": "code",
   "execution_count": null,
   "metadata": {},
   "outputs": [],
   "source": []
  },
  {
   "cell_type": "code",
   "execution_count": null,
   "metadata": {},
   "outputs": [],
   "source": []
  },
  {
   "cell_type": "code",
   "execution_count": null,
   "metadata": {},
   "outputs": [],
   "source": []
  },
  {
   "cell_type": "code",
   "execution_count": null,
   "metadata": {},
   "outputs": [],
   "source": []
  },
  {
   "cell_type": "code",
   "execution_count": null,
   "metadata": {},
   "outputs": [],
   "source": []
  },
  {
   "cell_type": "code",
   "execution_count": null,
   "metadata": {},
   "outputs": [],
   "source": []
  }
 ],
 "metadata": {
  "kernelspec": {
   "display_name": "Python 3",
   "language": "python",
   "name": "python3"
  },
  "language_info": {
   "codemirror_mode": {
    "name": "ipython",
    "version": 3
   },
   "file_extension": ".py",
   "mimetype": "text/x-python",
   "name": "python",
   "nbconvert_exporter": "python",
   "pygments_lexer": "ipython3",
   "version": "3.6.5"
  }
 },
 "nbformat": 4,
 "nbformat_minor": 2
}
